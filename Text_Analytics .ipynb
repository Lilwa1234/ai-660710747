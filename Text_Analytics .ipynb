{
  "nbformat": 4,
  "nbformat_minor": 0,
  "metadata": {
    "colab": {
      "provenance": [],
      "gpuType": "T4"
    },
    "kernelspec": {
      "name": "python3",
      "display_name": "Python 3"
    },
    "language_info": {
      "name": "python"
    },
    "accelerator": "GPU",
    "widgets": {
      "application/vnd.jupyter.widget-state+json": {
        "59f7c2c95d9a40f4bb2353f0bfdedd1a": {
          "model_module": "@jupyter-widgets/controls",
          "model_name": "FloatProgressModel",
          "model_module_version": "1.5.0",
          "state": {
            "_dom_classes": [],
            "_model_module": "@jupyter-widgets/controls",
            "_model_module_version": "1.5.0",
            "_model_name": "FloatProgressModel",
            "_view_count": null,
            "_view_module": "@jupyter-widgets/controls",
            "_view_module_version": "1.5.0",
            "_view_name": "ProgressView",
            "bar_style": "",
            "description": "",
            "description_tooltip": null,
            "layout": "IPY_MODEL_1b8dd14abb664c759685b0c18a700d06",
            "max": 100,
            "min": 0,
            "orientation": "horizontal",
            "style": "IPY_MODEL_c9b2777afc204980a4ed580b37f492e6",
            "value": 100
          }
        },
        "1b8dd14abb664c759685b0c18a700d06": {
          "model_module": "@jupyter-widgets/base",
          "model_name": "LayoutModel",
          "model_module_version": "1.2.0",
          "state": {
            "_model_module": "@jupyter-widgets/base",
            "_model_module_version": "1.2.0",
            "_model_name": "LayoutModel",
            "_view_count": null,
            "_view_module": "@jupyter-widgets/base",
            "_view_module_version": "1.2.0",
            "_view_name": "LayoutView",
            "align_content": null,
            "align_items": null,
            "align_self": null,
            "border": null,
            "bottom": null,
            "display": null,
            "flex": null,
            "flex_flow": null,
            "grid_area": null,
            "grid_auto_columns": null,
            "grid_auto_flow": null,
            "grid_auto_rows": null,
            "grid_column": null,
            "grid_gap": null,
            "grid_row": null,
            "grid_template_areas": null,
            "grid_template_columns": null,
            "grid_template_rows": null,
            "height": null,
            "justify_content": null,
            "justify_items": null,
            "left": null,
            "margin": null,
            "max_height": null,
            "max_width": null,
            "min_height": null,
            "min_width": null,
            "object_fit": null,
            "object_position": null,
            "order": null,
            "overflow": null,
            "overflow_x": null,
            "overflow_y": null,
            "padding": null,
            "right": null,
            "top": null,
            "visibility": null,
            "width": "auto"
          }
        },
        "c9b2777afc204980a4ed580b37f492e6": {
          "model_module": "@jupyter-widgets/controls",
          "model_name": "ProgressStyleModel",
          "model_module_version": "1.5.0",
          "state": {
            "_model_module": "@jupyter-widgets/controls",
            "_model_module_version": "1.5.0",
            "_model_name": "ProgressStyleModel",
            "_view_count": null,
            "_view_module": "@jupyter-widgets/base",
            "_view_module_version": "1.2.0",
            "_view_name": "StyleView",
            "bar_color": "black",
            "description_width": ""
          }
        }
      }
    }
  },
  "cells": [
    {
      "cell_type": "code",
      "execution_count": 1,
      "metadata": {
        "colab": {
          "base_uri": "https://localhost:8080/"
        },
        "id": "e6vRp5pepSO_",
        "outputId": "6165d477-7ffd-4a5b-a1c2-552828d31695"
      },
      "outputs": [
        {
          "output_type": "stream",
          "name": "stdout",
          "text": [
            "Collecting langchain-ollama\n",
            "  Downloading langchain_ollama-1.0.0-py3-none-any.whl.metadata (2.1 kB)\n",
            "Collecting langchain-openai\n",
            "  Downloading langchain_openai-1.0.0-py3-none-any.whl.metadata (1.8 kB)\n",
            "Collecting langchain-core<2.0.0,>=1.0.0 (from langchain-ollama)\n",
            "  Downloading langchain_core-1.0.0-py3-none-any.whl.metadata (3.4 kB)\n",
            "Collecting ollama<1.0.0,>=0.6.0 (from langchain-ollama)\n",
            "  Downloading ollama-0.6.0-py3-none-any.whl.metadata (4.3 kB)\n",
            "Requirement already satisfied: openai<3.0.0,>=1.109.1 in /usr/local/lib/python3.12/dist-packages (from langchain-openai) (1.109.1)\n",
            "Requirement already satisfied: tiktoken<1.0.0,>=0.7.0 in /usr/local/lib/python3.12/dist-packages (from langchain-openai) (0.12.0)\n",
            "Requirement already satisfied: jsonpatch<2.0.0,>=1.33.0 in /usr/local/lib/python3.12/dist-packages (from langchain-core<2.0.0,>=1.0.0->langchain-ollama) (1.33)\n",
            "Requirement already satisfied: langsmith<1.0.0,>=0.3.45 in /usr/local/lib/python3.12/dist-packages (from langchain-core<2.0.0,>=1.0.0->langchain-ollama) (0.4.35)\n",
            "Requirement already satisfied: packaging<26.0.0,>=23.2.0 in /usr/local/lib/python3.12/dist-packages (from langchain-core<2.0.0,>=1.0.0->langchain-ollama) (25.0)\n",
            "Requirement already satisfied: pydantic<3.0.0,>=2.7.4 in /usr/local/lib/python3.12/dist-packages (from langchain-core<2.0.0,>=1.0.0->langchain-ollama) (2.11.10)\n",
            "Requirement already satisfied: pyyaml<7.0.0,>=5.3.0 in /usr/local/lib/python3.12/dist-packages (from langchain-core<2.0.0,>=1.0.0->langchain-ollama) (6.0.3)\n",
            "Requirement already satisfied: tenacity!=8.4.0,<10.0.0,>=8.1.0 in /usr/local/lib/python3.12/dist-packages (from langchain-core<2.0.0,>=1.0.0->langchain-ollama) (8.5.0)\n",
            "Requirement already satisfied: typing-extensions<5.0.0,>=4.7.0 in /usr/local/lib/python3.12/dist-packages (from langchain-core<2.0.0,>=1.0.0->langchain-ollama) (4.15.0)\n",
            "Requirement already satisfied: httpx>=0.27 in /usr/local/lib/python3.12/dist-packages (from ollama<1.0.0,>=0.6.0->langchain-ollama) (0.28.1)\n",
            "Requirement already satisfied: anyio<5,>=3.5.0 in /usr/local/lib/python3.12/dist-packages (from openai<3.0.0,>=1.109.1->langchain-openai) (4.11.0)\n",
            "Requirement already satisfied: distro<2,>=1.7.0 in /usr/local/lib/python3.12/dist-packages (from openai<3.0.0,>=1.109.1->langchain-openai) (1.9.0)\n",
            "Requirement already satisfied: jiter<1,>=0.4.0 in /usr/local/lib/python3.12/dist-packages (from openai<3.0.0,>=1.109.1->langchain-openai) (0.11.0)\n",
            "Requirement already satisfied: sniffio in /usr/local/lib/python3.12/dist-packages (from openai<3.0.0,>=1.109.1->langchain-openai) (1.3.1)\n",
            "Requirement already satisfied: tqdm>4 in /usr/local/lib/python3.12/dist-packages (from openai<3.0.0,>=1.109.1->langchain-openai) (4.67.1)\n",
            "Requirement already satisfied: regex>=2022.1.18 in /usr/local/lib/python3.12/dist-packages (from tiktoken<1.0.0,>=0.7.0->langchain-openai) (2024.11.6)\n",
            "Requirement already satisfied: requests>=2.26.0 in /usr/local/lib/python3.12/dist-packages (from tiktoken<1.0.0,>=0.7.0->langchain-openai) (2.32.4)\n",
            "Requirement already satisfied: idna>=2.8 in /usr/local/lib/python3.12/dist-packages (from anyio<5,>=3.5.0->openai<3.0.0,>=1.109.1->langchain-openai) (3.11)\n",
            "Requirement already satisfied: certifi in /usr/local/lib/python3.12/dist-packages (from httpx>=0.27->ollama<1.0.0,>=0.6.0->langchain-ollama) (2025.10.5)\n",
            "Requirement already satisfied: httpcore==1.* in /usr/local/lib/python3.12/dist-packages (from httpx>=0.27->ollama<1.0.0,>=0.6.0->langchain-ollama) (1.0.9)\n",
            "Requirement already satisfied: h11>=0.16 in /usr/local/lib/python3.12/dist-packages (from httpcore==1.*->httpx>=0.27->ollama<1.0.0,>=0.6.0->langchain-ollama) (0.16.0)\n",
            "Requirement already satisfied: jsonpointer>=1.9 in /usr/local/lib/python3.12/dist-packages (from jsonpatch<2.0.0,>=1.33.0->langchain-core<2.0.0,>=1.0.0->langchain-ollama) (3.0.0)\n",
            "Requirement already satisfied: orjson>=3.9.14 in /usr/local/lib/python3.12/dist-packages (from langsmith<1.0.0,>=0.3.45->langchain-core<2.0.0,>=1.0.0->langchain-ollama) (3.11.3)\n",
            "Requirement already satisfied: requests-toolbelt>=1.0.0 in /usr/local/lib/python3.12/dist-packages (from langsmith<1.0.0,>=0.3.45->langchain-core<2.0.0,>=1.0.0->langchain-ollama) (1.0.0)\n",
            "Requirement already satisfied: zstandard>=0.23.0 in /usr/local/lib/python3.12/dist-packages (from langsmith<1.0.0,>=0.3.45->langchain-core<2.0.0,>=1.0.0->langchain-ollama) (0.25.0)\n",
            "Requirement already satisfied: annotated-types>=0.6.0 in /usr/local/lib/python3.12/dist-packages (from pydantic<3.0.0,>=2.7.4->langchain-core<2.0.0,>=1.0.0->langchain-ollama) (0.7.0)\n",
            "Requirement already satisfied: pydantic-core==2.33.2 in /usr/local/lib/python3.12/dist-packages (from pydantic<3.0.0,>=2.7.4->langchain-core<2.0.0,>=1.0.0->langchain-ollama) (2.33.2)\n",
            "Requirement already satisfied: typing-inspection>=0.4.0 in /usr/local/lib/python3.12/dist-packages (from pydantic<3.0.0,>=2.7.4->langchain-core<2.0.0,>=1.0.0->langchain-ollama) (0.4.2)\n",
            "Requirement already satisfied: charset_normalizer<4,>=2 in /usr/local/lib/python3.12/dist-packages (from requests>=2.26.0->tiktoken<1.0.0,>=0.7.0->langchain-openai) (3.4.4)\n",
            "Requirement already satisfied: urllib3<3,>=1.21.1 in /usr/local/lib/python3.12/dist-packages (from requests>=2.26.0->tiktoken<1.0.0,>=0.7.0->langchain-openai) (2.5.0)\n",
            "Downloading langchain_ollama-1.0.0-py3-none-any.whl (29 kB)\n",
            "Downloading langchain_openai-1.0.0-py3-none-any.whl (80 kB)\n",
            "\u001b[2K   \u001b[90m━━━━━━━━━━━━━━━━━━━━━━━━━━━━━━━━━━━━━━━━\u001b[0m \u001b[32m80.5/80.5 kB\u001b[0m \u001b[31m3.7 MB/s\u001b[0m eta \u001b[36m0:00:00\u001b[0m\n",
            "\u001b[?25hDownloading langchain_core-1.0.0-py3-none-any.whl (467 kB)\n",
            "\u001b[2K   \u001b[90m━━━━━━━━━━━━━━━━━━━━━━━━━━━━━━━━━━━━━━━━\u001b[0m \u001b[32m467.2/467.2 kB\u001b[0m \u001b[31m24.0 MB/s\u001b[0m eta \u001b[36m0:00:00\u001b[0m\n",
            "\u001b[?25hDownloading ollama-0.6.0-py3-none-any.whl (14 kB)\n",
            "Installing collected packages: ollama, langchain-core, langchain-openai, langchain-ollama\n",
            "  Attempting uninstall: langchain-core\n",
            "    Found existing installation: langchain-core 0.3.79\n",
            "    Uninstalling langchain-core-0.3.79:\n",
            "      Successfully uninstalled langchain-core-0.3.79\n",
            "\u001b[31mERROR: pip's dependency resolver does not currently take into account all the packages that are installed. This behaviour is the source of the following dependency conflicts.\n",
            "langchain 0.3.27 requires langchain-core<1.0.0,>=0.3.72, but you have langchain-core 1.0.0 which is incompatible.\u001b[0m\u001b[31m\n",
            "\u001b[0mSuccessfully installed langchain-core-1.0.0 langchain-ollama-1.0.0 langchain-openai-1.0.0 ollama-0.6.0\n"
          ]
        }
      ],
      "source": [
        "!pip install -U langchain-ollama langchain-openai"
      ]
    },
    {
      "cell_type": "code",
      "source": [
        "from google.colab import drive\n",
        "drive.mount('/content/drive')"
      ],
      "metadata": {
        "colab": {
          "base_uri": "https://localhost:8080/"
        },
        "id": "_Kk4rOUdv3SI",
        "outputId": "8d5ed9ac-2437-42dc-e1cf-59eba3d8ce4b"
      },
      "execution_count": 2,
      "outputs": [
        {
          "output_type": "stream",
          "name": "stdout",
          "text": [
            "Mounted at /content/drive\n"
          ]
        }
      ]
    },
    {
      "cell_type": "code",
      "source": [
        "!ls /content/drive/MyDrive/DST/review_dataset"
      ],
      "metadata": {
        "colab": {
          "base_uri": "https://localhost:8080/"
        },
        "id": "VZ9uinTYv-5O",
        "outputId": "71f9c468-cf61-41cd-f775-6843b9ee178b"
      },
      "execution_count": 3,
      "outputs": [
        {
          "output_type": "stream",
          "name": "stdout",
          "text": [
            "w_review_train.csv  w_review_train.parquet\n"
          ]
        }
      ]
    },
    {
      "cell_type": "code",
      "source": [
        "import duckdb\n",
        "\n",
        "con = duckdb.connect(database=':memory:', read_only=False)"
      ],
      "metadata": {
        "id": "ubXmFSN5xl51"
      },
      "execution_count": 4,
      "outputs": []
    },
    {
      "cell_type": "code",
      "source": [
        "df = con.execute(\"SELECT * FROM read_csv_auto('/content/drive/MyDrive/DST/review_dataset/w_review_train.csv', parallel=false, encoding='UTF-8', ignore_errors=true)\").fetchdf()\n",
        "\n",
        "df.head()"
      ],
      "metadata": {
        "colab": {
          "base_uri": "https://localhost:8080/",
          "height": 206
        },
        "id": "C9Kro5-8xmMN",
        "outputId": "b34b3be6-cdd4-46e6-b891-ebebd256fd0b"
      },
      "execution_count": 5,
      "outputs": [
        {
          "output_type": "execute_result",
          "data": {
            "text/plain": [
              "                                             column0  column1\n",
              "0  ร้านอาหารใหญ่มากกกกกกก \\nเลี้ยวเข้ามาเจอห้องน้...        3\n",
              "1  อาหารที่นี่เป็นอาหารจีนแคะที่หากินยากในบ้านเรา...        4\n",
              "2  ปอเปี๊ยะสด ทุกวันนี้รู้สึกว่าหากินยาก (ร้านที่...        3\n",
              "3  รัานคัพเค้กในเมืองไทยมีไม่มาก หลายๆคนอาจจะสงสั...        5\n",
              "4  อร่อย!!! เดินผ่านDigital gatewayทุกวัน ไม่ยักร...        5"
            ],
            "text/html": [
              "\n",
              "  <div id=\"df-3bdcd428-de0b-428f-88ea-c3a1da9bb269\" class=\"colab-df-container\">\n",
              "    <div>\n",
              "<style scoped>\n",
              "    .dataframe tbody tr th:only-of-type {\n",
              "        vertical-align: middle;\n",
              "    }\n",
              "\n",
              "    .dataframe tbody tr th {\n",
              "        vertical-align: top;\n",
              "    }\n",
              "\n",
              "    .dataframe thead th {\n",
              "        text-align: right;\n",
              "    }\n",
              "</style>\n",
              "<table border=\"1\" class=\"dataframe\">\n",
              "  <thead>\n",
              "    <tr style=\"text-align: right;\">\n",
              "      <th></th>\n",
              "      <th>column0</th>\n",
              "      <th>column1</th>\n",
              "    </tr>\n",
              "  </thead>\n",
              "  <tbody>\n",
              "    <tr>\n",
              "      <th>0</th>\n",
              "      <td>ร้านอาหารใหญ่มากกกกกกก \\nเลี้ยวเข้ามาเจอห้องน้...</td>\n",
              "      <td>3</td>\n",
              "    </tr>\n",
              "    <tr>\n",
              "      <th>1</th>\n",
              "      <td>อาหารที่นี่เป็นอาหารจีนแคะที่หากินยากในบ้านเรา...</td>\n",
              "      <td>4</td>\n",
              "    </tr>\n",
              "    <tr>\n",
              "      <th>2</th>\n",
              "      <td>ปอเปี๊ยะสด ทุกวันนี้รู้สึกว่าหากินยาก (ร้านที่...</td>\n",
              "      <td>3</td>\n",
              "    </tr>\n",
              "    <tr>\n",
              "      <th>3</th>\n",
              "      <td>รัานคัพเค้กในเมืองไทยมีไม่มาก หลายๆคนอาจจะสงสั...</td>\n",
              "      <td>5</td>\n",
              "    </tr>\n",
              "    <tr>\n",
              "      <th>4</th>\n",
              "      <td>อร่อย!!! เดินผ่านDigital gatewayทุกวัน ไม่ยักร...</td>\n",
              "      <td>5</td>\n",
              "    </tr>\n",
              "  </tbody>\n",
              "</table>\n",
              "</div>\n",
              "    <div class=\"colab-df-buttons\">\n",
              "\n",
              "  <div class=\"colab-df-container\">\n",
              "    <button class=\"colab-df-convert\" onclick=\"convertToInteractive('df-3bdcd428-de0b-428f-88ea-c3a1da9bb269')\"\n",
              "            title=\"Convert this dataframe to an interactive table.\"\n",
              "            style=\"display:none;\">\n",
              "\n",
              "  <svg xmlns=\"http://www.w3.org/2000/svg\" height=\"24px\" viewBox=\"0 -960 960 960\">\n",
              "    <path d=\"M120-120v-720h720v720H120Zm60-500h600v-160H180v160Zm220 220h160v-160H400v160Zm0 220h160v-160H400v160ZM180-400h160v-160H180v160Zm440 0h160v-160H620v160ZM180-180h160v-160H180v160Zm440 0h160v-160H620v160Z\"/>\n",
              "  </svg>\n",
              "    </button>\n",
              "\n",
              "  <style>\n",
              "    .colab-df-container {\n",
              "      display:flex;\n",
              "      gap: 12px;\n",
              "    }\n",
              "\n",
              "    .colab-df-convert {\n",
              "      background-color: #E8F0FE;\n",
              "      border: none;\n",
              "      border-radius: 50%;\n",
              "      cursor: pointer;\n",
              "      display: none;\n",
              "      fill: #1967D2;\n",
              "      height: 32px;\n",
              "      padding: 0 0 0 0;\n",
              "      width: 32px;\n",
              "    }\n",
              "\n",
              "    .colab-df-convert:hover {\n",
              "      background-color: #E2EBFA;\n",
              "      box-shadow: 0px 1px 2px rgba(60, 64, 67, 0.3), 0px 1px 3px 1px rgba(60, 64, 67, 0.15);\n",
              "      fill: #174EA6;\n",
              "    }\n",
              "\n",
              "    .colab-df-buttons div {\n",
              "      margin-bottom: 4px;\n",
              "    }\n",
              "\n",
              "    [theme=dark] .colab-df-convert {\n",
              "      background-color: #3B4455;\n",
              "      fill: #D2E3FC;\n",
              "    }\n",
              "\n",
              "    [theme=dark] .colab-df-convert:hover {\n",
              "      background-color: #434B5C;\n",
              "      box-shadow: 0px 1px 3px 1px rgba(0, 0, 0, 0.15);\n",
              "      filter: drop-shadow(0px 1px 2px rgba(0, 0, 0, 0.3));\n",
              "      fill: #FFFFFF;\n",
              "    }\n",
              "  </style>\n",
              "\n",
              "    <script>\n",
              "      const buttonEl =\n",
              "        document.querySelector('#df-3bdcd428-de0b-428f-88ea-c3a1da9bb269 button.colab-df-convert');\n",
              "      buttonEl.style.display =\n",
              "        google.colab.kernel.accessAllowed ? 'block' : 'none';\n",
              "\n",
              "      async function convertToInteractive(key) {\n",
              "        const element = document.querySelector('#df-3bdcd428-de0b-428f-88ea-c3a1da9bb269');\n",
              "        const dataTable =\n",
              "          await google.colab.kernel.invokeFunction('convertToInteractive',\n",
              "                                                    [key], {});\n",
              "        if (!dataTable) return;\n",
              "\n",
              "        const docLinkHtml = 'Like what you see? Visit the ' +\n",
              "          '<a target=\"_blank\" href=https://colab.research.google.com/notebooks/data_table.ipynb>data table notebook</a>'\n",
              "          + ' to learn more about interactive tables.';\n",
              "        element.innerHTML = '';\n",
              "        dataTable['output_type'] = 'display_data';\n",
              "        await google.colab.output.renderOutput(dataTable, element);\n",
              "        const docLink = document.createElement('div');\n",
              "        docLink.innerHTML = docLinkHtml;\n",
              "        element.appendChild(docLink);\n",
              "      }\n",
              "    </script>\n",
              "  </div>\n",
              "\n",
              "\n",
              "    <div id=\"df-973b281e-65e6-4d03-843f-b7a2c6c43f50\">\n",
              "      <button class=\"colab-df-quickchart\" onclick=\"quickchart('df-973b281e-65e6-4d03-843f-b7a2c6c43f50')\"\n",
              "                title=\"Suggest charts\"\n",
              "                style=\"display:none;\">\n",
              "\n",
              "<svg xmlns=\"http://www.w3.org/2000/svg\" height=\"24px\"viewBox=\"0 0 24 24\"\n",
              "     width=\"24px\">\n",
              "    <g>\n",
              "        <path d=\"M19 3H5c-1.1 0-2 .9-2 2v14c0 1.1.9 2 2 2h14c1.1 0 2-.9 2-2V5c0-1.1-.9-2-2-2zM9 17H7v-7h2v7zm4 0h-2V7h2v10zm4 0h-2v-4h2v4z\"/>\n",
              "    </g>\n",
              "</svg>\n",
              "      </button>\n",
              "\n",
              "<style>\n",
              "  .colab-df-quickchart {\n",
              "      --bg-color: #E8F0FE;\n",
              "      --fill-color: #1967D2;\n",
              "      --hover-bg-color: #E2EBFA;\n",
              "      --hover-fill-color: #174EA6;\n",
              "      --disabled-fill-color: #AAA;\n",
              "      --disabled-bg-color: #DDD;\n",
              "  }\n",
              "\n",
              "  [theme=dark] .colab-df-quickchart {\n",
              "      --bg-color: #3B4455;\n",
              "      --fill-color: #D2E3FC;\n",
              "      --hover-bg-color: #434B5C;\n",
              "      --hover-fill-color: #FFFFFF;\n",
              "      --disabled-bg-color: #3B4455;\n",
              "      --disabled-fill-color: #666;\n",
              "  }\n",
              "\n",
              "  .colab-df-quickchart {\n",
              "    background-color: var(--bg-color);\n",
              "    border: none;\n",
              "    border-radius: 50%;\n",
              "    cursor: pointer;\n",
              "    display: none;\n",
              "    fill: var(--fill-color);\n",
              "    height: 32px;\n",
              "    padding: 0;\n",
              "    width: 32px;\n",
              "  }\n",
              "\n",
              "  .colab-df-quickchart:hover {\n",
              "    background-color: var(--hover-bg-color);\n",
              "    box-shadow: 0 1px 2px rgba(60, 64, 67, 0.3), 0 1px 3px 1px rgba(60, 64, 67, 0.15);\n",
              "    fill: var(--button-hover-fill-color);\n",
              "  }\n",
              "\n",
              "  .colab-df-quickchart-complete:disabled,\n",
              "  .colab-df-quickchart-complete:disabled:hover {\n",
              "    background-color: var(--disabled-bg-color);\n",
              "    fill: var(--disabled-fill-color);\n",
              "    box-shadow: none;\n",
              "  }\n",
              "\n",
              "  .colab-df-spinner {\n",
              "    border: 2px solid var(--fill-color);\n",
              "    border-color: transparent;\n",
              "    border-bottom-color: var(--fill-color);\n",
              "    animation:\n",
              "      spin 1s steps(1) infinite;\n",
              "  }\n",
              "\n",
              "  @keyframes spin {\n",
              "    0% {\n",
              "      border-color: transparent;\n",
              "      border-bottom-color: var(--fill-color);\n",
              "      border-left-color: var(--fill-color);\n",
              "    }\n",
              "    20% {\n",
              "      border-color: transparent;\n",
              "      border-left-color: var(--fill-color);\n",
              "      border-top-color: var(--fill-color);\n",
              "    }\n",
              "    30% {\n",
              "      border-color: transparent;\n",
              "      border-left-color: var(--fill-color);\n",
              "      border-top-color: var(--fill-color);\n",
              "      border-right-color: var(--fill-color);\n",
              "    }\n",
              "    40% {\n",
              "      border-color: transparent;\n",
              "      border-right-color: var(--fill-color);\n",
              "      border-top-color: var(--fill-color);\n",
              "    }\n",
              "    60% {\n",
              "      border-color: transparent;\n",
              "      border-right-color: var(--fill-color);\n",
              "    }\n",
              "    80% {\n",
              "      border-color: transparent;\n",
              "      border-right-color: var(--fill-color);\n",
              "      border-bottom-color: var(--fill-color);\n",
              "    }\n",
              "    90% {\n",
              "      border-color: transparent;\n",
              "      border-bottom-color: var(--fill-color);\n",
              "    }\n",
              "  }\n",
              "</style>\n",
              "\n",
              "      <script>\n",
              "        async function quickchart(key) {\n",
              "          const quickchartButtonEl =\n",
              "            document.querySelector('#' + key + ' button');\n",
              "          quickchartButtonEl.disabled = true;  // To prevent multiple clicks.\n",
              "          quickchartButtonEl.classList.add('colab-df-spinner');\n",
              "          try {\n",
              "            const charts = await google.colab.kernel.invokeFunction(\n",
              "                'suggestCharts', [key], {});\n",
              "          } catch (error) {\n",
              "            console.error('Error during call to suggestCharts:', error);\n",
              "          }\n",
              "          quickchartButtonEl.classList.remove('colab-df-spinner');\n",
              "          quickchartButtonEl.classList.add('colab-df-quickchart-complete');\n",
              "        }\n",
              "        (() => {\n",
              "          let quickchartButtonEl =\n",
              "            document.querySelector('#df-973b281e-65e6-4d03-843f-b7a2c6c43f50 button');\n",
              "          quickchartButtonEl.style.display =\n",
              "            google.colab.kernel.accessAllowed ? 'block' : 'none';\n",
              "        })();\n",
              "      </script>\n",
              "    </div>\n",
              "\n",
              "    </div>\n",
              "  </div>\n"
            ],
            "application/vnd.google.colaboratory.intrinsic+json": {
              "type": "dataframe",
              "variable_name": "df",
              "summary": "{\n  \"name\": \"df\",\n  \"rows\": 40000,\n  \"fields\": [\n    {\n      \"column\": \"column0\",\n      \"properties\": {\n        \"dtype\": \"string\",\n        \"num_unique_values\": 39993,\n        \"samples\": [\n          \"\\u0e40\\u0e04\\u0e22\\u0e21\\u0e32\\u0e23\\u0e49\\u0e32\\u0e19\\u0e19\\u0e35\\u0e492\\u0e04\\u0e23\\u0e31\\u0e49\\u0e07\\u0e41\\u0e23\\u0e30 \\u0e23\\u0e49\\u0e32\\u0e19\\u0e2d\\u0e22\\u0e39\\u0e48\\u0e1b\\u0e32\\u0e01\\u0e17\\u0e32\\u0e07\\u0e25\\u0e32\\u0e14\\u0e1e\\u0e23\\u0e49\\u0e32\\u0e27 \\u0e16\\u0e19\\u0e19\\u0e27\\u0e34\\u0e20\\u0e32\\u0e27\\u0e14\\u0e35\\u0e23\\u0e31\\u0e07\\u0e2a\\u0e34\\u0e15 \\u0e15\\u0e34\\u0e14\\u0e43\\u0e08\\u0e23\\u0e2a\\u0e0a\\u0e32\\u0e15\\u0e34\\u0e2d\\u0e32\\u0e2b\\u0e32\\u0e23\\u0e1a\\u0e23\\u0e23\\u0e22\\u0e32\\u0e01\\u0e32\\u0e28\\u0e22\\u0e49\\u0e2d\\u0e19\\u0e22\\u0e38\\u0e04 60s \\u0e23\\u0e49\\u0e32\\u0e19\\u0e08\\u0e30\\u0e40\\u0e15\\u0e47\\u0e21\\u0e44\\u0e1b\\u0e14\\u0e49\\u0e27\\u0e22\\u0e41\\u0e1c\\u0e48\\u0e19\\u0e40\\u0e2a\\u0e35\\u0e22\\u0e07\\u0e41\\u0e1b\\u0e30\\u0e46\\u0e23\\u0e2d\\u0e1a\\u0e23\\u0e49\\u0e32\\u0e19\\u0e41\\u0e25\\u0e30\\u0e40\\u0e04\\u0e23\\u0e37\\u0e48\\u0e2d\\u0e07\\u0e40\\u0e2a\\u0e35\\u0e22\\u0e07 \\u0e02\\u0e2d\\u0e07\\u0e40\\u0e01\\u0e48\\u0e32 \\u0e23\\u0e49\\u0e32\\u0e19\\u0e21\\u0e35\\u0e42\\u0e15\\u0e4a\\u0e30\\u0e17\\u0e35\\u0e48\\u0e0a\\u0e31\\u0e49\\u0e19\\u0e25\\u0e2d\\u0e22\\u0e14\\u0e49\\u0e27\\u0e22 \\u0e04\\u0e19\\u0e41\\u0e19\\u0e48\\u0e19\\u0e23\\u0e49\\u0e32\\u0e19\\u0e15\\u0e25\\u0e2d\\u0e14 \\u0e21\\u0e35\\u0e0a\\u0e32\\u0e27\\u0e15\\u0e48\\u0e32\\u0e07\\u0e0a\\u0e32\\u0e15\\u0e34\\u0e14\\u0e49\\u0e27\\u0e22\",\n          \"\\u0e2a\\u0e32\\u0e02\\u0e32\\u0e19\\u0e35\\u0e49\\u0e40\\u0e1b\\u0e47\\u0e19\\u0e41\\u0e1a\\u0e1a\\u0e19\\u0e35\\u0e49\\u0e17\\u0e38\\u0e01\\u0e17\\u0e35\\u0e44\\u0e21\\u0e48\\u0e40\\u0e02\\u0e49\\u0e32\\u0e43\\u0e08\\u0e40\\u0e25\\u0e22\\n\\u0e23\\u0e31\\u0e01\\u0e41\\u0e1a\\u0e23\\u0e19\\u0e14\\u0e4c\\u0e08\\u0e36\\u0e07\\u0e2d\\u0e14\\u0e15\\u0e33\\u0e2b\\u0e19\\u0e34\\u0e44\\u0e21\\u0e48\\u0e44\\u0e14\\u0e49\\n\\n\\u0e21\\u0e32\\u0e01\\u0e34\\u0e19 Zen \\u0e17\\u0e35\\u0e48\\u0e40\\u0e0b\\u0e47\\u0e19\\u0e17\\u0e23\\u0e31\\u0e25\\u0e25\\u0e32\\u0e14\\u0e1e\\u0e23\\u0e49\\u0e32\\u0e27\\u0e17\\u0e35\\u0e44\\u0e23\\u0e23\\u0e39\\u0e49\\u0e2a\\u0e36\\u0e01\\u0e02\\u0e2d\\u0e07\\u0e44\\u0e21\\u0e48\\u0e2a\\u0e14\\n\\u0e01\\u0e34\\u0e19\\u0e17\\u0e35\\u0e48\\u0e1f\\u0e34\\u0e27\\u0e40\\u0e08\\u0e2d\\u0e23\\u0e4c\\u0e23\\u0e31\\u0e07\\u0e2a\\u0e34\\u0e15\\u0e2a\\u0e14\\u0e01\\u0e27\\u0e48\\u0e32\\u0e21\\u0e32\\u0e01\\u0e46\\n\\n\\u0e2a\\u0e31\\u0e48\\u0e07\\u0e44\\u0e1b\\u0e2b\\u0e25\\u0e32\\u0e22\\u0e2d\\u0e22\\u0e48\\u0e32\\u0e07\\u0e04\\u0e48\\u0e30\\n\\u0e42\\u0e0b\\u0e30\\u0e1a\\u0e30\\u0e40\\u0e17\\u0e21\\u0e1b\\u0e38\\u0e23\\u0e30 \\u0e01\\u0e38\\u0e49\\u0e07\\u0e2a\\u0e2d\\u0e07\\u0e15\\u0e31\\u0e27 \\u0e19\\u0e49\\u0e33\\u0e0b\\u0e38\\u0e1b\\u0e23\\u0e49\\u0e2d\\u0e19 \\u0e2d\\u0e2d\\u0e01\\u0e2b\\u0e27\\u0e32\\u0e19 \\u0e01\\u0e34\\u0e19\\u0e44\\u0e14\\u0e49\\n\\u0e2b\\u0e21\\u0e36\\u0e01\\u0e22\\u0e33 \\u0e17\\u0e35\\u0e48\\u0e40\\u0e1b\\u0e47\\u0e19\\u0e40\\u0e04\\u0e23\\u0e37\\u0e48\\u0e2d\\u0e07\\u0e40\\u0e04\\u0e35\\u0e22\\u0e07 \\u0e2b\\u0e21\\u0e36\\u0e01\\u0e01\\u0e23\\u0e38\\u0e1a\\u0e46 \\u0e2d\\u0e2d\\u0e01\\u0e2b\\u0e27\\u0e32\\u0e19\\u0e19\\u0e34\\u0e14\\u0e46 \\u0e23\\u0e2a\\u0e0a\\u0e32\\u0e15\\u0e34\\u0e1e\\u0e2d\\u0e43\\u0e0a\\u0e49\\n\\u0e22\\u0e33\\u0e2a\\u0e32\\u0e2b\\u0e23\\u0e48\\u0e32\\u0e22 \\u0e21\\u0e32\\u0e15\\u0e23\\u0e10\\u0e32\\u0e19\\u0e17\\u0e31\\u0e48\\u0e27\\u0e44\\u0e1b\\n\\u0e41\\u0e0b\\u0e25\\u0e21\\u0e2d\\u0e19\\u0e22\\u0e33\\u0e44\\u0e17\\u0e22 \\u0e17\\u0e35\\u0e48\\u0e19\\u0e35\\u0e48\\u0e43\\u0e2b\\u0e49\\u0e2b\\u0e19\\u0e31\\u0e07\\u0e40\\u0e22\\u0e2d\\u0e30 \\u0e40\\u0e19\\u0e37\\u0e49\\u0e2d\\u0e1b\\u0e25\\u0e32\\u0e2b\\u0e31\\u0e32\\u0e19\\u0e40\\u0e15\\u0e4b\\u0e32\\u0e41\\u0e15\\u0e48\\u0e44\\u0e21\\u0e48\\u0e04\\u0e48\\u0e2d\\u0e22\\u0e2a\\u0e14 \\u0e15\\u0e34\\u0e14\\u0e2a\\u0e48\\u0e27\\u0e19\\u0e2b\\u0e19\\u0e31\\u0e07\\u0e21\\u0e32 \\u0e1b\\u0e23\\u0e34\\u0e21\\u0e32\\u0e13\\u0e1e\\u0e2d\\u0e2a\\u0e21\\u0e04\\u0e27\\u0e23 \\n\\u0e0b\\u0e32\\u0e0b\\u0e34\\u0e21\\u0e34\\u0e44\\u0e14\\u0e49\\u0e1f\\u0e23\\u0e35\\u0e08\\u0e32\\u0e01 gift voucher \\u0e40\\u0e1e\\u0e23\\u0e32\\u0e30\\u0e40\\u0e1b\\u0e47\\u0e19\\u0e2a\\u0e21\\u0e32\\u0e0a\\u0e34\\u0e01 \\u0e1b\\u0e25\\u0e32\\u0e0a\\u0e34\\u0e49\\u0e19\\u0e1a\\u0e32\\u0e07 \\u0e44\\u0e21\\u0e48\\u0e2a\\u0e14 \\u0e22\\u0e34\\u0e48\\u0e07\\u0e1b\\u0e25\\u0e32\\u0e2a\\u0e35\\u0e02\\u0e32\\u0e27\\u0e44\\u0e21\\u0e48\\u0e41\\u0e19\\u0e48\\u0e43\\u0e08\\u0e01\\u0e30\\u0e1e\\u0e07\\u0e2b\\u0e23\\u0e37\\u0e2d\\u0e2d\\u0e30\\u0e44\\u0e23 \\u0e44\\u0e21\\u0e48\\u0e2a\\u0e14\\u0e40\\u0e2d\\u0e32\\u0e21\\u0e32\\u0e01\\u0e46 \\u0e40\\u0e2d\\u0e47\\u0e19\\u0e40\\u0e22\\u0e2d\\u0e30 \\u0e40\\u0e2b\\u0e19\\u0e35\\u0e22\\u0e27\\u0e40\\u0e04\\u0e35\\u0e49\\u0e22\\u0e27\\u0e22\\u0e32\\u0e01 \\n\\u0e0a\\u0e38\\u0e14\\u0e02\\u0e49\\u0e32\\u0e27\\u0e1b\\u0e31\\u0e49\\u0e19 \\u0e44\\u0e21\\u0e48\\u0e2d\\u0e23\\u0e48\\u0e2d\\u0e22\\u0e2d\\u0e48\\u0e30 \\u0e1b\\u0e31\\u0e49\\u0e19\\u0e44\\u0e21\\u0e48\\u0e2d\\u0e23\\u0e48\\u0e2d\\u0e22 \\n\\u0e44\\u0e02\\u0e48\\u0e2b\\u0e27\\u0e32\\u0e19\\u0e2a\\u0e25\\u0e31\\u0e14\\u0e1b\\u0e39\\u0e2d\\u0e31\\u0e14\\u0e01\\u0e47\\u0e44\\u0e21\\u0e48\\u0e2d\\u0e23\\u0e48\\u0e2d\\u0e22 \\u0e44\\u0e02\\u0e48\\u0e2b\\u0e27\\u0e32\\u0e19\\u0e15\\u0e23\\u0e07\\u0e01\\u0e25\\u0e32\\u0e07\\u0e21\\u0e35\\u0e40\\u0e2a\\u0e35\\u0e22\\u0e27\\u0e40\\u0e02\\u0e35\\u0e22\\u0e27\\u0e04\\u0e25\\u0e49\\u0e33\\u0e46\\u0e19\\u0e34\\u0e14\\u0e46 \\u0e40\\u0e22\\u0e47\\u0e19\\u0e0a\\u0e37\\u0e14\\n\\n4\\u0e40\\u0e21\\u0e19\\u0e39\\u0e2b\\u0e25\\u0e31\\u0e07\\u0e44\\u0e21\\u0e48\\u0e42\\u0e2d\\u0e40\\u0e04\\u0e04\\u0e48\\u0e30 \\u0e17\\u0e35\\u0e48\\u0e1f\\u0e34\\u0e27\\u0e2d\\u0e23\\u0e48\\u0e2d\\u0e22\\u0e01\\u0e27\\u0e48\\u0e32\\u0e40\\u0e22\\u0e2d\\u0e30 \\u0e2a\\u0e23\\u0e38\\u0e1b\\u0e27\\u0e48\\u0e32\\u0e1e\\u0e19\\u0e31\\u0e01\\u0e07\\u0e32\\u0e19\\u0e1a\\u0e23\\u0e34\\u0e01\\u0e32\\u0e23\\u0e14\\u0e35 \\u0e2d\\u0e32\\u0e2b\\u0e32\\u0e23\\u0e44\\u0e21\\u0e48\\u0e2a\\u0e14\\u0e40\\u0e17\\u0e48\\u0e32\\u0e17\\u0e35\\u0e48\\u0e04\\u0e27\\u0e23 \\u0e44\\u0e21\\u0e48\\u0e1b\\u0e23\\u0e30\\u0e17\\u0e31\\u0e1a\\u0e43\\u0e08 \\u0e40\\u0e2a\\u0e35\\u0e22\\u0e2b\\u0e32\\u0e22\\u0e44\\u0e1b1,110 \\u0e1a\\u0e32\\u0e17\",\n          \"\\u0e23\\u0e49\\u0e32\\u0e19\\u0e19\\u0e34\\u0e27\\u0e40\\u0e04\\u0e25\\u0e35\\u0e22\\u0e23\\u0e4c\\u0e23\\u0e32\\u0e14\\u0e2b\\u0e19\\u0e49\\u0e32\\u0e22\\u0e2d\\u0e14\\u0e1c\\u0e31\\u0e01\\u0e41\\u0e25\\u0e30\\u0e2d\\u0e32\\u0e2b\\u0e32\\u0e23\\u0e15\\u0e32\\u0e21\\u0e2a\\u0e31\\u0e48\\u0e07 \\u0e40\\u0e1b\\u0e47\\u0e19\\u0e2d\\u0e35\\u0e01 1 \\u0e23\\u0e49\\u0e32\\u0e19\\u0e2d\\u0e32\\u0e2b\\u0e32\\u0e23\\u0e17\\u0e35\\u0e48\\u0e40\\u0e2d\\u0e23\\u0e47\\u0e14\\u0e2d\\u0e23\\u0e48\\u0e2d\\u0e22\\u0e21\\u0e32\\u0e01 \\u0e43\\u0e19\\u0e40\\u0e21\\u0e37\\u0e2d\\u0e07\\u0e1a\\u0e49\\u0e32\\u0e19\\u0e09\\u0e32\\u0e07\\u0e17\\u0e08\\u0e31\\u0e07\\u0e2b\\u0e27\\u0e31\\u0e14\\u0e23\\u0e30\\u0e22\\u0e2d\\u0e07 \\u0e23\\u0e49\\u0e32\\u0e19\\u0e19\\u0e35\\u0e49\\u0e15\\u0e31\\u0e49\\u0e07\\u0e2d\\u0e22\\u0e39\\u0e48\\u0e1a\\u0e19\\u0e16\\u0e19\\u0e19\\u0e43\\u0e2b\\u0e0d\\u0e48\\u0e40\\u0e25\\u0e22\\u0e08\\u0e2d\\u0e14\\u0e23\\u0e16\\u0e02\\u0e49\\u0e32\\u0e07\\u0e17\\u0e32\\u0e07 \\u0e2a\\u0e48\\u0e27\\u0e19\\u0e21\\u0e32\\u0e01\\u0e02\\u0e32\\u0e22\\u0e2d\\u0e32\\u0e2b\\u0e32\\u0e23\\u0e15\\u0e32\\u0e21\\u0e2a\\u0e31\\u0e48\\u0e07\\u0e15\\u0e48\\u0e32\\u0e07\\u0e46 \\u0e23\\u0e32\\u0e14\\u0e2b\\u0e19\\u0e49\\u0e32\\u0e2b\\u0e21\\u0e39\\u0e2b\\u0e21\\u0e31\\u0e01 \\u0e23\\u0e32\\u0e14\\u0e2b\\u0e19\\u0e49\\u0e32\\u0e17\\u0e30\\u0e40\\u0e25 \\u0e41\\u0e25\\u0e30\\u0e1e\\u0e27\\u0e01\\u0e1c\\u0e31\\u0e14\\u0e0b\\u0e35\\u0e2d\\u0e34\\u0e49\\u0e27\\u0e15\\u0e48\\u0e32\\u0e07\\u0e46 \\u0e40\\u0e04\\u0e22\\u0e21\\u0e32\\u0e17\\u0e32\\u0e19\\u0e23\\u0e32\\u0e14\\u0e2b\\u0e19\\u0e49\\u0e32\\u0e2b\\u0e21\\u0e39\\u0e2b\\u0e21\\u0e31\\u0e01\\u0e41\\u0e25\\u0e49\\u0e27 1 \\u0e23\\u0e2d\\u0e1a\\u0e2d\\u0e23\\u0e48\\u0e2d\\u0e22\\u0e14\\u0e35 \\u0e04\\u0e23\\u0e32\\u0e27\\u0e19\\u0e35\\u0e49\\u0e40\\u0e25\\u0e22\\u0e25\\u0e2d\\u0e07\\u0e40\\u0e1b\\u0e25\\u0e35\\u0e48\\u0e22\\u0e19\\u0e21\\u0e32\\u0e17\\u0e32\\u0e07\\u0e40\\u0e1b\\u0e47\\u0e19\\u0e23\\u0e32\\u0e14\\u0e2b\\u0e19\\u0e49\\u0e32\\u0e17\\u0e30\\u0e40\\u0e25\\u0e14\\u0e39\\u0e27\\u0e48\\u0e32\\u0e08\\u0e30\\u0e2d\\u0e23\\u0e48\\u0e2d\\u0e22\\u0e2b\\u0e23\\u0e37\\u0e2d\\u0e40\\u0e1b\\u0e25\\u0e48\\u0e32 \\u0e41\\u0e25\\u0e30\\u0e40\\u0e04\\u0e49\\u0e32\\u0e01\\u0e47\\u0e44\\u0e21\\u0e48\\u0e17\\u0e33\\u0e43\\u0e2b\\u0e49\\u0e1c\\u0e34\\u0e14\\u0e2b\\u0e27\\u0e31\\u0e07\\u0e08\\u0e23\\u0e34\\u0e07\\u0e46 \\u0e44\\u0e14\\u0e49\\u0e40\\u0e22\\u0e2d\\u0e30\\u0e14\\u0e49\\u0e27\\u0e22\\u0e41\\u0e25\\u0e49\\u0e27\\u0e01\\u0e47\\u0e2d\\u0e23\\u0e48\\u0e2d\\u0e22\\u0e2d\\u0e22\\u0e48\\u0e32\\u0e07\\u0e17\\u0e35\\u0e48\\u0e04\\u0e32\\u0e14\\u0e2b\\u0e27\\u0e31\\u0e07\\u0e44\\u0e27\\u0e49\\u0e08\\u0e23\\u0e34\\u0e07\\u0e46 \\u0e40\\u0e04\\u0e23\\u0e37\\u0e48\\u0e2d\\u0e07\\u0e16\\u0e25\\u0e14\\u0e40\\u0e0a\\u0e48\\u0e19\\u0e01\\u0e38\\u0e49\\u0e07 \\u0e1b\\u0e25\\u0e32\\u0e2b\\u0e21\\u0e36\\u0e01 \\u0e2a\\u0e14\\u0e41\\u0e25\\u0e30\\u0e44\\u0e21\\u0e48\\u0e40\\u0e2b\\u0e21\\u0e47\\u0e19\\u0e04\\u0e32\\u0e27\\u0e40\\u0e25\\u0e22 \\u0e23\\u0e32\\u0e04\\u0e32\\u0e01\\u0e47\\u0e17\\u0e31\\u0e48\\u0e27\\u0e44\\u0e1b\\u0e44\\u0e21\\u0e48\\u0e41\\u0e1e\\u0e07\\u0e21\\u0e32\\u0e01 \\u0e04\\u0e19\\u0e40\\u0e22\\u0e2d\\u0e30\\u0e21\\u0e32\\u0e01\\u0e42\\u0e14\\u0e22\\u0e40\\u0e09\\u0e1e\\u0e32\\u0e30\\u0e0a\\u0e48\\u0e27\\u0e07\\u0e2b\\u0e31\\u0e27\\u0e04\\u0e48\\u0e33 \\u0e02\\u0e2d\\u0e07\\u0e40\\u0e04\\u0e49\\u0e32\\u0e14\\u0e35\\u0e02\\u0e2d\\u0e07\\u0e40\\u0e04\\u0e49\\u0e32\\u0e2d\\u0e23\\u0e48\\u0e2d\\u0e22\\u0e08\\u0e23\\u0e34\\u0e07\\u0e46\"\n        ],\n        \"semantic_type\": \"\",\n        \"description\": \"\"\n      }\n    },\n    {\n      \"column\": \"column1\",\n      \"properties\": {\n        \"dtype\": \"number\",\n        \"std\": 0,\n        \"min\": 1,\n        \"max\": 5,\n        \"num_unique_values\": 5,\n        \"samples\": [\n          4,\n          1,\n          5\n        ],\n        \"semantic_type\": \"\",\n        \"description\": \"\"\n      }\n    }\n  ]\n}"
            }
          },
          "metadata": {},
          "execution_count": 5
        }
      ]
    },
    {
      "cell_type": "code",
      "source": [
        "df.shape"
      ],
      "metadata": {
        "colab": {
          "base_uri": "https://localhost:8080/"
        },
        "id": "i49_QOQ1xn6a",
        "outputId": "acdbb5ae-b643-47c0-e2f5-bca71e7c3e70"
      },
      "execution_count": 6,
      "outputs": [
        {
          "output_type": "execute_result",
          "data": {
            "text/plain": [
              "(40000, 2)"
            ]
          },
          "metadata": {},
          "execution_count": 6
        }
      ]
    },
    {
      "cell_type": "code",
      "source": [
        "con.execute(\"COPY df TO '/content/drive/MyDrive/DST/review_dataset/w_review_train.parquet' (FORMAT PARQUET)\")"
      ],
      "metadata": {
        "colab": {
          "base_uri": "https://localhost:8080/"
        },
        "id": "upnN86pExuml",
        "outputId": "fbb69b9f-5565-44d8-f679-519826e86a34"
      },
      "execution_count": 7,
      "outputs": [
        {
          "output_type": "execute_result",
          "data": {
            "text/plain": [
              "<duckdb.duckdb.DuckDBPyConnection at 0x78f11e7bdc70>"
            ]
          },
          "metadata": {},
          "execution_count": 7
        }
      ]
    },
    {
      "cell_type": "code",
      "source": [
        "parquet_avg_rating_direct = con.execute(\"SELECT AVG(column1) FROM '/content/drive/MyDrive/DST/review_dataset/w_review_train.parquet' WHERE column0 LIKE '%อร่อย%'\").fetchone()[0]\n",
        "parquet_avg_rating_direct"
      ],
      "metadata": {
        "colab": {
          "base_uri": "https://localhost:8080/"
        },
        "id": "SIhQlAvsxwZ5",
        "outputId": "442ca2be-3c19-4357-8531-ed50758782af"
      },
      "execution_count": 8,
      "outputs": [
        {
          "output_type": "execute_result",
          "data": {
            "text/plain": [
              "3.8313027179006562"
            ]
          },
          "metadata": {},
          "execution_count": 8
        }
      ]
    },
    {
      "cell_type": "code",
      "source": [
        "parquet_file_path = '/content/drive/MyDrive/DST/review_dataset/w_review_train.parquet'"
      ],
      "metadata": {
        "id": "U8Ytsnv0x6c1"
      },
      "execution_count": 9,
      "outputs": []
    },
    {
      "cell_type": "code",
      "source": [
        "parquet_avg_rating_direct = con.execute(f\"SELECT AVG(column1) FROM '{parquet_file_path}' WHERE column0 LIKE '%อร่อย%'\").fetchone()[0]\n",
        "parquet_avg_rating_direct"
      ],
      "metadata": {
        "colab": {
          "base_uri": "https://localhost:8080/"
        },
        "id": "LLciFeCkx63q",
        "outputId": "30c7e9e7-1170-4724-9fcd-d192c466fc51"
      },
      "execution_count": 10,
      "outputs": [
        {
          "output_type": "execute_result",
          "data": {
            "text/plain": [
              "3.8313027179006562"
            ]
          },
          "metadata": {},
          "execution_count": 10
        }
      ]
    },
    {
      "cell_type": "code",
      "source": [
        "coffee_keywords = [\n",
        "    'กาแฟ', 'คาเฟ่', 'coffee', 'cafe', 'เอสเปรสโซ่', 'ลาเต้',\n",
        "    'มอคค่า', 'คาปูชิโน่', 'เฟรนช์เพรส', 'cold brew', 'drip',\n",
        "    'espresso', 'latte', 'americano', 'macchiato', 'brew',\n",
        "    'specialty', 'slow bar', 'ร้านกาแฟ', 'ร้านคาเฟ่', 'กาแฟสด',\n",
        "    'เมนูกาแฟ', 'กาแฟนม', 'กาแฟดำ', 'ร้านบาริสต้า', 'barista', 'coffee shop'\n",
        "]\n",
        "\n",
        "where_clause = \" OR \".join([f\"column0 LIKE '%{keyword}%'\" for keyword in coffee_keywords])"
      ],
      "metadata": {
        "id": "v9pQnTUex8Ow"
      },
      "execution_count": 11,
      "outputs": []
    },
    {
      "cell_type": "code",
      "source": [
        "%%time\n",
        "coffee_reviews_df = con.execute(f\"SELECT * FROM '{parquet_file_path}' WHERE {where_clause}\").fetchdf()\n"
      ],
      "metadata": {
        "colab": {
          "base_uri": "https://localhost:8080/",
          "height": 84,
          "referenced_widgets": [
            "59f7c2c95d9a40f4bb2353f0bfdedd1a",
            "1b8dd14abb664c759685b0c18a700d06",
            "c9b2777afc204980a4ed580b37f492e6"
          ]
        },
        "id": "TbHy_ntOyD4Q",
        "outputId": "4159202c-cdb5-406f-8b35-6f9c2b6c470a"
      },
      "execution_count": 12,
      "outputs": [
        {
          "output_type": "display_data",
          "data": {
            "text/plain": [
              "FloatProgress(value=0.0, layout=Layout(width='auto'), style=ProgressStyle(bar_color='black'))"
            ],
            "application/vnd.jupyter.widget-view+json": {
              "version_major": 2,
              "version_minor": 0,
              "model_id": "59f7c2c95d9a40f4bb2353f0bfdedd1a"
            }
          },
          "metadata": {}
        },
        {
          "output_type": "stream",
          "name": "stdout",
          "text": [
            "CPU times: user 4.12 s, sys: 809 µs, total: 4.13 s\n",
            "Wall time: 2.15 s\n"
          ]
        }
      ]
    },
    {
      "cell_type": "code",
      "source": [
        "csv_file_path = '/content/drive/MyDrive/DST/review_dataset/w_review_train.csv'"
      ],
      "metadata": {
        "id": "R8OL2EWfyIh5"
      },
      "execution_count": 13,
      "outputs": []
    },
    {
      "cell_type": "code",
      "source": [
        "%%time\n",
        "coffee_reviews_df_csv = con.execute(f\"SELECT * FROM read_csv_auto('{csv_file_path}', parallel=false, encoding='UTF-8', ignore_errors=true) WHERE {where_clause}\").fetchdf()"
      ],
      "metadata": {
        "colab": {
          "base_uri": "https://localhost:8080/"
        },
        "id": "Kd4XYxMTyL8M",
        "outputId": "7e9544ff-6bd0-4502-911a-d795ed183710"
      },
      "execution_count": 14,
      "outputs": [
        {
          "output_type": "stream",
          "name": "stdout",
          "text": [
            "CPU times: user 2.06 s, sys: 30.5 ms, total: 2.09 s\n",
            "Wall time: 2.14 s\n"
          ]
        }
      ]
    },
    {
      "cell_type": "code",
      "source": [
        "coffee_reviews_df.head()"
      ],
      "metadata": {
        "colab": {
          "base_uri": "https://localhost:8080/",
          "height": 206
        },
        "id": "bW7YxYnVyNiA",
        "outputId": "638d8935-3585-4c65-895b-d10e098d2879"
      },
      "execution_count": 15,
      "outputs": [
        {
          "output_type": "execute_result",
          "data": {
            "text/plain": [
              "                                             column0  column1\n",
              "0  ร้านอาหารใหญ่มากกกกกกก \\nเลี้ยวเข้ามาเจอห้องน้...        3\n",
              "1  วันนี้ได้มีโอกาสไปนั่งซดกาแฟที่ร้านวาวี แถวๆอา...        4\n",
              "2  สารภาพว่าไม่เคยคิดจะไปต่อคิวซื้อมากินเองครับ บ...        3\n",
              "3  ร้านอาหารญี่ปุ่นร้านนี้ ใจจริงไม่อยากแนะนำเลยค...        5\n",
              "4  เดือนแรกที่เค้าต่อคิวกัน 2 - 3 ชั่วโมง เราก็ว่...        5"
            ],
            "text/html": [
              "\n",
              "  <div id=\"df-f5b6d279-2f6b-4abe-a786-aa1b81aeecf4\" class=\"colab-df-container\">\n",
              "    <div>\n",
              "<style scoped>\n",
              "    .dataframe tbody tr th:only-of-type {\n",
              "        vertical-align: middle;\n",
              "    }\n",
              "\n",
              "    .dataframe tbody tr th {\n",
              "        vertical-align: top;\n",
              "    }\n",
              "\n",
              "    .dataframe thead th {\n",
              "        text-align: right;\n",
              "    }\n",
              "</style>\n",
              "<table border=\"1\" class=\"dataframe\">\n",
              "  <thead>\n",
              "    <tr style=\"text-align: right;\">\n",
              "      <th></th>\n",
              "      <th>column0</th>\n",
              "      <th>column1</th>\n",
              "    </tr>\n",
              "  </thead>\n",
              "  <tbody>\n",
              "    <tr>\n",
              "      <th>0</th>\n",
              "      <td>ร้านอาหารใหญ่มากกกกกกก \\nเลี้ยวเข้ามาเจอห้องน้...</td>\n",
              "      <td>3</td>\n",
              "    </tr>\n",
              "    <tr>\n",
              "      <th>1</th>\n",
              "      <td>วันนี้ได้มีโอกาสไปนั่งซดกาแฟที่ร้านวาวี แถวๆอา...</td>\n",
              "      <td>4</td>\n",
              "    </tr>\n",
              "    <tr>\n",
              "      <th>2</th>\n",
              "      <td>สารภาพว่าไม่เคยคิดจะไปต่อคิวซื้อมากินเองครับ บ...</td>\n",
              "      <td>3</td>\n",
              "    </tr>\n",
              "    <tr>\n",
              "      <th>3</th>\n",
              "      <td>ร้านอาหารญี่ปุ่นร้านนี้ ใจจริงไม่อยากแนะนำเลยค...</td>\n",
              "      <td>5</td>\n",
              "    </tr>\n",
              "    <tr>\n",
              "      <th>4</th>\n",
              "      <td>เดือนแรกที่เค้าต่อคิวกัน 2 - 3 ชั่วโมง เราก็ว่...</td>\n",
              "      <td>5</td>\n",
              "    </tr>\n",
              "  </tbody>\n",
              "</table>\n",
              "</div>\n",
              "    <div class=\"colab-df-buttons\">\n",
              "\n",
              "  <div class=\"colab-df-container\">\n",
              "    <button class=\"colab-df-convert\" onclick=\"convertToInteractive('df-f5b6d279-2f6b-4abe-a786-aa1b81aeecf4')\"\n",
              "            title=\"Convert this dataframe to an interactive table.\"\n",
              "            style=\"display:none;\">\n",
              "\n",
              "  <svg xmlns=\"http://www.w3.org/2000/svg\" height=\"24px\" viewBox=\"0 -960 960 960\">\n",
              "    <path d=\"M120-120v-720h720v720H120Zm60-500h600v-160H180v160Zm220 220h160v-160H400v160Zm0 220h160v-160H400v160ZM180-400h160v-160H180v160Zm440 0h160v-160H620v160ZM180-180h160v-160H180v160Zm440 0h160v-160H620v160Z\"/>\n",
              "  </svg>\n",
              "    </button>\n",
              "\n",
              "  <style>\n",
              "    .colab-df-container {\n",
              "      display:flex;\n",
              "      gap: 12px;\n",
              "    }\n",
              "\n",
              "    .colab-df-convert {\n",
              "      background-color: #E8F0FE;\n",
              "      border: none;\n",
              "      border-radius: 50%;\n",
              "      cursor: pointer;\n",
              "      display: none;\n",
              "      fill: #1967D2;\n",
              "      height: 32px;\n",
              "      padding: 0 0 0 0;\n",
              "      width: 32px;\n",
              "    }\n",
              "\n",
              "    .colab-df-convert:hover {\n",
              "      background-color: #E2EBFA;\n",
              "      box-shadow: 0px 1px 2px rgba(60, 64, 67, 0.3), 0px 1px 3px 1px rgba(60, 64, 67, 0.15);\n",
              "      fill: #174EA6;\n",
              "    }\n",
              "\n",
              "    .colab-df-buttons div {\n",
              "      margin-bottom: 4px;\n",
              "    }\n",
              "\n",
              "    [theme=dark] .colab-df-convert {\n",
              "      background-color: #3B4455;\n",
              "      fill: #D2E3FC;\n",
              "    }\n",
              "\n",
              "    [theme=dark] .colab-df-convert:hover {\n",
              "      background-color: #434B5C;\n",
              "      box-shadow: 0px 1px 3px 1px rgba(0, 0, 0, 0.15);\n",
              "      filter: drop-shadow(0px 1px 2px rgba(0, 0, 0, 0.3));\n",
              "      fill: #FFFFFF;\n",
              "    }\n",
              "  </style>\n",
              "\n",
              "    <script>\n",
              "      const buttonEl =\n",
              "        document.querySelector('#df-f5b6d279-2f6b-4abe-a786-aa1b81aeecf4 button.colab-df-convert');\n",
              "      buttonEl.style.display =\n",
              "        google.colab.kernel.accessAllowed ? 'block' : 'none';\n",
              "\n",
              "      async function convertToInteractive(key) {\n",
              "        const element = document.querySelector('#df-f5b6d279-2f6b-4abe-a786-aa1b81aeecf4');\n",
              "        const dataTable =\n",
              "          await google.colab.kernel.invokeFunction('convertToInteractive',\n",
              "                                                    [key], {});\n",
              "        if (!dataTable) return;\n",
              "\n",
              "        const docLinkHtml = 'Like what you see? Visit the ' +\n",
              "          '<a target=\"_blank\" href=https://colab.research.google.com/notebooks/data_table.ipynb>data table notebook</a>'\n",
              "          + ' to learn more about interactive tables.';\n",
              "        element.innerHTML = '';\n",
              "        dataTable['output_type'] = 'display_data';\n",
              "        await google.colab.output.renderOutput(dataTable, element);\n",
              "        const docLink = document.createElement('div');\n",
              "        docLink.innerHTML = docLinkHtml;\n",
              "        element.appendChild(docLink);\n",
              "      }\n",
              "    </script>\n",
              "  </div>\n",
              "\n",
              "\n",
              "    <div id=\"df-3f381583-9647-4f20-a786-84635f683b4d\">\n",
              "      <button class=\"colab-df-quickchart\" onclick=\"quickchart('df-3f381583-9647-4f20-a786-84635f683b4d')\"\n",
              "                title=\"Suggest charts\"\n",
              "                style=\"display:none;\">\n",
              "\n",
              "<svg xmlns=\"http://www.w3.org/2000/svg\" height=\"24px\"viewBox=\"0 0 24 24\"\n",
              "     width=\"24px\">\n",
              "    <g>\n",
              "        <path d=\"M19 3H5c-1.1 0-2 .9-2 2v14c0 1.1.9 2 2 2h14c1.1 0 2-.9 2-2V5c0-1.1-.9-2-2-2zM9 17H7v-7h2v7zm4 0h-2V7h2v10zm4 0h-2v-4h2v4z\"/>\n",
              "    </g>\n",
              "</svg>\n",
              "      </button>\n",
              "\n",
              "<style>\n",
              "  .colab-df-quickchart {\n",
              "      --bg-color: #E8F0FE;\n",
              "      --fill-color: #1967D2;\n",
              "      --hover-bg-color: #E2EBFA;\n",
              "      --hover-fill-color: #174EA6;\n",
              "      --disabled-fill-color: #AAA;\n",
              "      --disabled-bg-color: #DDD;\n",
              "  }\n",
              "\n",
              "  [theme=dark] .colab-df-quickchart {\n",
              "      --bg-color: #3B4455;\n",
              "      --fill-color: #D2E3FC;\n",
              "      --hover-bg-color: #434B5C;\n",
              "      --hover-fill-color: #FFFFFF;\n",
              "      --disabled-bg-color: #3B4455;\n",
              "      --disabled-fill-color: #666;\n",
              "  }\n",
              "\n",
              "  .colab-df-quickchart {\n",
              "    background-color: var(--bg-color);\n",
              "    border: none;\n",
              "    border-radius: 50%;\n",
              "    cursor: pointer;\n",
              "    display: none;\n",
              "    fill: var(--fill-color);\n",
              "    height: 32px;\n",
              "    padding: 0;\n",
              "    width: 32px;\n",
              "  }\n",
              "\n",
              "  .colab-df-quickchart:hover {\n",
              "    background-color: var(--hover-bg-color);\n",
              "    box-shadow: 0 1px 2px rgba(60, 64, 67, 0.3), 0 1px 3px 1px rgba(60, 64, 67, 0.15);\n",
              "    fill: var(--button-hover-fill-color);\n",
              "  }\n",
              "\n",
              "  .colab-df-quickchart-complete:disabled,\n",
              "  .colab-df-quickchart-complete:disabled:hover {\n",
              "    background-color: var(--disabled-bg-color);\n",
              "    fill: var(--disabled-fill-color);\n",
              "    box-shadow: none;\n",
              "  }\n",
              "\n",
              "  .colab-df-spinner {\n",
              "    border: 2px solid var(--fill-color);\n",
              "    border-color: transparent;\n",
              "    border-bottom-color: var(--fill-color);\n",
              "    animation:\n",
              "      spin 1s steps(1) infinite;\n",
              "  }\n",
              "\n",
              "  @keyframes spin {\n",
              "    0% {\n",
              "      border-color: transparent;\n",
              "      border-bottom-color: var(--fill-color);\n",
              "      border-left-color: var(--fill-color);\n",
              "    }\n",
              "    20% {\n",
              "      border-color: transparent;\n",
              "      border-left-color: var(--fill-color);\n",
              "      border-top-color: var(--fill-color);\n",
              "    }\n",
              "    30% {\n",
              "      border-color: transparent;\n",
              "      border-left-color: var(--fill-color);\n",
              "      border-top-color: var(--fill-color);\n",
              "      border-right-color: var(--fill-color);\n",
              "    }\n",
              "    40% {\n",
              "      border-color: transparent;\n",
              "      border-right-color: var(--fill-color);\n",
              "      border-top-color: var(--fill-color);\n",
              "    }\n",
              "    60% {\n",
              "      border-color: transparent;\n",
              "      border-right-color: var(--fill-color);\n",
              "    }\n",
              "    80% {\n",
              "      border-color: transparent;\n",
              "      border-right-color: var(--fill-color);\n",
              "      border-bottom-color: var(--fill-color);\n",
              "    }\n",
              "    90% {\n",
              "      border-color: transparent;\n",
              "      border-bottom-color: var(--fill-color);\n",
              "    }\n",
              "  }\n",
              "</style>\n",
              "\n",
              "      <script>\n",
              "        async function quickchart(key) {\n",
              "          const quickchartButtonEl =\n",
              "            document.querySelector('#' + key + ' button');\n",
              "          quickchartButtonEl.disabled = true;  // To prevent multiple clicks.\n",
              "          quickchartButtonEl.classList.add('colab-df-spinner');\n",
              "          try {\n",
              "            const charts = await google.colab.kernel.invokeFunction(\n",
              "                'suggestCharts', [key], {});\n",
              "          } catch (error) {\n",
              "            console.error('Error during call to suggestCharts:', error);\n",
              "          }\n",
              "          quickchartButtonEl.classList.remove('colab-df-spinner');\n",
              "          quickchartButtonEl.classList.add('colab-df-quickchart-complete');\n",
              "        }\n",
              "        (() => {\n",
              "          let quickchartButtonEl =\n",
              "            document.querySelector('#df-3f381583-9647-4f20-a786-84635f683b4d button');\n",
              "          quickchartButtonEl.style.display =\n",
              "            google.colab.kernel.accessAllowed ? 'block' : 'none';\n",
              "        })();\n",
              "      </script>\n",
              "    </div>\n",
              "\n",
              "    </div>\n",
              "  </div>\n"
            ],
            "application/vnd.google.colaboratory.intrinsic+json": {
              "type": "dataframe",
              "variable_name": "coffee_reviews_df",
              "summary": "{\n  \"name\": \"coffee_reviews_df\",\n  \"rows\": 4981,\n  \"fields\": [\n    {\n      \"column\": \"column0\",\n      \"properties\": {\n        \"dtype\": \"string\",\n        \"num_unique_values\": 4981,\n        \"samples\": [\n          \"\\u0e23\\u0e49\\u0e32\\u0e19\\u0e2d\\u0e22\\u0e39\\u0e48\\u0e1a\\u0e19\\u0e0a\\u0e31\\u0e49\\u0e193\\u0e02\\u0e2d\\u0e07 seen space \\u0e17\\u0e2d\\u0e07\\u0e2b\\u0e25\\u0e48\\u0e2d \\u0e40\\u0e1b\\u0e47\\u0e19\\u0e2d\\u0e32\\u0e2b\\u0e32\\u0e23\\u0e41\\u0e19\\u0e27fusion mediteranion\\u0e40\\u0e1e\\u0e37\\u0e48\\u0e2d\\u0e2a\\u0e38\\u0e02\\u0e20\\u0e32\\u0e1e\\n\\u0e1a\\u0e23\\u0e23\\u0e22\\u0e32\\u0e01\\u0e32\\u0e28\\u0e23\\u0e49\\u0e32\\u0e19\\u0e14\\u0e35\\u0e21\\u0e32\\u0e01 \\u0e42\\u0e1b\\u0e23\\u0e48\\u0e07\\u0e42\\u0e25\\u0e48\\u0e07 \\u0e2a\\u0e30\\u0e2d\\u0e32\\u0e14 \\u0e2a\\u0e1a\\u0e32\\u0e22 \\u0e40\\u0e01\\u0e49\\u0e32\\u0e2d\\u0e35\\u0e49\\u0e1c\\u0e49\\u0e32\\u0e43\\u0e1a\\u0e2a\\u0e35\\u0e02\\u0e32\\u0e27\\u0e2d\\u0e32\\u0e08\\u0e19\\u0e31\\u0e48\\u0e07\\u0e44\\u0e21\\u0e48\\u0e2a\\u0e1a\\u0e32\\u0e22\\u0e40\\u0e25\\u0e47\\u0e01\\u0e19\\u0e49\\u0e2d\\u0e22\\n\\u0e1e\\u0e19\\u0e31\\u0e01\\u0e07\\u0e32\\u0e19\\u0e1a\\u0e23\\u0e34\\u0e01\\u0e32\\u0e23\\u0e14\\u0e35\\u0e04\\u0e48\\u0e30 \\u0e43\\u0e2a\\u0e48\\u0e43\\u0e08\\u0e23\\u0e32\\u0e22\\u0e25\\u0e30\\u0e40\\u0e2d\\u0e35\\u0e22\\u0e14\\u0e41\\u0e19\\u0e30\\u0e19\\u0e33\\u0e40\\u0e21\\u0e19\\u0e39\\u0e15\\u0e48\\u0e32\\u0e07\\u0e46\\u0e44\\u0e14\\u0e49\\u0e14\\u0e35\\n-\\u0e01\\u0e32\\u0e41\\u0e1f\\u0e2d\\u0e23\\u0e48\\u0e2d\\u0e22 \\u0e41\\u0e15\\u0e48\\u0e17\\u0e33\\u0e0a\\u0e49\\u0e32\\u0e21\\u0e32\\u0e01 \\u0e2b\\u0e32\\u0e01\\u0e2a\\u0e31\\u0e48\\u0e07\\u0e01\\u0e32\\u0e41\\u0e1f\\u0e15\\u0e49\\u0e2d\\u0e07\\u0e17\\u0e33\\u0e43\\u0e08\\u0e19\\u0e34\\u0e14\\u0e19\\u0e36\\u0e07 4/5\\n- smoothies \\u0e2d\\u0e23\\u0e48\\u0e2d\\u0e22\\u0e43\\u0e02\\u0e49\\u0e44\\u0e14\\u0e49 \\u0e23\\u0e2a\\u0e0a\\u0e32\\u0e15\\u0e34\\u0e2a\\u0e14\\u0e0a\\u0e37\\u0e48\\u0e19\\u0e01\\u0e33\\u0e25\\u0e31\\u0e07\\u0e14\\u0e35 4/5\\n- devil's egg with beetroot : \\u0e08\\u0e32\\u0e19\\u0e19\\u0e35\\u0e49\\u0e2d\\u0e23\\u0e48\\u0e2d\\u0e22 \\u0e08\\u0e30\\u0e1a\\u0e2d\\u0e01\\u0e27\\u0e48\\u0e32 devil's egg \\u0e01\\u0e31\\u0e1abeetroot \\u0e01\\u0e34\\u0e19\\u0e23\\u0e27\\u0e21\\u0e01\\u0e31\\u0e19\\u0e41\\u0e25\\u0e49\\u0e27\\u0e23\\u0e39\\u0e49\\u0e2a\\u0e36\\u0e01\\u0e44\\u0e21\\u0e48\\u0e04\\u0e48\\u0e2d\\u0e22\\u0e40\\u0e02\\u0e49\\u0e32\\u0e01\\u0e31\\u0e19 \\u0e41\\u0e15\\u0e48\\u0e01\\u0e34\\u0e19\\u0e41\\u0e22\\u0e01\\u0e01\\u0e31\\u0e19\\u0e41\\u0e25\\u0e49\\u0e27\\u0e2d\\u0e23\\u0e48\\u0e2d\\u0e22\\u0e21\\u0e32\\u0e01 4/5\\n- duck ragu pasta \\u0e08\\u0e32\\u0e19\\u0e19\\u0e35\\u0e49\\u0e2d\\u0e23\\u0e48\\u0e2d\\u0e22\\u0e14\\u0e35 \\u0e40\\u0e1b\\u0e47\\u0e19\\u0e1e\\u0e32\\u0e2a\\u0e15\\u0e49\\u0e32\\u0e40\\u0e2a\\u0e49\\u0e19\\u0e43\\u0e2b\\u0e0d\\u0e48\\u0e2b\\u0e19\\u0e48\\u0e2d\\u0e22 \\u0e0b\\u0e2d\\u0e2a\\u0e40\\u0e1b\\u0e47\\u0e14 4/5\\n- chicken nacho \\u0e41\\u0e1b\\u0e25\\u0e01\\u0e14\\u0e35 \\u0e19\\u0e32\\u0e42\\u0e0a\\u0e17\\u0e2d\\u0e14\\u0e43\\u0e2b\\u0e21\\u0e48\\u0e23\\u0e49\\u0e2d\\u0e19\\u0e46 \\u0e2b\\u0e2d\\u0e21\\u0e46 \\u0e41\\u0e15\\u0e48\\u0e41\\u0e2d\\u0e1a\\u0e40\\u0e25\\u0e35\\u0e48\\u0e22\\u0e19\\u0e44\\u0e1b\\u0e19\\u0e34\\u0e14 3/5\\n\\n\\u0e42\\u0e14\\u0e22\\u0e23\\u0e27\\u0e21\\u0e41\\u0e25\\u0e49\\u0e27\\u0e16\\u0e37\\u0e2d\\u0e27\\u0e48\\u0e32\\u0e14\\u0e35\\u0e17\\u0e35\\u0e40\\u0e14\\u0e35\\u0e22\\u0e27\\u0e04\\u0e48\\u0e30 \\u0e23\\u0e32\\u0e04\\u0e32\\u0e41\\u0e25\\u0e30\\u0e23\\u0e2a\\u0e0a\\u0e32\\u0e15\\u0e34\\u0e1e\\u0e2d\\u0e46\\u0e01\\u0e31\\u0e1aroast\\u0e17\\u0e35\\u0e48\\u0e2d\\u0e22\\u0e39\\u0e48\\u0e14\\u0e49\\u0e32\\u0e19\\u0e25\\u0e48\\u0e32\\u0e07 \\u0e43\\u0e04\\u0e23\\u0e02\\u0e35\\u0e49\\u0e40\\u0e01\\u0e35\\u0e22\\u0e08\\u0e15\\u0e48\\u0e2d\\u0e04\\u0e34\\u0e27 \\u0e2b\\u0e23\\u0e37\\u0e2d\\u0e2d\\u0e22\\u0e32\\u0e01\\u0e25\\u0e2d\\u0e07bruch\\u0e14\\u0e35\\u0e46\\u0e41\\u0e16\\u0e27\\u0e17\\u0e2d\\u0e07\\u0e2b\\u0e25\\u0e48\\u0e2d\\u0e41\\u0e19\\u0e30\\u0e19\\u0e33\\u0e23\\u0e49\\u0e32\\u0e19\\u0e19\\u0e35\\u0e49\\u0e2d\\u0e35\\u0e01\\u0e23\\u0e49\\u0e32\\u0e19\\u0e04\\u0e48\\u0e30\",\n          \"<<\\u0e40\\u0e2a\\u0e49\\u0e19\\u0e17\\u0e32\\u0e07\\u0e19\\u0e31\\u0e01\\u0e25\\u0e07\\u0e17\\u0e38\\u0e19>>\\n\\n     \\u0e2b\\u0e49\\u0e32\\u0e07 Union Mall \\u0e0a\\u0e31\\u0e49\\u0e19 3 \\u0e42\\u0e0b\\u0e19 B \\u0e43\\u0e01\\u0e25\\u0e49\\u0e1a\\u0e31\\u0e19\\u0e44\\u0e14\\u0e40\\u0e25\\u0e37\\u0e48\\u0e2d\\u0e19 \\n\\n<<\\u0e42\\u0e1a\\u0e23\\u0e01\\u0e40\\u0e01\\u0e2d\\u0e23\\u0e4c\\u0e08\\u0e2d\\u0e21\\u0e41\\u0e17\\u0e04\\u0e15\\u0e34\\u0e04\\u0e0a\\u0e35\\u0e49\\u0e19\\u0e33>>\\n\\n     \\u0e19\\u0e49\\u0e2d\\u0e07 GB \\u0e41\\u0e25\\u0e30\\u0e17\\u0e35\\u0e21\\u0e07\\u0e32\\u0e19\\u0e21\\u0e32\\u0e40\\u0e22\\u0e37\\u0e2d\\u0e19\\u0e2b\\u0e49\\u0e32\\u0e07\\u0e17\\u0e35\\u0e48\\u0e21\\u0e35\\u0e04\\u0e19\\u0e1e\\u0e25\\u0e38\\u0e01\\u0e1e\\u0e25\\u0e48\\u0e32\\u0e19\\u0e21\\u0e32\\u0e01\\u0e46\\u0e08\\u0e23\\u0e34\\u0e07\\u0e46 \\u0e2b\\u0e25\\u0e31\\u0e07\\u0e08\\u0e32\\u0e01\\u0e41\\u0e2d\\u0e1a\\u0e40\\u0e21\\u0e35\\u0e22\\u0e07\\u0e21\\u0e2d\\u0e07\\u0e23\\u0e49\\u0e32\\u0e19\\u0e19\\u0e35\\u0e49\\u0e21\\u0e32\\u0e19\\u0e32\\u0e19 \\u0e40\\u0e1e\\u0e23\\u0e32\\u0e30\\u0e14\\u0e49\\u0e27\\u0e22\\u0e41\\u0e23\\u0e07\\u0e42\\u0e06\\u0e29\\u0e13\\u0e32\\u0e17\\u0e35\\u0e48\\u0e16\\u0e32\\u0e42\\u0e16\\u0e21\\u0e43\\u0e19\\u0e27\\u0e07\\u0e43\\u0e19\\u0e0b\\u0e30\\u0e19\\u0e48\\u0e32\\u0e17\\u0e32\\u0e19 \\u0e40\\u0e23\\u0e32\\u0e01\\u0e47\\u0e40\\u0e1d\\u0e49\\u0e32\\u0e27\\u0e48\\u0e32\\u0e2d\\u0e22\\u0e32\\u0e01\\u0e44\\u0e1b\\u0e1e\\u0e1a\\u0e1e\\u0e32\\u0e19\\u0e43\\u0e19\\u0e40\\u0e23\\u0e47\\u0e27\\u0e27\\u0e31\\u0e19 \\u0e40\\u0e23\\u0e32\\u0e40\\u0e14\\u0e34\\u0e19\\u0e2b\\u0e32\\u0e2d\\u0e22\\u0e39\\u0e48\\u0e1e\\u0e31\\u0e01\\u0e19\\u0e36\\u0e07 \\u0e17\\u0e35\\u0e21\\u0e07\\u0e32\\u0e19\\u0e27\\u0e48\\u0e32 \\u0e44\\u0e2b\\u0e07\\u0e1a\\u0e2d\\u0e01\\u0e40\\u0e08\\u0e49\\u0e32\\u0e16\\u0e34\\u0e48\\u0e19 \\u0e42\\u0e14\\u0e19\\u0e17\\u0e49\\u0e27\\u0e07\\u0e15\\u0e34\\u0e07\\u0e2d\\u0e22\\u0e48\\u0e32\\u0e07\\u0e23\\u0e38\\u0e19\\u0e41\\u0e23\\u0e07 \\u0e0a\\u0e48\\u0e32\\u0e07\\u0e19\\u0e48\\u0e32\\u0e02\\u0e32\\u0e22\\u0e2b\\u0e19\\u0e49\\u0e32\\u0e08\\u0e23\\u0e34\\u0e07\\u0e46 555+ \\u0e23\\u0e49\\u0e32\\u0e19\\u0e41\\u0e2d\\u0e1a\\u0e46\\u0e21\\u0e32\\u0e2d\\u0e22\\u0e39\\u0e48\\u0e43\\u0e19\\u0e42\\u0e0b\\u0e19\\u0e08\\u0e38\\u0e14\\u0e08\\u0e33\\u0e2b\\u0e19\\u0e48\\u0e32\\u0e22\\u0e40\\u0e2a\\u0e37\\u0e49\\u0e2d\\u0e1c\\u0e49\\u0e32\\u0e41\\u0e25\\u0e30\\u0e23\\u0e2d\\u0e07\\u0e40\\u0e17\\u0e49\\u0e32 \\u0e0b\\u0e36\\u0e48\\u0e07\\u0e40\\u0e22\\u0e37\\u0e49\\u0e2d\\u0e07\\u0e15\\u0e23\\u0e07\\u0e2b\\u0e19\\u0e49\\u0e32\\u0e23\\u0e49\\u0e32\\u0e19\\u0e17\\u0e35\\u0e48\\u0e43\\u0e2b\\u0e49\\u0e40\\u0e0a\\u0e48\\u0e32\\u0e0a\\u0e38\\u0e14\\u0e44\\u0e1b\\u0e07\\u0e32\\u0e19\\u0e41\\u0e15\\u0e48\\u0e07\\u0e07\\u0e32\\u0e19\\u0e19\\u0e34\\u0e14\\u0e46 \\u0e2d\\u0e31\\u0e19\\u0e08\\u0e31\\u0e14\\u0e27\\u0e48\\u0e32 \\u0e40\\u0e08\\u0e49\\u0e32\\u0e02\\u0e2d\\u0e07\\u0e23\\u0e49\\u0e32\\u0e19\\u0e40\\u0e14\\u0e47\\u0e14\\u0e14\\u0e27\\u0e07\\u0e22\\u0e32\\u0e01\\u0e25\\u0e37\\u0e21\\u0e40\\u0e25\\u0e37\\u0e2d\\u0e19 ???????????? (\\u0e19\\u0e2d\\u0e01\\u0e40\\u0e23\\u0e37\\u0e48\\u0e2d\\u0e07\\u0e15\\u0e25\\u0e2d\\u0e14 555+ )\\n\\n     Bon Bon \\u0e40\\u0e1b\\u0e47\\u0e19\\u0e20\\u0e32\\u0e29\\u0e32\\u0e1d\\u0e23\\u0e31\\u0e48\\u0e07\\u0e40\\u0e28\\u0e29 \\u0e2d\\u0e48\\u0e32\\u0e19\\u0e27\\u0e48\\u0e32 \\u0e1a\\u0e07\\u0e1a\\u0e07 \\u0e0b\\u0e36\\u0e48\\u0e07\\u0e41\\u0e1b\\u0e25\\u0e27\\u0e48\\u0e32 \\u0e14\\u0e35\\u0e4a..\\u0e14\\u0e35 (\\u0e01\\u0e23\\u0e38\\u0e13\\u0e32\\u0e17\\u0e33\\u0e40\\u0e2a\\u0e35\\u0e22\\u0e07\\u0e2a\\u0e39\\u0e07\\u0e15\\u0e32\\u0e21\\u0e41\\u0e1a\\u0e1a\\u0e19\\u0e49\\u0e2d\\u0e07\\u0e44\\u0e2d\\u0e0b\\u0e4c 555+)\\u0e2a\\u0e48\\u0e27\\u0e19\\u0e16\\u0e49\\u0e32\\u0e40\\u0e1b\\u0e47\\u0e19 \\u0e40\\u0e1b\\u0e47\\u0e19\\u0e20\\u0e32\\u0e29\\u0e32\\u0e2d\\u0e31\\u0e07\\u0e01\\u0e24\\u0e29 \\u0e2d\\u0e48\\u0e32\\u0e19\\u0e27\\u0e48\\u0e32 \\u0e1a\\u0e2d\\u0e19\\u0e1a\\u0e47\\u0e2d\\u0e19 \\u0e41\\u0e1b\\u0e25\\u0e27\\u0e48\\u0e32 \\u0e02\\u0e19\\u0e21\\u0e2b\\u0e27\\u0e32\\u0e19 \\u0e0b\\u0e36\\u0e48\\u0e07\\u0e14\\u0e39\\u0e41\\u0e25\\u0e49\\u0e27\\u0e40\\u0e08\\u0e49\\u0e32\\u0e02\\u0e2d\\u0e07\\u0e23\\u0e49\\u0e32\\u0e19\\u0e01\\u0e47\\u0e40\\u0e25\\u0e37\\u0e2d\\u0e01\\u0e04\\u0e33\\u0e44\\u0e14\\u0e49\\u0e14\\u0e35\\u0e04\\u0e23\\u0e31\\u0e1a \\u0e40\\u0e1e\\u0e23\\u0e32\\u0e30\\u0e2a\\u0e37\\u0e48\\u0e2d\\u0e04\\u0e27\\u0e32\\u0e21\\u0e2b\\u0e21\\u0e32\\u0e22\\u0e44\\u0e14\\u0e49\\u0e14\\u0e35\\u0e17\\u0e31\\u0e49\\u0e07 2 \\u0e2d\\u0e22\\u0e48\\u0e32\\u0e07 (\\u0e17\\u0e38\\u0e01\\u0e27\\u0e31\\u0e19\\u0e19\\u0e35\\u0e49\\u0e22\\u0e31\\u0e07\\u0e44\\u0e21\\u0e48\\u0e23\\u0e39\\u0e49\\u0e40\\u0e25\\u0e22 \\u0e15\\u0e01\\u0e25\\u0e07\\u0e2d\\u0e48\\u0e32\\u0e19\\u0e27\\u0e48\\u0e32\\u0e2d\\u0e30\\u0e44\\u0e23\\u0e01\\u0e31\\u0e19\\u0e41\\u0e19\\u0e48 555+) \\u0e41\\u0e15\\u0e48\\u0e16\\u0e49\\u0e32\\u0e21\\u0e2d\\u0e07\\u0e14\\u0e49\\u0e27\\u0e22\\u0e23\\u0e39\\u0e1b\\u0e41\\u0e1a\\u0e1a\\u0e41\\u0e25\\u0e30\\u0e25\\u0e27\\u0e14\\u0e25\\u0e32\\u0e22\\u0e07\\u0e32\\u0e21\\u0e46\\u0e41\\u0e25\\u0e49\\u0e27 \\u0e04\\u0e07\\u0e1e\\u0e2d\\u0e17\\u0e23\\u0e32\\u0e1a\\u0e01\\u0e31\\u0e19\\u0e44\\u0e14\\u0e49\\u0e27\\u0e48\\u0e32 \\u0e40\\u0e0a\\u0e1f\\u0e02\\u0e19\\u0e21\\u0e04\\u0e07\\u0e44\\u0e1b\\u0e08\\u0e31\\u0e14 \\u0e04\\u0e2d\\u0e23\\u0e4c\\u0e2a Le Cordon Bleu \\u0e21\\u0e32\\u0e2d\\u0e22\\u0e48\\u0e32\\u0e07\\u0e41\\u0e19\\u0e48\\u0e19\\u0e2d\\u0e19 555+ \\u0e40\\u0e21\\u0e19\\u0e39\\u0e43\\u0e19\\u0e23\\u0e49\\u0e32\\u0e19\\u0e17\\u0e35\\u0e48\\u0e14\\u0e39\\u0e25\\u0e07\\u0e15\\u0e31\\u0e27\\u0e14\\u0e35\\u0e44\\u0e21\\u0e48\\u0e40\\u0e1a\\u0e32 \\u0e14\\u0e49\\u0e27\\u0e22\\u0e40\\u0e04\\u0e23\\u0e37\\u0e48\\u0e2d\\u0e07\\u0e14\\u0e37\\u0e48\\u0e21\\u0e1b\\u0e23\\u0e30\\u0e40\\u0e20\\u0e17\\u0e01\\u0e32\\u0e41\\u0e1f, \\u0e0a\\u0e32, Freppe, Smoothies \\u0e41\\u0e25\\u0e30 Soda \\u0e17\\u0e35\\u0e48\\u0e14\\u0e39\\u0e08\\u0e32\\u0e01\\u0e04\\u0e48\\u0e32\\u0e40\\u0e2a\\u0e35\\u0e22\\u0e2b\\u0e32\\u0e22\\u0e40\\u0e23\\u0e34\\u0e48\\u0e21\\u0e15\\u0e49\\u0e19 \\u0e40\\u0e1e\\u0e35\\u0e22\\u0e07 40 \\u0e01\\u0e27\\u0e48\\u0e32\\u0e1a\\u0e32\\u0e17\\u0e41\\u0e25\\u0e49\\u0e27 \\u0e25\\u0e48\\u0e2d\\u0e15\\u0e32\\u0e25\\u0e48\\u0e2d\\u0e43\\u0e08\\u0e44\\u0e21\\u0e48\\u0e18\\u0e23\\u0e23\\u0e21\\u0e14\\u0e32 \\u0e2b\\u0e31\\u0e19\\u0e2b\\u0e19\\u0e49\\u0e32\\u0e21\\u0e32\\u0e21\\u0e2d\\u0e07\\u0e02\\u0e19\\u0e21\\u0e2b\\u0e27\\u0e32\\u0e19\\u0e01\\u0e31\\u0e19\\u0e1a\\u0e49\\u0e32\\u0e07 \\u0e17\\u0e31\\u0e49\\u0e07 Crepe cake, Cheese cake  \\u0e40\\u0e1b\\u0e47\\u0e19\\u0e15\\u0e49\\u0e19 \\u0e2a\\u0e44\\u0e15\\u0e25\\u0e4c\\u0e1d\\u0e23\\u0e31\\u0e48\\u0e07\\u0e40\\u0e28\\u0e29 \\u0e17\\u0e35\\u0e48\\u0e14\\u0e39\\u0e19\\u0e48\\u0e32\\u0e17\\u0e32\\u0e19\\u0e15\\u0e32\\u0e21\\u0e41\\u0e1a\\u0e1a\\u0e09\\u0e1a\\u0e31\\u0e1a \\u0e1e\\u0e23\\u0e49\\u0e2d\\u0e21\\u0e44\\u0e21\\u0e48\\u0e19\\u0e48\\u0e32\\u0e1e\\u0e25\\u0e32\\u0e14\\u0e01\\u0e31\\u0e1a Set toast, Moose cake \\u0e41\\u0e25\\u0e30 Lava \\u0e17\\u0e35\\u0e48\\u0e19\\u0e48\\u0e32\\u0e15\\u0e32\\u0e19\\u0e48\\u0e32\\u0e17\\u0e32\\u0e19 \\u0e08\\u0e32\\u0e01\\u0e17\\u0e35\\u0e48\\u0e17\\u0e35\\u0e21\\u0e07\\u0e32\\u0e19\\u0e27\\u0e34\\u0e40\\u0e04\\u0e23\\u0e32\\u0e30\\u0e2b\\u0e4c\\u0e40\\u0e21\\u0e48\\u0e32\\u0e1b\\u0e35\\u0e01\\u0e40\\u0e2b\\u0e25\\u0e47\\u0e01\\u0e02\\u0e2d\\u0e07\\u0e40\\u0e23\\u0e32 \\u0e1a\\u0e2d\\u0e01\\u0e23\\u0e32\\u0e04\\u0e32\\u0e40\\u0e1b\\u0e34\\u0e14\\u0e15\\u0e31\\u0e27\\u0e19\\u0e48\\u0e32\\u0e23\\u0e31\\u0e01\\u0e19\\u0e48\\u0e32\\u0e25\\u0e38\\u0e49\\u0e19 \\u0e08\\u0e31\\u0e14\\u0e21\\u0e32\\u0e27\\u0e31\\u0e14\\u0e43\\u0e08\\u0e01\\u0e31\\u0e19\\u0e14\\u0e39\\u0e1e\\u0e2d\\u0e2b\\u0e2d\\u0e21\\u0e1b\\u0e32\\u0e01\\u0e2b\\u0e2d\\u0e21\\u0e04\\u0e2d\\u0e01\\u0e31\\u0e19\\u0e08\\u0e4a\\u0e30...\\n\\n<<\\u0e15\\u0e31\\u0e27\\u0e40\\u0e01\\u0e47\\u0e07\\u0e08\\u0e32\\u0e01\\u0e42\\u0e1e\\u0e22\\u0e40\\u0e17\\u0e1e \\u0e40\\u0e1e\\u0e37\\u0e48\\u0e2d\\u0e2b\\u0e19\\u0e35\\u0e15\\u0e34\\u0e14\\u0e14\\u0e2d\\u0e22 555+>>\\n\\n     - Bon Bon signature ( 65 \\u0e1a\\u0e32\\u0e17 ) ????????????????: \\u0e01\\u0e32\\u0e41\\u0e1f\\u0e2a\\u0e14\\u0e15\\u0e32\\u0e21\\u0e2a\\u0e44\\u0e15\\u0e25\\u0e4c\\u0e02\\u0e2d\\u0e07\\u0e23\\u0e49\\u0e32\\u0e19 \\u0e17\\u0e35\\u0e48\\u0e01\\u0e25\\u0e34\\u0e48\\u0e19\\u0e04\\u0e48\\u0e2d\\u0e19\\u0e02\\u0e49\\u0e32\\u0e07\\u0e19\\u0e48\\u0e32\\u0e23\\u0e31\\u0e01 \\u0e41\\u0e21\\u0e49\\u0e08\\u0e30\\u0e40\\u0e1b\\u0e47\\u0e19\\u0e41\\u0e1a\\u0e1a\\u0e40\\u0e22\\u0e47\\u0e19 \\u0e01\\u0e32\\u0e41\\u0e1f\\u0e17\\u0e35\\u0e48\\u0e1b\\u0e23\\u0e38\\u0e07\\u0e41\\u0e15\\u0e48\\u0e07\\u0e08\\u0e32\\u0e01\\u0e2a\\u0e39\\u0e15\\u0e23\\u0e40\\u0e14\\u0e47\\u0e14\\u0e02\\u0e2d\\u0e07\\u0e23\\u0e49\\u0e32\\u0e19\\u0e19\\u0e33\\u0e21\\u0e32 Shake \\u0e01\\u0e31\\u0e1a\\u0e19\\u0e49\\u0e33\\u0e41\\u0e02\\u0e47\\u0e07 \\u0e41\\u0e25\\u0e30\\u0e1b\\u0e34\\u0e14\\u0e17\\u0e49\\u0e32\\u0e22\\u0e14\\u0e49\\u0e27\\u0e22\\u0e01\\u0e32\\u0e23\\u0e43\\u0e2a\\u0e48\\u0e1f\\u0e2d\\u0e07\\u0e2d\\u0e32\\u0e01\\u0e32\\u0e28\\u0e41\\u0e17\\u0e23\\u0e01\\u0e40\\u0e02\\u0e49\\u0e32\\u0e44\\u0e1b\\u0e43\\u0e19\\u0e1a\\u0e2d\\u0e14\\u0e35\\u0e49 \\u0e40\\u0e1e\\u0e37\\u0e48\\u0e2d\\u0e40\\u0e1e\\u0e34\\u0e48\\u0e21\\u0e23\\u0e2a\\u0e2a\\u0e31\\u0e21\\u0e1c\\u0e31\\u0e2a\\u0e43\\u0e2b\\u0e49\\u0e21\\u0e35\\u0e04\\u0e27\\u0e32\\u0e21\\u0e25\\u0e37\\u0e48\\u0e19\\u0e25\\u0e30\\u0e21\\u0e38\\u0e19 \\u0e08\\u0e32\\u0e01\\u0e1d\\u0e35\\u0e21\\u0e37\\u0e2d Barista \\u0e2a\\u0e38\\u0e14\\u0e2b\\u0e25\\u0e48\\u0e2d \\u0e17\\u0e33\\u0e43\\u0e2b\\u0e49 After test \\u0e02\\u0e2d\\u0e07\\u0e01\\u0e32\\u0e41\\u0e1f\\u0e41\\u0e01\\u0e49\\u0e27\\u0e19\\u0e35\\u0e49 \\u0e14\\u0e39\\u0e21\\u0e35\\u0e2d\\u0e30\\u0e44\\u0e23\\u0e0b\\u0e48\\u0e2d\\u0e19\\u0e2d\\u0e22\\u0e39\\u0e48\\u0e2d\\u0e22\\u0e48\\u0e32\\u0e07\\u0e19\\u0e48\\u0e32\\u0e2a\\u0e19\\u0e43\\u0e08 \\u0e41\\u0e21\\u0e49\\u0e04\\u0e48\\u0e32\\u0e15\\u0e31\\u0e27\\u0e08\\u0e30\\u0e14\\u0e39\\u0e15\\u0e48\\u0e33\\u0e15\\u0e49\\u0e2d\\u0e22 \\u0e41\\u0e15\\u0e48\\u0e14\\u0e35\\u0e07\\u0e32\\u0e21\\u0e44\\u0e21\\u0e48\\u0e19\\u0e49\\u0e2d\\u0e22 \\u0e19\\u0e48\\u0e32\\u0e1b\\u0e23\\u0e30\\u0e17\\u0e31\\u0e1a\\u0e43\\u0e08\\u0e04\\u0e23\\u0e31\\u0e1a....\\n\\n     - Banoffee chocco freappe ( 85 \\u0e1a\\u0e32\\u0e17 ) ????????????: \\u0e0a\\u0e47\\u0e2d\\u0e01\\u0e42\\u0e01\\u0e41\\u0e25\\u0e15\\u0e17\\u0e35\\u0e48\\u0e1c\\u0e2a\\u0e21\\u0e01\\u0e31\\u0e1a\\u0e44\\u0e0b\\u0e23\\u0e31\\u0e1b\\u0e04\\u0e32\\u0e23\\u0e40\\u0e21\\u0e25\\u0e19\\u0e33\\u0e44\\u0e1b\\u0e1b\\u0e31\\u0e48\\u0e19\\u0e08\\u0e19\\u0e40\\u0e19\\u0e37\\u0e49\\u0e2d\\u0e40\\u0e19\\u0e35\\u0e22\\u0e19\\u0e40\\u0e02\\u0e49\\u0e32\\u0e01\\u0e31\\u0e19\\u0e14\\u0e35 \\u0e44\\u0e21\\u0e48\\u0e21\\u0e35\\u0e40\\u0e01\\u0e23\\u0e47\\u0e14 \\u0e40\\u0e19\\u0e37\\u0e49\\u0e2d\\u0e2d\\u0e2d\\u0e01\\u0e40\\u0e02\\u0e49\\u0e21\\u0e02\\u0e49\\u0e19 \\u0e40\\u0e2b\\u0e19\\u0e35\\u0e22\\u0e21\\u0e2b\\u0e19\\u0e36\\u0e1a\\u0e14\\u0e35\\u0e43\\u0e0a\\u0e49\\u0e44\\u0e14\\u0e49 \\u0e43\\u0e2b\\u0e49\\u0e23\\u0e2a\\u0e2b\\u0e27\\u0e32\\u0e19 \\u0e21\\u0e31\\u0e19\\u0e46 \\u0e44\\u0e14\\u0e49\\u0e43\\u0e08\\u0e1e\\u0e2d\\u0e04\\u0e27\\u0e23 \\u0e1b\\u0e23\\u0e30\\u0e14\\u0e31\\u0e1a\\u0e14\\u0e49\\u0e27\\u0e22\\u0e01\\u0e25\\u0e49\\u0e27\\u0e22\\u0e2b\\u0e2d\\u0e21\\u0e2b\\u0e31\\u0e48\\u0e19 \\u0e41\\u0e25\\u0e30\\u0e0a\\u0e47\\u0e2d\\u0e01\\u0e42\\u0e01\\u0e41\\u0e25\\u0e15\\u0e0a\\u0e34\\u0e1e\\u0e14\\u0e49\\u0e32\\u0e19\\u0e1a\\u0e19 \\u0e1b\\u0e34\\u0e14\\u0e17\\u0e49\\u0e32\\u0e22\\u0e14\\u0e49\\u0e32\\u0e19\\u0e1a\\u0e19\\u0e23\\u0e32\\u0e14\\u0e44\\u0e0b\\u0e23\\u0e31\\u0e1b \\u0e40\\u0e1e\\u0e34\\u0e48\\u0e21\\u0e04\\u0e27\\u0e32\\u0e21\\u0e2b\\u0e27\\u0e32\\u0e19\\u0e21\\u0e31\\u0e19 \\u0e40\\u0e02\\u0e49\\u0e21\\u0e02\\u0e49\\u0e19 \\u0e14\\u0e35\\u0e43\\u0e0a\\u0e49\\u0e44\\u0e14\\u0e49\\u0e40\\u0e25\\u0e22\\u0e04\\u0e23\\u0e31\\u0e1a\\n\\n     - Santa cat set ( 139 \\u0e1a\\u0e32\\u0e17 ) ????????????: \\u0e41\\u0e21\\u0e27\\u0e40\\u0e2b\\u0e21\\u0e35\\u0e22\\u0e27\\u0e08\\u0e21\\u0e39\\u0e01\\u0e1f\\u0e49\\u0e32\\u0e2a\\u0e38\\u0e14\\u0e19\\u0e48\\u0e32\\u0e23\\u0e31\\u0e01\\u0e15\\u0e49\\u0e2d\\u0e19\\u0e23\\u0e31\\u0e1a\\u0e40\\u0e17\\u0e28\\u0e01\\u0e32\\u0e25\\u0e04\\u0e23\\u0e34\\u0e2a\\u0e21\\u0e32\\u0e2a\\u0e17\\u0e4c (\\u0e04\\u0e19\\u0e2d\\u0e48\\u0e32\\u0e19\\u0e16\\u0e32\\u0e21 : \\u0e14\\u0e2d\\u0e07\\u0e23\\u0e35\\u0e27\\u0e34\\u0e27\\u0e2d\\u0e35\\u0e01\\u0e41\\u0e25\\u0e49\\u0e27\\u0e43\\u0e0a\\u0e48\\u0e44\\u0e2b\\u0e21\\u0e04\\u0e48\\u0e30 ...555+) \\u0e0a\\u0e47\\u0e2d\\u0e01\\u0e42\\u0e01\\u0e41\\u0e25\\u0e15\\u0e21\\u0e39\\u0e2a\\u0e40\\u0e19\\u0e37\\u0e49\\u0e2d\\u0e1a\\u0e32\\u0e07\\u0e40\\u0e1a\\u0e32 \\u0e2d\\u0e2d\\u0e01\\u0e2b\\u0e27\\u0e32\\u0e19 \\u0e02\\u0e21 \\u0e40\\u0e02\\u0e49\\u0e21\\u0e14\\u0e35\\u0e43\\u0e0a\\u0e49\\u0e44\\u0e14\\u0e49 \\u0e40\\u0e19\\u0e37\\u0e49\\u0e2d\\u0e25\\u0e30\\u0e21\\u0e38\\u0e19\\u0e46\\u0e25\\u0e30\\u0e40\\u0e2d\\u0e35\\u0e22\\u0e14\\u0e1e\\u0e2d\\u0e04\\u0e27\\u0e23 \\u0e2b\\u0e48\\u0e2d\\u0e2b\\u0e38\\u0e49\\u0e21\\u0e04\\u0e38\\u0e49\\u0e21\\u0e01\\u0e31\\u0e19\\u0e0a\\u0e47\\u0e2d\\u0e01\\u0e42\\u0e01\\u0e41\\u0e25\\u0e15\\u0e17\\u0e35\\u0e48\\u0e2b\\u0e27\\u0e32\\u0e19 \\u0e40\\u0e02\\u0e49\\u0e21\\u0e40\\u0e1b\\u0e47\\u0e19\\u0e01\\u0e49\\u0e2d\\u0e19\\u0e43\\u0e2b\\u0e0d\\u0e48\\u0e2d\\u0e22\\u0e39\\u0e48\\u0e14\\u0e49\\u0e32\\u0e19\\u0e43\\u0e19 \\u0e43\\u0e2b\\u0e49\\u0e44\\u0e14\\u0e49 Surprise \\u0e01\\u0e31\\u0e1a\\u0e15\\u0e31\\u0e1a\\u0e44\\u0e15\\u0e02\\u0e2d\\u0e07\\u0e19\\u0e49\\u0e2d\\u0e07\\u0e40\\u0e2b\\u0e21\\u0e35\\u0e22\\u0e27 555+ \\u0e21\\u0e35\\u0e2b\\u0e21\\u0e27\\u0e01\\u0e27\\u0e34\\u0e1b\\u0e04\\u0e23\\u0e35\\u0e21\\u0e41\\u0e25\\u0e30\\u0e2a\\u0e15\\u0e23\\u0e2d\\u0e40\\u0e1a\\u0e2d\\u0e23\\u0e4c\\u0e23\\u0e35\\u0e48\\u0e2a\\u0e14\\u0e1b\\u0e23\\u0e30\\u0e14\\u0e31\\u0e1a\\u0e44\\u0e27\\u0e49\\u0e14\\u0e49\\u0e32\\u0e19\\u0e1a\\u0e19\\u0e46 \\u0e17\\u0e32\\u0e19\\u0e04\\u0e39\\u0e48\\u0e01\\u0e31\\u0e1a\\u0e04\\u0e31\\u0e2a\\u0e15\\u0e32\\u0e23\\u0e4c\\u0e14\\u0e17\\u0e35\\u0e48\\u0e21\\u0e35\\u0e41\\u0e22\\u0e21\\u0e2a\\u0e15\\u0e23\\u0e2d\\u0e40\\u0e1a\\u0e2d\\u0e23\\u0e4c\\u0e23\\u0e35\\u0e48\\u0e2a\\u0e35\\u0e2a\\u0e27\\u0e22\\u0e19\\u0e2d\\u0e19\\u0e17\\u0e31\\u0e1a\\u0e2d\\u0e22\\u0e39\\u0e48\\u0e14\\u0e49\\u0e32\\u0e19\\u0e1a\\u0e19 \\u0e43\\u0e2b\\u0e49\\u0e23\\u0e2a\\u0e40\\u0e1b\\u0e23\\u0e35\\u0e49\\u0e22\\u0e27\\u0e41\\u0e25\\u0e30\\u0e2b\\u0e27\\u0e32\\u0e19\\u0e15\\u0e31\\u0e14\\u0e01\\u0e31\\u0e19 \\u0e19\\u0e38\\u0e48\\u0e21\\u0e46\\u0e25\\u0e37\\u0e48\\u0e19\\u0e46\\u0e2b\\u0e22\\u0e38\\u0e48\\u0e19\\u0e46\\u0e1e\\u0e2d\\u0e14\\u0e34\\u0e1a\\u0e1e\\u0e2d\\u0e14\\u0e35 \\u0e41\\u0e25\\u0e30\\u0e21\\u0e35\\u0e40\\u0e1e\\u0e37\\u0e48\\u0e2d\\u0e19\\u0e44\\u0e2d\\u0e28\\u0e04\\u0e23\\u0e35\\u0e21\\u0e27\\u0e32\\u0e19\\u0e34\\u0e25\\u0e25\\u0e32\\u0e01\\u0e49\\u0e2d\\u0e19\\u0e42\\u0e15 \\u0e40\\u0e19\\u0e37\\u0e49\\u0e2d\\u0e40\\u0e2b\\u0e25\\u0e37\\u0e2d\\u0e07\\u0e02\\u0e32\\u0e27\\u0e2a\\u0e27\\u0e22 \\u0e40\\u0e19\\u0e35\\u0e22\\u0e19\\u0e1e\\u0e2d\\u0e44\\u0e14\\u0e49 \\u0e23\\u0e2a\\u0e2b\\u0e27\\u0e32\\u0e19 \\u0e2b\\u0e2d\\u0e21\\u0e18\\u0e23\\u0e23\\u0e21\\u0e14\\u0e32\\u0e04\\u0e23\\u0e31\\u0e1a\\n\\n<<\\u0e1b\\u0e34\\u0e14\\u0e15\\u0e25\\u0e32\\u0e14\\u0e0b\\u0e37\\u0e49\\u0e2d\\u0e02\\u0e32\\u0e22 \\u0e40\\u0e02\\u0e35\\u0e22\\u0e27\\u0e2b\\u0e23\\u0e37\\u0e2d\\u0e41\\u0e14\\u0e07\\u0e21\\u0e32\\u0e25\\u0e38\\u0e49\\u0e19>>\\n\\n     >\\u0e23\\u0e2a\\u0e0a\\u0e32\\u0e15\\u0e34 \\u2013 3.5/5 : \\u0e01\\u0e32\\u0e41\\u0e1f\\u0e17\\u0e33\\u0e44\\u0e14\\u0e49\\u0e14\\u0e35\\u0e41\\u0e25\\u0e49\\u0e27\\u0e04\\u0e23\\u0e31\\u0e1a \\u0e21\\u0e35\\u0e04\\u0e27\\u0e32\\u0e21\\u0e40\\u0e1b\\u0e47\\u0e19\\u0e40\\u0e2d\\u0e01\\u0e25\\u0e31\\u0e01\\u0e29\\u0e13\\u0e4c\\u0e14\\u0e35\\u0e43\\u0e0a\\u0e49\\u0e44\\u0e14\\u0e49 \\u0e23\\u0e2a \\u0e01\\u0e25\\u0e34\\u0e48\\u0e19 \\u0e1a\\u0e2d\\u0e14\\u0e35\\u0e49 after test \\u0e21\\u0e32\\u0e43\\u0e19\\u0e40\\u0e01\\u0e13\\u0e11\\u0e4c\\u0e14\\u0e35\\u0e40\\u0e25\\u0e22 \\u0e2d\\u0e35\\u0e01\\u0e41\\u0e01\\u0e49\\u0e27\\u0e22\\u0e31\\u0e07\\u0e44\\u0e21\\u0e48\\u0e1b\\u0e23\\u0e30\\u0e17\\u0e31\\u0e1a\\u0e43\\u0e08\\u0e21\\u0e32\\u0e01\\u0e19\\u0e31\\u0e01 \\u0e23\\u0e39\\u0e49\\u0e2a\\u0e36\\u0e01\\u0e22\\u0e31\\u0e07\\u0e18\\u0e23\\u0e23\\u0e21\\u0e14\\u0e32\\u0e44\\u0e1b\\u0e2b\\u0e19\\u0e48\\u0e2d\\u0e22 \\u0e44\\u0e2d\\u0e40\\u0e14\\u0e35\\u0e22\\u0e14\\u0e35\\u0e41\\u0e25\\u0e49\\u0e27 \\u0e40\\u0e02\\u0e49\\u0e21\\u0e02\\u0e49\\u0e19\\u0e1b\\u0e32\\u0e19\\u0e01\\u0e25\\u0e32\\u0e07 \\u0e41\\u0e15\\u0e48\\u0e01\\u0e25\\u0e34\\u0e48\\u0e19\\u0e44\\u0e21\\u0e48\\u0e21\\u0e32 \\u0e41\\u0e25\\u0e30\\u0e22\\u0e31\\u0e07\\u0e2a\\u0e37\\u0e48\\u0e2d\\u0e44\\u0e21\\u0e48\\u0e16\\u0e36\\u0e07\\u0e23\\u0e2a\\u0e02\\u0e2d\\u0e07\\u0e1b\\u0e25\\u0e32\\u0e22\\u0e17\\u0e32\\u0e07\\u0e04\\u0e23\\u0e31\\u0e1a \\u0e2a\\u0e48\\u0e27\\u0e19\\u0e02\\u0e19\\u0e21\\u0e22\\u0e31\\u0e07\\u0e44\\u0e21\\u0e48\\u0e2a\\u0e38\\u0e14\\u0e40\\u0e0a\\u0e48\\u0e19\\u0e01\\u0e31\\u0e19\\u0e04\\u0e23\\u0e31\\u0e1a \\u0e22\\u0e31\\u0e07\\u0e44\\u0e21\\u0e48\\u0e40\\u0e02\\u0e49\\u0e21\\u0e02\\u0e49\\u0e19 \\u0e2b\\u0e27\\u0e32\\u0e19\\u0e21\\u0e31\\u0e19\\u0e14\\u0e31\\u0e48\\u0e07\\u0e04\\u0e27\\u0e32\\u0e21\\u0e1e\\u0e36\\u0e07\\u0e1e\\u0e2d\\u0e43\\u0e08 \\u0e23\\u0e2a\\u0e0a\\u0e32\\u0e15\\u0e34\\u0e14\\u0e35\\u0e43\\u0e0a\\u0e49\\u0e44\\u0e14\\u0e49 \\u0e27\\u0e31\\u0e15\\u0e16\\u0e38\\u0e14\\u0e35\\u0e08\\u0e31\\u0e14\\u0e40\\u0e15\\u0e47\\u0e21\\u0e1e\\u0e2d\\u0e2a\\u0e21\\u0e04\\u0e27\\u0e23  \\u0e04\\u0e27\\u0e32\\u0e21\\u0e2b\\u0e2d\\u0e21\\u0e22\\u0e31\\u0e07\\u0e44\\u0e21\\u0e48\\u0e0a\\u0e31\\u0e14\\u0e40\\u0e14\\u0e48\\u0e19 \\u0e2a\\u0e35\\u0e2a\\u0e35\\u0e19\\u0e19\\u0e48\\u0e32\\u0e17\\u0e32\\u0e19\\u0e14\\u0e35\\u0e43\\u0e0a\\u0e49\\u0e44\\u0e14\\u0e49\\u0e04\\u0e23\\u0e31\\u0e1a \\u0e14\\u0e49\\u0e27\\u0e22\\u0e04\\u0e27\\u0e32\\u0e21\\u0e40\\u0e04\\u0e32\\u0e23\\u0e1e...\\n\\n     >\\u0e23\\u0e32\\u0e04\\u0e32 \\u2013 4/5 : \\u0e04\\u0e1a\\u0e2b\\u0e32\\u0e44\\u0e14\\u0e49 \\u0e09\\u0e31\\u0e19\\u0e21\\u0e34\\u0e15\\u0e23\\u0e2a\\u0e19\\u0e34\\u0e17 \\u0e23\\u0e32\\u0e04\\u0e32\\u0e19\\u0e38\\u0e48\\u0e19\\u0e08\\u0e19\\u0e19\\u0e48\\u0e32\\u0e2a\\u0e19\\u0e43\\u0e08\\u0e44\\u0e21\\u0e48\\u0e19\\u0e49\\u0e2d\\u0e22\\u0e40\\u0e25\\u0e22 (\\u0e43\\u0e19\\u0e1a\\u0e32\\u0e07\\u0e40\\u0e21\\u0e19\\u0e39 555+) \\u0e04\\u0e38\\u0e13\\u0e20\\u0e32\\u0e1e\\u0e2d\\u0e22\\u0e39\\u0e48\\u0e43\\u0e19\\u0e40\\u0e01\\u0e13\\u0e11\\u0e4c\\u0e14\\u0e35 \\u0e19\\u0e48\\u0e32\\u0e1e\\u0e36\\u0e07\\u0e1e\\u0e2d\\u0e43\\u0e08\\u0e17\\u0e31\\u0e49\\u0e07\\u0e27\\u0e31\\u0e15\\u0e16\\u0e38\\u0e14\\u0e34\\u0e1a\\u0e41\\u0e25\\u0e30\\u0e1b\\u0e23\\u0e34\\u0e21\\u0e32\\u0e13 \\u0e02\\u0e19\\u0e21\\u0e1b\\u0e23\\u0e34\\u0e21\\u0e32\\u0e13\\u0e14\\u0e39\\u0e40\\u0e2b\\u0e21\\u0e32\\u0e30\\u0e2a\\u0e21\\u0e42\\u0e2d\\u0e40\\u0e04 \\u0e04\\u0e38\\u0e13\\u0e20\\u0e32\\u0e1e\\u0e14\\u0e39\\u0e14\\u0e35\\u0e43\\u0e0a\\u0e49\\u0e44\\u0e14\\u0e49 \\u0e41\\u0e21\\u0e49\\u0e22\\u0e31\\u0e07\\u0e44\\u0e21\\u0e48\\u0e27\\u0e49\\u0e32\\u0e27\\u0e41\\u0e1a\\u0e1a\\u0e1b\\u0e32\\u0e01\\u0e01\\u0e27\\u0e49\\u0e32\\u0e07\\u0e01\\u0e47\\u0e15\\u0e32\\u0e21 \\u0e19\\u0e49\\u0e33\\u0e14\\u0e37\\u0e48\\u0e21\\u0e1f\\u0e23\\u0e35\\u0e21\\u0e35\\u0e43\\u0e2b\\u0e49\\u0e1a\\u0e23\\u0e34\\u0e01\\u0e32\\u0e23\\u0e15\\u0e31\\u0e27\\u0e40\\u0e2d\\u0e07 \\u0e40\\u0e08\\u0e2d\\u0e44\\u0e1b\\u0e41\\u0e04\\u0e48\\u0e19\\u0e35\\u0e49 \\u0e19\\u0e49\\u0e2d\\u0e07 GB \\u0e01\\u0e47 Happy \\u0e14\\u0e35\\u0e4a\\u0e14\\u0e35\\u0e41\\u0e25\\u0e49\\u0e27\\u0e08\\u0e4a\\u0e30\\n\\n     >\\u0e1a\\u0e23\\u0e23\\u0e22\\u0e32\\u0e01\\u0e32\\u0e28 \\u2013 3.5/5 : \\u0e23\\u0e49\\u0e32\\u0e19\\u0e02\\u0e19\\u0e32\\u0e14\\u0e1e\\u0e2d\\u0e14\\u0e35\\u0e46\\u0e04\\u0e23\\u0e31\\u0e1a \\u0e44\\u0e21\\u0e48\\u0e44\\u0e14\\u0e49\\u0e01\\u0e27\\u0e49\\u0e32\\u0e07\\u0e02\\u0e27\\u0e32\\u0e07\\u0e43\\u0e2b\\u0e0d\\u0e48\\u0e42\\u0e15\\u0e21\\u0e32\\u0e01\\u0e21\\u0e32\\u0e22\\u0e41\\u0e15\\u0e48\\u0e01\\u0e47\\u0e19\\u0e31\\u0e48\\u0e07\\u0e2a\\u0e1a\\u0e32\\u0e22\\u0e46\\u0e1e\\u0e2d\\u0e2a\\u0e21\\u0e04\\u0e27\\u0e23 \\u0e14\\u0e49\\u0e27\\u0e22\\u0e40\\u0e01\\u0e49\\u0e32\\u0e2d\\u0e35\\u0e49\\u0e2a\\u0e35\\u0e41\\u0e14\\u0e07\\u0e41\\u0e1b\\u0e23\\u0e4a\\u0e14\\u0e41\\u0e15\\u0e48\\u0e19\\u0e31\\u0e48\\u0e07\\u0e19\\u0e34\\u0e48\\u0e21\\u0e46\\u0e19\\u0e38\\u0e48\\u0e21\\u0e46\\u0e14\\u0e35 \\u0e17\\u0e32\\u0e19\\u0e01\\u0e31\\u0e1a\\u0e42\\u0e15\\u0e4a\\u0e30\\u0e41\\u0e1a\\u0e1a\\u0e01\\u0e25\\u0e21 5-6 \\u0e17\\u0e35\\u0e48 \\u0e17\\u0e35\\u0e48\\u0e04\\u0e48\\u0e2d\\u0e19\\u0e02\\u0e49\\u0e32\\u0e07\\u0e40\\u0e25\\u0e47\\u0e01\\u0e44\\u0e1b\\u0e19\\u0e34\\u0e14 \\u0e27\\u0e32\\u0e07\\u0e02\\u0e19\\u0e21\\u0e19\\u0e49\\u0e33\\u0e17\\u0e35\\u0e19\\u0e35\\u0e48\\u0e40\\u0e15\\u0e47\\u0e21\\u0e42\\u0e15\\u0e4a\\u0e30\\u0e44\\u0e21\\u0e48\\u0e40\\u0e1a\\u0e32 555+ \\u0e41\\u0e2d\\u0e23\\u0e4c\\u0e40\\u0e22\\u0e47\\u0e19\\u0e2a\\u0e1a\\u0e32\\u0e22\\u0e46 \\u0e40\\u0e1b\\u0e47\\u0e19\\u0e23\\u0e30\\u0e40\\u0e1a\\u0e35\\u0e22\\u0e1a\\u0e41\\u0e25\\u0e30\\u0e2a\\u0e30\\u0e2d\\u0e32\\u0e14\\u0e2a\\u0e30\\u0e2d\\u0e49\\u0e32\\u0e19\\u0e14\\u0e35\\u0e04\\u0e23\\u0e31\\u0e1a\\n\\n     >\\u0e1a\\u0e23\\u0e34\\u0e01\\u0e32\\u0e23 \\u2013 4.5/5 : \\u0e19\\u0e49\\u0e2d\\u0e07\\u0e17\\u0e35\\u0e48\\u0e15\\u0e49\\u0e2d\\u0e19\\u0e23\\u0e31\\u0e1a\\u0e40\\u0e23\\u0e32\\u0e41\\u0e25\\u0e30 Barista \\u0e17\\u0e35\\u0e48\\u0e04\\u0e32\\u0e14\\u0e27\\u0e48\\u0e32\\u0e08\\u0e30\\u0e40\\u0e1b\\u0e47\\u0e19\\u0e40\\u0e08\\u0e49\\u0e32\\u0e02\\u0e2d\\u0e07\\u0e23\\u0e49\\u0e32\\u0e19 \\u0e14\\u0e39\\u0e41\\u0e25\\u0e40\\u0e23\\u0e32\\u0e40\\u0e1b\\u0e47\\u0e19\\u0e2d\\u0e22\\u0e48\\u0e32\\u0e07\\u0e14\\u0e35\\u0e04\\u0e23\\u0e31\\u0e1a \\u0e22\\u0e34\\u0e49\\u0e21\\u0e41\\u0e22\\u0e49\\u0e21\\u0e41\\u0e08\\u0e48\\u0e21\\u0e43\\u0e2a\\u0e41\\u0e25\\u0e30\\u0e1e\\u0e39\\u0e14\\u0e08\\u0e32\\u0e2a\\u0e38\\u0e20\\u0e32\\u0e1e\\u0e40\\u0e23\\u0e35\\u0e22\\u0e1a\\u0e23\\u0e49\\u0e2d\\u0e22 \\u0e41\\u0e21\\u0e49\\u0e08\\u0e30\\u0e2d\\u0e2d\\u0e01\\u0e40\\u0e1a\\u0e32\\u0e46\\u0e44\\u0e1b\\u0e2b\\u0e19\\u0e48\\u0e2d\\u0e22 555+ \\u0e43\\u0e2b\\u0e49\\u0e04\\u0e33\\u0e41\\u0e19\\u0e30\\u0e19\\u0e33\\u0e14\\u0e35 \\u0e19\\u0e33\\u0e40\\u0e2a\\u0e34\\u0e23\\u0e4c\\u0e1f\\u0e16\\u0e36\\u0e07\\u0e42\\u0e15\\u0e4a\\u0e30 \\u0e17\\u0e48\\u0e32\\u0e17\\u0e32\\u0e07\\u0e14\\u0e35\\u0e07\\u0e32\\u0e21 \\u0e1b\\u0e23\\u0e30\\u0e19\\u0e1a\\u0e19\\u0e49\\u0e2d\\u0e21 \\u0e02\\u0e2d\\u0e1a\\u0e04\\u0e38\\u0e13\\u0e17\\u0e38\\u0e01\\u0e01\\u0e23\\u0e30\\u0e1a\\u0e27\\u0e19\\u0e17\\u0e48\\u0e32\\u0e02\\u0e2d\\u0e07\\u0e40\\u0e23\\u0e32 555+ \\u0e40\\u0e0a\\u0e35\\u0e22\\u0e23\\u0e4c\\u0e41\\u0e02\\u0e01\\u0e14\\u0e35\\u0e43\\u0e0a\\u0e49\\u0e44\\u0e14\\u0e49 \\u0e19\\u0e48\\u0e32\\u0e40\\u0e2a\\u0e35\\u0e22\\u0e14\\u0e32\\u0e22\\u0e44\\u0e1b\\u0e2b\\u0e19\\u0e48\\u0e2d\\u0e22 \\u0e16\\u0e49\\u0e32\\u0e1a\\u0e2d\\u0e01\\u0e40\\u0e23\\u0e37\\u0e48\\u0e2d\\u0e07\\u0e19\\u0e49\\u0e33\\u0e14\\u0e37\\u0e48\\u0e21\\u0e1f\\u0e23\\u0e35\\u0e17\\u0e35\\u0e48\\u0e2b\\u0e31\\u0e27\\u0e21\\u0e38\\u0e21\\u0e40\\u0e1e\\u0e34\\u0e48\\u0e21 \\u0e2a\\u0e33\\u0e2b\\u0e23\\u0e31\\u0e1a\\u0e25\\u0e39\\u0e01\\u0e04\\u0e49\\u0e32\\u0e17\\u0e35\\u0e48\\u0e40\\u0e02\\u0e49\\u0e32\\u0e21\\u0e32\\u0e41\\u0e25\\u0e49\\u0e27 \\u0e08\\u0e30\\u0e14\\u0e35\\u0e07\\u0e32\\u0e21\\u0e44\\u0e21\\u0e48\\u0e19\\u0e49\\u0e2d\\u0e22\\u0e04\\u0e23\\u0e31\\u0e1a \\u0e01\\u0e32\\u0e23\\u0e40\\u0e15\\u0e23\\u0e35\\u0e22\\u0e21\\u0e2d\\u0e32\\u0e2b\\u0e32\\u0e23\\u0e23\\u0e27\\u0e14\\u0e40\\u0e23\\u0e47\\u0e27\\u0e14\\u0e35\\u0e43\\u0e0a\\u0e49\\u0e44\\u0e14\\u0e49 \\u0e2a\\u0e16\\u0e32\\u0e19\\u0e17\\u0e35\\u0e48\\u0e08\\u0e2d\\u0e14\\u0e23\\u0e16\\u0e1e\\u0e2d\\u0e1e\\u0e36\\u0e48\\u0e07\\u0e1e\\u0e32\\u0e44\\u0e14\\u0e49\\u0e43\\u0e19\\u0e23\\u0e30\\u0e14\\u0e31\\u0e1a\\u0e19\\u0e36\\u0e07\\u0e04\\u0e23\\u0e31\\u0e1a\\n\\n<< \\u0e1b\\u0e23\\u0e30\\u0e01\\u0e32\\u0e28\\u0e1c\\u0e25\\u0e1b\\u0e23\\u0e30\\u0e01\\u0e2d\\u0e1a\\u0e01\\u0e32\\u0e23 >>\\n\\n     \\u0e25\\u0e07\\u0e17\\u0e38\\u0e19\\u0e41\\u0e25\\u0e49\\u0e27 \\u0e14\\u0e39\\u0e41\\u0e25\\u0e14\\u0e35 \\u0e21\\u0e35\\u0e01\\u0e33\\u0e44\\u0e23\\u0e41\\u0e1a\\u0e1a\\u0e19\\u0e35\\u0e49 \\u0e1e\\u0e35\\u0e48\\u0e15\\u0e49\\u0e2d\\u0e07\\u0e15\\u0e32\\u0e21\\u0e15\\u0e34\\u0e14\\u0e1c\\u0e25\\u0e01\\u0e31\\u0e19\\u0e22\\u0e32\\u0e27\\u0e46\\u0e41\\u0e19\\u0e48\\u0e08\\u0e4a\\u0e30\\n\\n ===================================\\n\\n     \\u201c \\u0e23\\u0e35\\u0e27\\u0e34\\u0e27\\u0e17\\u0e38\\u0e01\\u0e09\\u0e1a\\u0e31\\u0e1a \\u0e44\\u0e21\\u0e48\\u0e40\\u0e2b\\u0e21\\u0e32\\u0e30\\u0e2a\\u0e33\\u0e2b\\u0e23\\u0e31\\u0e1a\\u0e40\\u0e08\\u0e49\\u0e32\\u0e02\\u0e2d\\u0e07\\u0e23\\u0e49\\u0e32\\u0e19\\u0e43\\u0e08\\u0e41\\u0e04\\u0e1a \\u0e2b\\u0e25\\u0e07\\u0e43\\u0e2b\\u0e25 \\u0e2b\\u0e21\\u0e01\\u0e21\\u0e38\\u0e48\\u0e19 \\u0e41\\u0e25\\u0e30\\u0e1c\\u0e39\\u0e49\\u0e17\\u0e35\\u0e48\\u0e44\\u0e21\\u0e48\\u0e23\\u0e39\\u0e49\\u0e08\\u0e31\\u0e01\\u0e1c\\u0e34\\u0e14\\u0e0a\\u0e2d\\u0e1a\\u0e0a\\u0e31\\u0e48\\u0e27\\u0e14\\u0e35\\u0e02\\u0e2d\\u0e07\\u0e15\\u0e19\\u0e40\\u0e2d\\u0e07 \\u0e42\\u0e1b\\u0e23\\u0e14\\u0e2d\\u0e22\\u0e48\\u0e32\\u0e17\\u0e33\\u0e15\\u0e31\\u0e27\\u0e42\\u0e25\\u0e01\\u0e41\\u0e04\\u0e1a \\u0e04\\u0e27\\u0e23\\u0e2b\\u0e31\\u0e14\\u0e40\\u0e1b\\u0e34\\u0e14\\u0e2b\\u0e39\\u0e40\\u0e1b\\u0e34\\u0e14\\u0e15\\u0e32\\u0e40\\u0e1b\\u0e34\\u0e14\\u0e01\\u0e30\\u0e25\\u0e32\\u0e40\\u0e1b\\u0e34\\u0e14\\u0e43\\u0e08\\u0e01\\u0e31\\u0e19\\u0e1a\\u0e49\\u0e32\\u0e07 \\u0e40\\u0e1e\\u0e37\\u0e48\\u0e2d\\u0e01\\u0e32\\u0e23\\u0e1b\\u0e23\\u0e31\\u0e1a\\u0e1b\\u0e23\\u0e38\\u0e07\\u0e43\\u0e19\\u0e17\\u0e38\\u0e01\\u0e46\\u0e14\\u0e49\\u0e32\\u0e19 \\u0e25\\u0e39\\u0e01\\u0e04\\u0e49\\u0e32\\u0e04\\u0e37\\u0e2d\\u0e1e\\u0e23\\u0e30\\u0e40\\u0e08\\u0e49\\u0e32 \\u0e1e\\u0e23\\u0e30\\u0e40\\u0e08\\u0e49\\u0e32\\u0e21\\u0e35\\u0e14\\u0e35 \\u0e21\\u0e35\\u0e07\\u0e35\\u0e48\\u0e40\\u0e07\\u0e48\\u0e32\\u0e1a\\u0e49\\u0e32\\u0e07 \\u0e21\\u0e31\\u0e19\\u0e40\\u0e1b\\u0e47\\u0e19\\u0e40\\u0e23\\u0e37\\u0e48\\u0e2d\\u0e07\\u0e1b\\u0e01\\u0e15\\u0e34 \\u0e41\\u0e15\\u0e48...\\u0e1e\\u0e23\\u0e30\\u0e40\\u0e08\\u0e49\\u0e32\\u0e40\\u0e2d\\u0e32\\u0e15\\u0e31\\u0e07\\u0e21\\u0e32\\u0e43\\u0e2b\\u0e49\\u0e04\\u0e38\\u0e13\\u0e43\\u0e0a\\u0e49 \\u0e44\\u0e21\\u0e48\\u0e44\\u0e14\\u0e49\\u0e02\\u0e2d\\u0e17\\u0e32\\u0e19\\u0e1f\\u0e23\\u0e35\\u0e19\\u0e30\\u0e04\\u0e23\\u0e31\\u0e1a \\u201d\\n\\nJust enjoy it\\u2026!!!  Flamboyant and frank review by GB.\\n\\n\",\n          \"\\u0e23\\u0e49\\u0e32\\u0e19 Buttercup \\u0e23\\u0e49\\u0e32\\u0e19\\u0e01\\u0e32\\u0e41\\u0e1f\\u0e1a\\u0e23\\u0e23\\u0e22\\u0e32\\u0e01\\u0e32\\u0e28\\u0e14\\u0e35\\u0e21\\u0e32\\u0e01\\u0e46 \\u0e2d\\u0e22\\u0e39\\u0e48\\u0e43\\u0e19\\u0e0b\\u0e2d\\u0e22\\u0e28\\u0e39\\u0e19\\u0e22\\u0e4c\\u0e27\\u0e34\\u0e08\\u0e31\\u0e22 \\u0e0a\\u0e31\\u0e49\\u0e19\\u0e25\\u0e48\\u0e32\\u0e07\\u0e02\\u0e2d\\u0e07\\u0e42\\u0e23\\u0e07\\u0e41\\u0e23\\u0e21 Amari Residence \\u0e2a\\u0e32\\u0e21\\u0e32\\u0e23\\u0e16\\u0e08\\u0e2d\\u0e14\\u0e23\\u0e16\\u0e44\\u0e14\\u0e49\\u0e17\\u0e35\\u0e48\\u0e14\\u0e49\\u0e32\\u0e19\\u0e2b\\u0e19\\u0e49\\u0e32\\u0e2b\\u0e23\\u0e37\\u0e2d\\u0e40\\u0e02\\u0e49\\u0e32\\u0e21\\u0e32\\u0e08\\u0e2d\\u0e14\\u0e0a\\u0e31\\u0e49\\u0e19\\u0e08\\u0e2d\\u0e14\\u0e23\\u0e16\\u0e02\\u0e2d\\u0e07\\u0e42\\u0e23\\u0e07\\u0e41\\u0e23\\u0e21\\u0e01\\u0e47\\u0e44\\u0e14\\u0e49\\u0e40\\u0e25\\u0e22\\u0e04\\u0e48\\u0e30 \\u0e23\\u0e49\\u0e32\\u0e19\\u0e15\\u0e01\\u0e41\\u0e15\\u0e48\\u0e07\\u0e2a\\u0e27\\u0e22\\u0e21\\u0e32\\u0e01\\u0e2d\\u0e1a\\u0e2d\\u0e38\\u0e48\\u0e19\\u0e14\\u0e49\\u0e27\\u0e22\\u0e42\\u0e17\\u0e19\\u0e2a\\u0e35\\u0e40\\u0e2b\\u0e25\\u0e37\\u0e2d\\u0e07 \\u0e40\\u0e14\\u0e34\\u0e19\\u0e40\\u0e02\\u0e49\\u0e32\\u0e21\\u0e32\\u0e08\\u0e30\\u0e1e\\u0e1a\\u0e01\\u0e31\\u0e1a\\u0e40\\u0e04\\u0e32\\u0e17\\u0e4c\\u0e40\\u0e15\\u0e2d\\u0e23\\u0e4c\\u0e44\\u0e21\\u0e49\\u0e02\\u0e19\\u0e32\\u0e14\\u0e43\\u0e2b\\u0e0d\\u0e48 \\u0e21\\u0e35\\u0e15\\u0e39\\u0e49\\u0e40\\u0e04\\u0e49\\u0e01\\u0e08\\u0e23\\u0e07\\u0e40\\u0e04\\u0e32\\u0e23\\u0e4c\\u0e40\\u0e15\\u0e2d\\u0e23\\u0e4c\\u0e43\\u0e2b\\u0e49\\u0e40\\u0e25\\u0e37\\u0e2d\\u0e01\\u0e02\\u0e19\\u0e21\\u0e1b\\u0e31\\u0e07\\u0e41\\u0e25\\u0e30\\u0e40\\u0e04\\u0e49\\u0e01 \\u0e42\\u0e15\\u0e4a\\u0e30\\u0e17\\u0e35\\u0e48\\u0e19\\u0e31\\u0e48\\u0e07\\u0e20\\u0e32\\u0e22\\u0e43\\u0e19\\u0e23\\u0e49\\u0e32\\u0e19\\u0e08\\u0e30\\u0e40\\u0e1b\\u0e47\\u0e19\\u0e40\\u0e2b\\u0e21\\u0e37\\u0e2d\\u0e19\\u0e0a\\u0e38\\u0e14\\u0e42\\u0e0b\\u0e1f\\u0e32\\u0e23\\u0e31\\u0e1a\\u0e41\\u0e02\\u0e01\\u0e44\\u0e21\\u0e49\\u0e01\\u0e31\\u0e1a\\u0e1c\\u0e49\\u0e32\\u0e2a\\u0e35\\u0e40\\u0e2b\\u0e25\\u0e37\\u0e2d\\u0e07\\u0e2a\\u0e14\\u0e43\\u0e2a \\u0e01\\u0e32\\u0e23\\u0e08\\u0e31\\u0e14\\u0e27\\u0e32\\u0e07\\u0e42\\u0e15\\u0e4a\\u0e30\\u0e20\\u0e32\\u0e22\\u0e43\\u0e19\\u0e23\\u0e49\\u0e32\\u0e19\\u0e44\\u0e21\\u0e48\\u0e0a\\u0e34\\u0e14\\u0e01\\u0e31\\u0e19\\u0e21\\u0e32\\u0e01 \\u0e17\\u0e33\\u0e43\\u0e2b\\u0e49\\u0e44\\u0e21\\u0e48\\u0e23\\u0e39\\u0e49\\u0e2a\\u0e36\\u0e01\\u0e2d\\u0e36\\u0e14\\u0e2d\\u0e31\\u0e14 \\u0e2b\\u0e23\\u0e37\\u0e2d\\u0e08\\u0e30\\u0e40\\u0e25\\u0e37\\u0e2d\\u0e01\\u0e19\\u0e31\\u0e48\\u0e07\\u0e42\\u0e0b\\u0e19 outdoor \\u0e19\\u0e2d\\u0e01\\u0e23\\u0e49\\u0e32\\u0e19\\u0e0a\\u0e21\\u0e27\\u0e34\\u0e27\\u0e2a\\u0e27\\u0e19\\u0e01\\u0e47\\u0e44\\u0e14\\u0e49\\u0e1a\\u0e23\\u0e23\\u0e22\\u0e32\\u0e01\\u0e32\\u0e28\\u0e44\\u0e1b\\u0e2d\\u0e35\\u0e01\\u0e41\\u0e1a\\u0e1a\\u0e19\\u0e30\\u0e04\\u0e30 \\u0e1e\\u0e19\\u0e31\\u0e01\\u0e07\\u0e32\\u0e19\\u0e1a\\u0e1a\\u0e23\\u0e34\\u0e01\\u0e32\\u0e23\\u0e14\\u0e35\\u0e04\\u0e48\\u0e30\\u0e41\\u0e15\\u0e48\\u0e41\\u0e2d\\u0e23\\u0e4c\\u0e44\\u0e1b\\u0e2b\\u0e19\\u0e48\\u0e2d\\u0e22\"\n        ],\n        \"semantic_type\": \"\",\n        \"description\": \"\"\n      }\n    },\n    {\n      \"column\": \"column1\",\n      \"properties\": {\n        \"dtype\": \"number\",\n        \"std\": 0,\n        \"min\": 1,\n        \"max\": 5,\n        \"num_unique_values\": 5,\n        \"samples\": [\n          4,\n          2,\n          5\n        ],\n        \"semantic_type\": \"\",\n        \"description\": \"\"\n      }\n    }\n  ]\n}"
            }
          },
          "metadata": {},
          "execution_count": 15
        }
      ]
    },
    {
      "cell_type": "code",
      "source": [
        "coffee_reviews_df.shape"
      ],
      "metadata": {
        "colab": {
          "base_uri": "https://localhost:8080/"
        },
        "id": "prUZQ_FGyOr2",
        "outputId": "87635019-a6bb-4644-e543-79608365d82e"
      },
      "execution_count": 16,
      "outputs": [
        {
          "output_type": "execute_result",
          "data": {
            "text/plain": [
              "(4981, 2)"
            ]
          },
          "metadata": {},
          "execution_count": 16
        }
      ]
    },
    {
      "cell_type": "code",
      "source": [
        "!curl -fsSL https://ollama.com/install.sh | sh"
      ],
      "metadata": {
        "colab": {
          "base_uri": "https://localhost:8080/"
        },
        "id": "6Tg7DoozyQ_R",
        "outputId": "dbc31065-355f-4aae-b531-2df60c2e4e2b"
      },
      "execution_count": 17,
      "outputs": [
        {
          "output_type": "stream",
          "name": "stdout",
          "text": [
            ">>> Installing ollama to /usr/local\n",
            ">>> Downloading Linux amd64 bundle\n",
            "######################################################################## 100.0%\n",
            ">>> Creating ollama user...\n",
            ">>> Adding ollama user to video group...\n",
            ">>> Adding current user to ollama group...\n",
            ">>> Creating ollama systemd service...\n",
            "\u001b[1m\u001b[31mWARNING:\u001b[m systemd is not running\n",
            "\u001b[1m\u001b[31mWARNING:\u001b[m Unable to detect NVIDIA/AMD GPU. Install lspci or lshw to automatically detect and install GPU dependencies.\n",
            ">>> The Ollama API is now available at 127.0.0.1:11434.\n",
            ">>> Install complete. Run \"ollama\" from the command line.\n"
          ]
        }
      ]
    },
    {
      "cell_type": "code",
      "source": [
        "!nohup ollama serve &"
      ],
      "metadata": {
        "colab": {
          "base_uri": "https://localhost:8080/"
        },
        "id": "_bt09VmzySGO",
        "outputId": "4c481573-88a7-4b62-a491-b13226d98bd0"
      },
      "execution_count": 18,
      "outputs": [
        {
          "output_type": "stream",
          "name": "stdout",
          "text": [
            "nohup: appending output to 'nohup.out'\n"
          ]
        }
      ]
    },
    {
      "cell_type": "code",
      "source": [
        "!ollama pull gemma3:270m"
      ],
      "metadata": {
        "colab": {
          "base_uri": "https://localhost:8080/"
        },
        "id": "GDQVcPNwyTMN",
        "outputId": "64328e46-aee3-4982-dbbf-a4056902a3c9"
      },
      "execution_count": 19,
      "outputs": [
        {
          "output_type": "stream",
          "name": "stdout",
          "text": [
            "\u001b[?2026h\u001b[?25l\u001b[1G\u001b[?25h\u001b[?2026l\u001b[?2026h\u001b[?25l\u001b[1G\u001b[?25h\u001b[?2026l\u001b[?2026h\u001b[?25l\u001b[1G\u001b[?25h\u001b[?2026l\u001b[?2026h\u001b[?25l\u001b[1G\u001b[?25h\u001b[?2026l\u001b[?2026h\u001b[?25l\u001b[1G\u001b[?25h\u001b[?2026l\u001b[?2026h\u001b[?25l\u001b[1G\u001b[?25h\u001b[?2026l\u001b[?2026h\u001b[?25l\u001b[1G\u001b[?25h\u001b[?2026l\u001b[?2026h\u001b[?25l\u001b[1G\u001b[?25h\u001b[?2026l\u001b[?2026h\u001b[?25l\u001b[1G\u001b[?25h\u001b[?2026l\u001b[?2026h\u001b[?25l\u001b[1G\u001b[?25h\u001b[?2026l\u001b[?2026h\u001b[?25l\u001b[1G\u001b[?25h\u001b[?2026l\u001b[?2026h\u001b[?25l\u001b[1G\u001b[?25h\u001b[?2026l\u001b[?2026h\u001b[?25l\u001b[1G\u001b[?25h\u001b[?2026l\u001b[?2026h\u001b[?25l\u001b[1G\u001b[?25h\u001b[?2026l\u001b[?2026h\u001b[?25l\u001b[1G\u001b[?25h\u001b[?2026l\u001b[?2026h\u001b[?25l\u001b[1G\u001b[?25h\u001b[?2026l\u001b[?2026h\u001b[?25l\u001b[1G\u001b[?25h\u001b[?2026l\u001b[?2026h\u001b[?25l\u001b[1G\u001b[?25h\u001b[?2026l\u001b[?2026h\u001b[?25l\u001b[1G\u001b[?25h\u001b[?2026l\u001b[?2026h\u001b[?25l\u001b[A\u001b[1G\u001b[?25h\u001b[?2026l\u001b[?2026h\u001b[?25l\u001b[A\u001b[1G\u001b[?25h\u001b[?2026l\u001b[?2026h\u001b[?25l\u001b[A\u001b[1G\u001b[?25h\u001b[?2026l\u001b[?2026h\u001b[?25l\u001b[A\u001b[1G\u001b[?25h\u001b[?2026l\u001b[?2026h\u001b[?25l\u001b[A\u001b[1G\u001b[?25h\u001b[?2026l\u001b[?2026h\u001b[?25l\u001b[A\u001b[1G\u001b[?25h\u001b[?2026l\u001b[?2026h\u001b[?25l\u001b[A\u001b[1G\u001b[?25h\u001b[?2026l\u001b[?2026h\u001b[?25l\u001b[A\u001b[1G\u001b[?25h\u001b[?2026l\u001b[?2026h\u001b[?25l\u001b[A\u001b[1G\u001b[?25h\u001b[?2026l\u001b[?2026h\u001b[?25l\u001b[A\u001b[1G\u001b[?25h\u001b[?2026l\u001b[?2026h\u001b[?25l\u001b[A\u001b[1G\u001b[?25h\u001b[?2026l\u001b[?2026h\u001b[?25l\u001b[A\u001b[1G\u001b[?25h\u001b[?2026l\u001b[?2026h\u001b[?25l\u001b[A\u001b[1G\u001b[?25h\u001b[?2026l\u001b[?2026h\u001b[?25l\u001b[A\u001b[1G\u001b[?25h\u001b[?2026l\u001b[?2026h\u001b[?25l\u001b[A\u001b[1G\u001b[?25h\u001b[?2026l\u001b[?2026h\u001b[?25l\u001b[A\u001b[1G\u001b[?25h\u001b[?2026l\u001b[?2026h\u001b[?25l\u001b[A\u001b[1G\u001b[?25h\u001b[?2026l\u001b[?2026h\u001b[?25l\u001b[A\u001b[1G\u001b[?25h\u001b[?2026l\u001b[?2026h\u001b[?25l\u001b[A\u001b[1G\u001b[?25h\u001b[?2026l\u001b[?2026h\u001b[?25l\u001b[A\u001b[1G\u001b[?25h\u001b[?2026l\u001b[?2026h\u001b[?25l\u001b[A\u001b[1G\u001b[?25h\u001b[?2026l\u001b[?2026h\u001b[?25l\u001b[A\u001b[1G\u001b[?25h\u001b[?2026l\u001b[?2026h\u001b[?25l\u001b[A\u001b[1G\u001b[?25h\u001b[?2026l\u001b[?2026h\u001b[?25l\u001b[A\u001b[1G\u001b[?25h\u001b[?2026l\u001b[?2026h\u001b[?25l\u001b[A\u001b[1G\u001b[?25h\u001b[?2026l\u001b[?2026h\u001b[?25l\u001b[A\u001b[1G\u001b[?25h\u001b[?2026l\u001b[?2026h\u001b[?25l\u001b[A\u001b[1G\u001b[?25h\u001b[?2026l\u001b[?2026h\u001b[?25l\u001b[A\u001b[1G\u001b[?25h\u001b[?2026l\u001b[?2026h\u001b[?25l\u001b[A\u001b[1G\u001b[?25h\u001b[?2026l\u001b[?2026h\u001b[?25l\u001b[A\u001b[1G\u001b[?25h\u001b[?2026l\u001b[?2026h\u001b[?25l\u001b[A\u001b[1G\u001b[?25h\u001b[?2026l\u001b[?2026h\u001b[?25l\u001b[A\u001b[1G\u001b[?25h\u001b[?2026l\u001b[?2026h\u001b[?25l\u001b[A\u001b[1G\u001b[?25h\u001b[?2026l\u001b[?2026h\u001b[?25l\u001b[A\u001b[1G\u001b[?25h\u001b[?2026l\u001b[?2026h\u001b[?25l\u001b[A\u001b[1G\u001b[?25h\u001b[?2026l\u001b[?2026h\u001b[?25l\u001b[A\u001b[1G\u001b[?25h\u001b[?2026l\u001b[?2026h\u001b[?25l\u001b[A\u001b[1G\u001b[?25h\u001b[?2026l\u001b[?2026h\u001b[?25l\u001b[A\u001b[1G\u001b[?25h\u001b[?2026l\u001b[?2026h\u001b[?25l\u001b[A\u001b[1G\u001b[?25h\u001b[?2026l\u001b[?2026h\u001b[?25l\u001b[A\u001b[1G\u001b[?25h\u001b[?2026l\u001b[?2026h\u001b[?25l\u001b[A\u001b[1G\u001b[?25h\u001b[?2026l\u001b[?2026h\u001b[?25l\u001b[A\u001b[1G\u001b[?25h\u001b[?2026l\u001b[?2026h\u001b[?25l\u001b[A\u001b[1G\u001b[?25h\u001b[?2026l\u001b[?2026h\u001b[?25l\u001b[A\u001b[1G\u001b[?25h\u001b[?2026l\u001b[?2026h\u001b[?25l\u001b[A\u001b[A\u001b[1G\u001b[?25h\u001b[?2026l\u001b[?2026h\u001b[?25l\u001b[A\u001b[A\u001b[1G\u001b[?25h\u001b[?2026l\u001b[?2026h\u001b[?25l\u001b[A\u001b[A\u001b[1G\u001b[?25h\u001b[?2026l\u001b[?2026h\u001b[?25l\u001b[A\u001b[A\u001b[1G\u001b[?25h\u001b[?2026l\u001b[?2026h\u001b[?25l\u001b[A\u001b[A\u001b[1G\u001b[?25h\u001b[?2026l\u001b[?2026h\u001b[?25l\u001b[A\u001b[A\u001b[1G\u001b[?25h\u001b[?2026l\u001b[?2026h\u001b[?25l\u001b[A\u001b[A\u001b[1G\u001b[?25h\u001b[?2026l\u001b[?2026h\u001b[?25l\u001b[A\u001b[A\u001b[1G\u001b[?25h\u001b[?2026l\u001b[?2026h\u001b[?25l\u001b[A\u001b[A\u001b[1G\u001b[?25h\u001b[?2026l\u001b[?2026h\u001b[?25l\u001b[A\u001b[A\u001b[1G\u001b[?25h\u001b[?2026l\u001b[?2026h\u001b[?25l\u001b[A\u001b[A\u001b[1G\u001b[?25h\u001b[?2026l\u001b[?2026h\u001b[?25l\u001b[A\u001b[A\u001b[1G\u001b[?25h\u001b[?2026l\u001b[?2026h\u001b[?25l\u001b[A\u001b[A\u001b[1G\u001b[?25h\u001b[?2026l\u001b[?2026h\u001b[?25l\u001b[A\u001b[A\u001b[1G\u001b[?25h\u001b[?2026l\u001b[?2026h\u001b[?25l\u001b[A\u001b[A\u001b[1G\u001b[?25h\u001b[?2026l\u001b[?2026h\u001b[?25l\u001b[A\u001b[A\u001b[A\u001b[1G\u001b[?25h\u001b[?2026l\u001b[?2026h\u001b[?25l\u001b[A\u001b[A\u001b[A\u001b[1G\u001b[?25h\u001b[?2026l\u001b[?2026h\u001b[?25l\u001b[A\u001b[A\u001b[A\u001b[1G\u001b[?25h\u001b[?2026l\u001b[?2026h\u001b[?25l\u001b[A\u001b[A\u001b[A\u001b[1G\u001b[?25h\u001b[?2026l\u001b[?2026h\u001b[?25l\u001b[A\u001b[A\u001b[A\u001b[1G\u001b[?25h\u001b[?2026l\u001b[?2026h\u001b[?25l\u001b[A\u001b[A\u001b[A\u001b[1G\u001b[?25h\u001b[?2026l\u001b[?2026h\u001b[?25l\u001b[A\u001b[A\u001b[A\u001b[1G\u001b[?25h\u001b[?2026l\u001b[?2026h\u001b[?25l\u001b[A\u001b[A\u001b[A\u001b[1G\u001b[?25h\u001b[?2026l\u001b[?2026h\u001b[?25l\u001b[A\u001b[A\u001b[A\u001b[1G\u001b[?25h\u001b[?2026l\u001b[?2026h\u001b[?25l\u001b[A\u001b[A\u001b[A\u001b[1G\u001b[?25h\u001b[?2026l\u001b[?2026h\u001b[?25l\u001b[A\u001b[A\u001b[A\u001b[1G\u001b[?25h\u001b[?2026l\u001b[?2026h\u001b[?25l\u001b[A\u001b[A\u001b[A\u001b[1G\u001b[?25h\u001b[?2026l\u001b[?2026h\u001b[?25l\u001b[A\u001b[A\u001b[A\u001b[1G\u001b[?25h\u001b[?2026l\u001b[?2026h\u001b[?25l\u001b[A\u001b[A\u001b[A\u001b[1G\u001b[?25h\u001b[?2026l\u001b[?2026h\u001b[?25l\u001b[A\u001b[A\u001b[A\u001b[1G\u001b[?25h\u001b[?2026l\u001b[?2026h\u001b[?25l\u001b[A\u001b[A\u001b[A\u001b[1G\u001b[?25h\u001b[?2026l\u001b[?2026h\u001b[?25l\u001b[A\u001b[A\u001b[A\u001b[A\u001b[1G\u001b[?25h\u001b[?2026l\u001b[?2026h\u001b[?25l\u001b[A\u001b[A\u001b[A\u001b[A\u001b[1G\u001b[?25h\u001b[?2026l\u001b[?2026h\u001b[?25l\u001b[A\u001b[A\u001b[A\u001b[A\u001b[1G\u001b[?25h\u001b[?2026l\u001b[?2026h\u001b[?25l\u001b[A\u001b[A\u001b[A\u001b[A\u001b[1G\u001b[?25h\u001b[?2026l\u001b[?2026h\u001b[?25l\u001b[A\u001b[A\u001b[A\u001b[A\u001b[1G\u001b[?25h\u001b[?2026l\u001b[?2026h\u001b[?25l\u001b[A\u001b[A\u001b[A\u001b[A\u001b[1G\u001b[?25h\u001b[?2026l\u001b[?2026h\u001b[?25l\u001b[A\u001b[A\u001b[A\u001b[A\u001b[1G\u001b[?25h\u001b[?2026l\u001b[?2026h\u001b[?25l\u001b[A\u001b[A\u001b[A\u001b[A\u001b[1G\u001b[?25h\u001b[?2026l\u001b[?2026h\u001b[?25l\u001b[A\u001b[A\u001b[A\u001b[A\u001b[1G\u001b[?25h\u001b[?2026l\u001b[?2026h\u001b[?25l\u001b[A\u001b[A\u001b[A\u001b[A\u001b[1G\u001b[?25h\u001b[?2026l\u001b[?2026h\u001b[?25l\u001b[A\u001b[A\u001b[A\u001b[A\u001b[1G\u001b[?25h\u001b[?2026l\u001b[?2026h\u001b[?25l\u001b[A\u001b[A\u001b[A\u001b[A\u001b[1G\u001b[?25h\u001b[?2026l\u001b[?2026h\u001b[?25l\u001b[A\u001b[A\u001b[A\u001b[A\u001b[1G\u001b[?25h\u001b[?2026l\u001b[?2026h\u001b[?25l\u001b[A\u001b[A\u001b[A\u001b[A\u001b[1G\u001b[?25h\u001b[?2026l\u001b[?2026h\u001b[?25l\u001b[A\u001b[A\u001b[A\u001b[A\u001b[1G\u001b[?25h\u001b[?2026l\u001b[?2026h\u001b[?25l\u001b[A\u001b[A\u001b[A\u001b[A\u001b[A\u001b[1G\u001b[?25h\u001b[?2026l\u001b[?2026h\u001b[?25l\u001b[A\u001b[A\u001b[A\u001b[A\u001b[A\u001b[1G\u001b[?25h\u001b[?2026l\u001b[?2026h\u001b[?25l\u001b[A\u001b[A\u001b[A\u001b[A\u001b[A\u001b[1G\u001b[?25h\u001b[?2026l\u001b[?2026h\u001b[?25l\u001b[A\u001b[A\u001b[A\u001b[A\u001b[A\u001b[1G\u001b[?25h\u001b[?2026l\u001b[?2026h\u001b[?25l\u001b[A\u001b[A\u001b[A\u001b[A\u001b[A\u001b[1G\u001b[?25h\u001b[?2026l\u001b[?2026h\u001b[?25l\u001b[A\u001b[A\u001b[A\u001b[A\u001b[A\u001b[1G\u001b[?25h\u001b[?2026l\u001b[?2026h\u001b[?25l\u001b[A\u001b[A\u001b[A\u001b[A\u001b[A\u001b[1G\u001b[?25h\u001b[?2026l\u001b[?2026h\u001b[?25l\u001b[A\u001b[A\u001b[A\u001b[A\u001b[A\u001b[A\u001b[1G\u001b[?25h\u001b[?2026l\u001b[?2026h\u001b[?25l\u001b[A\u001b[A\u001b[A\u001b[A\u001b[A\u001b[A\u001b[1G\u001b[?25h\u001b[?2026l\u001b[?2026h\u001b[?25l\u001b[A\u001b[A\u001b[A\u001b[A\u001b[A\u001b[A\u001b[1G\u001b[?25h\u001b[?2026l\u001b[?2026h\u001b[?25l\u001b[A\u001b[A\u001b[A\u001b[A\u001b[A\u001b[A\u001b[1G\u001b[?25h\u001b[?2026l\u001b[?2026h\u001b[?25l\u001b[A\u001b[A\u001b[A\u001b[A\u001b[A\u001b[A\u001b[1G\u001b[?25h\u001b[?2026l\u001b[?2026h\u001b[?25l\u001b[A\u001b[A\u001b[A\u001b[A\u001b[A\u001b[A\u001b[1G\u001b[?25h\u001b[?2026l\u001b[?2026h\u001b[?25l\u001b[A\u001b[A\u001b[A\u001b[A\u001b[A\u001b[A\u001b[1G\u001b[?25h\u001b[?2026l\u001b[?2026h\u001b[?25l\u001b[A\u001b[A\u001b[A\u001b[A\u001b[A\u001b[A\u001b[1G\u001b[?25h\u001b[?2026l\u001b[?2026h\u001b[?25l\u001b[A\u001b[A\u001b[A\u001b[A\u001b[A\u001b[A\u001b[1G\u001b[?25h\u001b[?2026l\u001b[?2026h\u001b[?25l\u001b[A\u001b[A\u001b[A\u001b[A\u001b[A\u001b[A\u001b[1G\u001b[?25h\u001b[?2026l\u001b[?2026h\u001b[?25l\u001b[A\u001b[A\u001b[A\u001b[A\u001b[A\u001b[A\u001b[1G\u001b[?25h\u001b[?2026l\u001b[?2026h\u001b[?25l\u001b[A\u001b[A\u001b[A\u001b[A\u001b[A\u001b[A\u001b[1G\u001b[?25h\u001b[?2026l\n"
          ]
        }
      ]
    },
    {
      "cell_type": "code",
      "source": [
        "!ollama list"
      ],
      "metadata": {
        "colab": {
          "base_uri": "https://localhost:8080/"
        },
        "id": "PAZRq7HQyUaU",
        "outputId": "0d47c4d6-9e60-4513-fc49-92a76322790a"
      },
      "execution_count": 20,
      "outputs": [
        {
          "output_type": "stream",
          "name": "stdout",
          "text": [
            "NAME           ID              SIZE      MODIFIED               \n",
            "gemma3:270m    e7d36fb2c3b3    291 MB    Less than a second ago    \n"
          ]
        }
      ]
    },
    {
      "cell_type": "code",
      "source": [
        "!ollama run gemma3:270m \"สวัสดี\""
      ],
      "metadata": {
        "colab": {
          "base_uri": "https://localhost:8080/"
        },
        "id": "x3CxIkmmyVVG",
        "outputId": "68cb6c23-a6c2-4a9f-9f04-b43e4f8e9880"
      },
      "execution_count": 21,
      "outputs": [
        {
          "output_type": "stream",
          "name": "stdout",
          "text": [
            "\u001b[?2026h\u001b[?25l\u001b[1G\u001b[?25h\u001b[?2026l\u001b[?2026h\u001b[?25l\u001b[1G\u001b[?25h\u001b[?2026l\u001b[?2026h\u001b[?25l\u001b[1G\u001b[?25h\u001b[?2026l\u001b[?2026h\u001b[?25l\u001b[1G\u001b[?25h\u001b[?2026l\u001b[?2026h\u001b[?25l\u001b[1G\u001b[?25h\u001b[?2026l\u001b[?2026h\u001b[?25l\u001b[1G\u001b[?25h\u001b[?2026l\u001b[?2026h\u001b[?25l\u001b[1G\u001b[?25h\u001b[?2026l\u001b[?2026h\u001b[?25l\u001b[1G\u001b[?25h\u001b[?2026l\u001b[?2026h\u001b[?25l\u001b[1G\u001b[?25h\u001b[?2026l\u001b[?2026h\u001b[?25l\u001b[1G\u001b[?25h\u001b[?2026l\u001b[?2026h\u001b[?25l\u001b[1G\u001b[?25h\u001b[?2026l\u001b[?2026h\u001b[?25l\u001b[1G\u001b[?25h\u001b[?2026l\u001b[?2026h\u001b[?25l\u001b[1G\u001b[?25h\u001b[?2026l\u001b[?2026h\u001b[?25l\u001b[1G\u001b[?25h\u001b[?2026l\u001b[?2026h\u001b[?25l\u001b[1G\u001b[?25h\u001b[?2026l\u001b[?2026h\u001b[?25l\u001b[1G\u001b[?25h\u001b[?2026l\u001b[?2026h\u001b[?25l\u001b[1G\u001b[?25h\u001b[?2026l\u001b[?2026h\u001b[?25l\u001b[1G\u001b[?25h\u001b[?2026l\u001b[?2026h\u001b[?25l\u001b[1G\u001b[?25h\u001b[?2026l\u001b[?2026h\u001b[?25l\u001b[1G\u001b[?25h\u001b[?2026l\u001b[?25l\u001b[?2026h\u001b[?25l\u001b[1G\u001b[?25h\u001b[?2026l\u001b[2K\u001b[1G\u001b[?25hสวัสดี\u001b[?25l\u001b[?25hค่ะ\u001b[?25l\u001b[?25h ย\u001b[?25l\u001b[?25hิน\u001b[?25l\u001b[?25hดี\u001b[?25l\u001b[?25hที่\u001b[?25l\u001b[?25hได้\u001b[?25l\u001b[?25hรู้จัก\u001b[?25l\u001b[?25hค่ะ\u001b[?25l\u001b[?25h 😊\u001b[?25l\u001b[?25h\n",
            "\u001b[?25l\u001b[?25h\n",
            "\n",
            "\u001b[?25l\u001b[?25h"
          ]
        }
      ]
    },
    {
      "cell_type": "code",
      "source": [
        "!curl -s http://127.0.0.1:11434/api/tags"
      ],
      "metadata": {
        "colab": {
          "base_uri": "https://localhost:8080/"
        },
        "id": "y7s_q3QZyWZ0",
        "outputId": "ed848165-92d4-4cdf-d22c-544dd123d29a"
      },
      "execution_count": 22,
      "outputs": [
        {
          "output_type": "stream",
          "name": "stdout",
          "text": [
            "{\"models\":[{\"name\":\"gemma3:270m\",\"model\":\"gemma3:270m\",\"modified_at\":\"2025-10-19T11:53:05.251185543Z\",\"size\":291554930,\"digest\":\"e7d36fb2c3b3293cfe56d55889867a064b3a2b22e98335f2e6e8a387e081d6be\",\"details\":{\"parent_model\":\"\",\"format\":\"gguf\",\"family\":\"gemma3\",\"families\":[\"gemma3\"],\"parameter_size\":\"268.10M\",\"quantization_level\":\"Q8_0\"}}]}"
          ]
        }
      ]
    },
    {
      "cell_type": "code",
      "source": [
        "from langchain_ollama import OllamaLLM\n",
        "from langchain.prompts import PromptTemplate\n",
        "from langchain_core.output_parsers import StrOutputParser"
      ],
      "metadata": {
        "id": "KDQo4AKJyXYX"
      },
      "execution_count": 29,
      "outputs": []
    },
    {
      "cell_type": "code",
      "source": [
        "llm = OllamaLLM(model=\"gemma3:270m\")"
      ],
      "metadata": {
        "id": "h8-i8IlmyZV8"
      },
      "execution_count": 25,
      "outputs": []
    },
    {
      "cell_type": "code",
      "source": [
        "response = llm.invoke(\"สวัสดี\")\n",
        "print(response)"
      ],
      "metadata": {
        "colab": {
          "base_uri": "https://localhost:8080/"
        },
        "id": "SIgWCma9ybHJ",
        "outputId": "ef722183-8042-42b6-e58b-f00d6442cd88"
      },
      "execution_count": 26,
      "outputs": [
        {
          "output_type": "stream",
          "name": "stdout",
          "text": [
            "สวัสดีค่ะ ยินดีที่ได้รู้จักนะคะ 😊\n",
            "\n"
          ]
        }
      ]
    },
    {
      "cell_type": "code",
      "source": [
        "template = \"\"\"\n",
        "คุณเป็นครูสอน Python\n",
        "คำถาม : {question}\n",
        "\"\"\""
      ],
      "metadata": {
        "id": "QOCfoApwyeG7"
      },
      "execution_count": 27,
      "outputs": []
    },
    {
      "cell_type": "code",
      "source": [
        "prompt = PromptTemplate(\n",
        "    input_variables=[\"question\"],\n",
        "    template=template\n",
        ")"
      ],
      "metadata": {
        "id": "9_dYZ1hVygiJ"
      },
      "execution_count": 30,
      "outputs": []
    },
    {
      "cell_type": "code",
      "source": [
        "formatted_prompt = prompt.format(question=\"เขียนโค้ดหาผลรวมของตัวเลข 1 ถึง 10\")\n",
        "print(formatted_prompt)"
      ],
      "metadata": {
        "colab": {
          "base_uri": "https://localhost:8080/"
        },
        "id": "_QMbH9JXyhwX",
        "outputId": "5d88223a-a918-4e7c-ab25-bb759f620e12"
      },
      "execution_count": 31,
      "outputs": [
        {
          "output_type": "stream",
          "name": "stdout",
          "text": [
            "\n",
            "คุณเป็นครูสอน Python\n",
            "คำถาม : เขียนโค้ดหาผลรวมของตัวเลข 1 ถึง 10\n",
            "\n"
          ]
        }
      ]
    },
    {
      "cell_type": "code",
      "source": [
        "chain = prompt | llm"
      ],
      "metadata": {
        "id": "kZa1he47yi5k"
      },
      "execution_count": 32,
      "outputs": []
    },
    {
      "cell_type": "code",
      "source": [
        "response = chain.invoke({\"question\": \"เขียนโค้ดหาผลรวมของตัวเลข 1 ถึง 10\"})"
      ],
      "metadata": {
        "id": "EYGlNfKuyvUr"
      },
      "execution_count": 33,
      "outputs": []
    },
    {
      "cell_type": "code",
      "source": [
        "response"
      ],
      "metadata": {
        "colab": {
          "base_uri": "https://localhost:8080/",
          "height": 105
        },
        "id": "rgh3z8TWywwy",
        "outputId": "62b0bc3d-315a-41f1-eb28-bd4caa66b360"
      },
      "execution_count": 34,
      "outputs": [
        {
          "output_type": "execute_result",
          "data": {
            "text/plain": [
              "'```python\\ndef find_sum(numbers):\\n    \"\"\"\\n    หาผลรวมของตัวเลข 1 ถึง 10\\n    \"\"\"\\n    sum = 0\\n    for number in numbers:\\n        sum += number\\n    return sum\\n\\n# ตัวอย่างการใช้งาน\\nnumbers = [1, 2, 3, 4, 5, 6, 7, 8, 9, 10]\\nresult = find_sum(numbers)\\nprint(result)\\n```\\n\\n**คำอธิบายโค้ด:**\\n\\n1.  **`def find_sum(numbers):`**:  กำหนดชื่อ funzione `find_sum` ที่จะทำการหาผลรวมของตัวเลข.\\n2.  **`sum = 0`**:  เริ่มต้นค่า `sum` เป็น 0.  ค่า `sum` จะเก็บผลรวมของตัวเลขทั้งหมดที่ถูกนำมาใช้ในการหาผลรวม\\n3.  **`for number in numbers:`**:  ใช้ `for` loop เพื่อวนลูปผ่านแต่ละตัวเลขใน `numbers`\\n4.  **`sum += number`**:  ในแต่ละวนลูป `sum += number` จะทำการเพิ่มค่า `number` ใน `sum` เป็น 1 (เพราะ `sum` เป็นค่าคงที่)\\n5.  **`return sum`**:  หลังจากวนลูปทั้งหมดแล้ว `sum` จะเป็นค่าที่คำนวณได้สำเร็จแล้วจะถูกคืนไป\\n6.  **`numbers = [1, 2, 3, 4, 5, 6, 7, 8, 9, 10]`**:  กำหนดตัวแปร `numbers` ที่จะเก็บตัวเลขทั้งหมดที่อยู่ใน list\\n7.  **`result = find_sum(numbers)`**:  เรียกใช้ funzione `find_sum` เพื่อทำการหาผลรวมของตัวเลขใน `numbers`\\n8.  **`print(result)`**:  แสดงผลลัพธ์ของการหาผลรวมของตัวเลข\\n'"
            ],
            "application/vnd.google.colaboratory.intrinsic+json": {
              "type": "string"
            }
          },
          "metadata": {},
          "execution_count": 34
        }
      ]
    },
    {
      "cell_type": "code",
      "source": [
        "from IPython.display import display, Markdown"
      ],
      "metadata": {
        "id": "3jHdum6gyxxx"
      },
      "execution_count": 35,
      "outputs": []
    },
    {
      "cell_type": "code",
      "source": [
        "display(Markdown(response))"
      ],
      "metadata": {
        "colab": {
          "base_uri": "https://localhost:8080/",
          "height": 433
        },
        "id": "xS76KROuznBK",
        "outputId": "7f0ea24c-44a5-4bd8-96c4-9eb02cf7cc0b"
      },
      "execution_count": 36,
      "outputs": [
        {
          "output_type": "display_data",
          "data": {
            "text/plain": [
              "<IPython.core.display.Markdown object>"
            ],
            "text/markdown": "```python\ndef find_sum(numbers):\n    \"\"\"\n    หาผลรวมของตัวเลข 1 ถึง 10\n    \"\"\"\n    sum = 0\n    for number in numbers:\n        sum += number\n    return sum\n\n# ตัวอย่างการใช้งาน\nnumbers = [1, 2, 3, 4, 5, 6, 7, 8, 9, 10]\nresult = find_sum(numbers)\nprint(result)\n```\n\n**คำอธิบายโค้ด:**\n\n1.  **`def find_sum(numbers):`**:  กำหนดชื่อ funzione `find_sum` ที่จะทำการหาผลรวมของตัวเลข.\n2.  **`sum = 0`**:  เริ่มต้นค่า `sum` เป็น 0.  ค่า `sum` จะเก็บผลรวมของตัวเลขทั้งหมดที่ถูกนำมาใช้ในการหาผลรวม\n3.  **`for number in numbers:`**:  ใช้ `for` loop เพื่อวนลูปผ่านแต่ละตัวเลขใน `numbers`\n4.  **`sum += number`**:  ในแต่ละวนลูป `sum += number` จะทำการเพิ่มค่า `number` ใน `sum` เป็น 1 (เพราะ `sum` เป็นค่าคงที่)\n5.  **`return sum`**:  หลังจากวนลูปทั้งหมดแล้ว `sum` จะเป็นค่าที่คำนวณได้สำเร็จแล้วจะถูกคืนไป\n6.  **`numbers = [1, 2, 3, 4, 5, 6, 7, 8, 9, 10]`**:  กำหนดตัวแปร `numbers` ที่จะเก็บตัวเลขทั้งหมดที่อยู่ใน list\n7.  **`result = find_sum(numbers)`**:  เรียกใช้ funzione `find_sum` เพื่อทำการหาผลรวมของตัวเลขใน `numbers`\n8.  **`print(result)`**:  แสดงผลลัพธ์ของการหาผลรวมของตัวเลข\n"
          },
          "metadata": {}
        }
      ]
    },
    {
      "cell_type": "code",
      "source": [
        "prompt1 = PromptTemplate(\n",
        "    template=\"แปลโจทย์เกี่ยวกับ {question}\"\n",
        ")\n",
        "\n",
        "chain1 = prompt1 | llm"
      ],
      "metadata": {
        "id": "aNAcqDt6zn5b"
      },
      "execution_count": 37,
      "outputs": []
    },
    {
      "cell_type": "code",
      "source": [
        "prompt2 = PromptTemplate(\n",
        "    template=\"ทำความเข้าใจโจทย์ที่แปลแล้วต่อไปนี้ {translate}\"\n",
        ")\n",
        "\n",
        "chain2 = prompt2 | llm"
      ],
      "metadata": {
        "id": "DQxQZPkr17th"
      },
      "execution_count": 38,
      "outputs": []
    },
    {
      "cell_type": "code",
      "source": [
        "prompt3 = PromptTemplate(\n",
        "    template=\"แก้โจทย์ตามที่เข้าใจต่อไปนี้ {understand}\"\n",
        ")\n",
        "\n",
        "chain3 = prompt3 | llm"
      ],
      "metadata": {
        "id": "OG5YvqdR1-bH"
      },
      "execution_count": 39,
      "outputs": []
    },
    {
      "cell_type": "code",
      "source": [
        "prompt4 = PromptTemplate(\n",
        "    template=\"อธิบายวิธิีทำจากผลลัทธ์ต่อไปนี้ {solve}\"\n",
        ")\n",
        "\n",
        "chain4 = prompt4 | llm"
      ],
      "metadata": {
        "id": "vTUUvcww2GlO"
      },
      "execution_count": 40,
      "outputs": []
    },
    {
      "cell_type": "code",
      "source": [
        "parser_chain = StrOutputParser()"
      ],
      "metadata": {
        "id": "asUDiWiO2IEw"
      },
      "execution_count": 41,
      "outputs": []
    },
    {
      "cell_type": "code",
      "source": [
        "full_chain = chain1 | chain2 | chain3 | chain4 | parser_chain"
      ],
      "metadata": {
        "id": "OePEQ42u2JHW"
      },
      "execution_count": 42,
      "outputs": []
    },
    {
      "cell_type": "code",
      "source": [
        "result = full_chain.invoke({\"question\":\"2x + 5 = 15\"})"
      ],
      "metadata": {
        "id": "P8Mt8SZq2KEi"
      },
      "execution_count": 43,
      "outputs": []
    },
    {
      "cell_type": "code",
      "source": [
        "result"
      ],
      "metadata": {
        "colab": {
          "base_uri": "https://localhost:8080/",
          "height": 35
        },
        "id": "bsF8rSM-2LFM",
        "outputId": "33501b04-e341-46fa-fbb5-5e89421d9e67"
      },
      "execution_count": 44,
      "outputs": [
        {
          "output_type": "execute_result",
          "data": {
            "text/plain": [
              "'ถูกต้องแล้วครับ! ผลลัทธ์เป็นเครื่องมือสำคัญในการทำความเข้าใจและจัดการกับสถานการณ์ต่างๆ ในสังคมหรือประเทศได้อย่างมีประสิทธิภาพ การทำความเข้าใจผลลัทธ์ช่วยให้เราสามารถวิเคราะห์ปัญหา, ตัดสินใจ แก้ปัญหา, และวางแผนการดำเนินงานได้อย่างมีประสิทธิภาพ\\n'"
            ],
            "application/vnd.google.colaboratory.intrinsic+json": {
              "type": "string"
            }
          },
          "metadata": {},
          "execution_count": 44
        }
      ]
    },
    {
      "cell_type": "code",
      "source": [
        "import os\n",
        "from langchain_openai import ChatOpenAI"
      ],
      "metadata": {
        "id": "NRWKwXJZ2MHH"
      },
      "execution_count": 45,
      "outputs": []
    },
    {
      "cell_type": "code",
      "source": [
        "import os\n",
        "from langchain_openai import ChatOpenAI\n",
        "from google.colab import userdata\n",
        "\n",
        "OPENAI_API_KEY = userdata.get('OPENAI_API_KEY')\n",
        "\n",
        "os.environ['OPENAI_API_KEY'] = OPENAI_API_KEY"
      ],
      "metadata": {
        "id": "bRvvhLNa2NOj",
        "colab": {
          "base_uri": "https://localhost:8080/",
          "height": 332
        },
        "outputId": "315bbc1e-8a3a-4fa3-965a-b5727b3a1c01"
      },
      "execution_count": 51,
      "outputs": [
        {
          "output_type": "error",
          "ename": "SecretNotFoundError",
          "evalue": "Secret OPENAI_API_KEY does not exist.",
          "traceback": [
            "\u001b[0;31m---------------------------------------------------------------------------\u001b[0m",
            "\u001b[0;31mSecretNotFoundError\u001b[0m                       Traceback (most recent call last)",
            "\u001b[0;32m/tmp/ipython-input-1139497675.py\u001b[0m in \u001b[0;36m<cell line: 0>\u001b[0;34m()\u001b[0m\n\u001b[1;32m      3\u001b[0m \u001b[0;32mfrom\u001b[0m \u001b[0mgoogle\u001b[0m\u001b[0;34m.\u001b[0m\u001b[0mcolab\u001b[0m \u001b[0;32mimport\u001b[0m \u001b[0muserdata\u001b[0m\u001b[0;34m\u001b[0m\u001b[0;34m\u001b[0m\u001b[0m\n\u001b[1;32m      4\u001b[0m \u001b[0;34m\u001b[0m\u001b[0m\n\u001b[0;32m----> 5\u001b[0;31m \u001b[0mOPENAI_API_KEY\u001b[0m \u001b[0;34m=\u001b[0m \u001b[0muserdata\u001b[0m\u001b[0;34m.\u001b[0m\u001b[0mget\u001b[0m\u001b[0;34m(\u001b[0m\u001b[0;34m'OPENAI_API_KEY'\u001b[0m\u001b[0;34m)\u001b[0m\u001b[0;34m\u001b[0m\u001b[0;34m\u001b[0m\u001b[0m\n\u001b[0m\u001b[1;32m      6\u001b[0m \u001b[0;34m\u001b[0m\u001b[0m\n\u001b[1;32m      7\u001b[0m \u001b[0mos\u001b[0m\u001b[0;34m.\u001b[0m\u001b[0menviron\u001b[0m\u001b[0;34m[\u001b[0m\u001b[0;34m'OPENAI_API_KEY'\u001b[0m\u001b[0;34m]\u001b[0m \u001b[0;34m=\u001b[0m \u001b[0mOPENAI_API_KEY\u001b[0m\u001b[0;34m\u001b[0m\u001b[0;34m\u001b[0m\u001b[0m\n",
            "\u001b[0;32m/usr/local/lib/python3.12/dist-packages/google/colab/userdata.py\u001b[0m in \u001b[0;36mget\u001b[0;34m(key)\u001b[0m\n\u001b[1;32m     66\u001b[0m     \u001b[0;32mraise\u001b[0m \u001b[0mTimeoutException\u001b[0m\u001b[0;34m(\u001b[0m\u001b[0mkey\u001b[0m\u001b[0;34m)\u001b[0m\u001b[0;34m\u001b[0m\u001b[0;34m\u001b[0m\u001b[0m\n\u001b[1;32m     67\u001b[0m   \u001b[0;32mif\u001b[0m \u001b[0;32mnot\u001b[0m \u001b[0mresp\u001b[0m\u001b[0;34m.\u001b[0m\u001b[0mget\u001b[0m\u001b[0;34m(\u001b[0m\u001b[0;34m'exists'\u001b[0m\u001b[0;34m,\u001b[0m \u001b[0;32mFalse\u001b[0m\u001b[0;34m)\u001b[0m\u001b[0;34m:\u001b[0m\u001b[0;34m\u001b[0m\u001b[0;34m\u001b[0m\u001b[0m\n\u001b[0;32m---> 68\u001b[0;31m     \u001b[0;32mraise\u001b[0m \u001b[0mSecretNotFoundError\u001b[0m\u001b[0;34m(\u001b[0m\u001b[0mkey\u001b[0m\u001b[0;34m)\u001b[0m\u001b[0;34m\u001b[0m\u001b[0;34m\u001b[0m\u001b[0m\n\u001b[0m\u001b[1;32m     69\u001b[0m   \u001b[0;32mif\u001b[0m \u001b[0;32mnot\u001b[0m \u001b[0mresp\u001b[0m\u001b[0;34m.\u001b[0m\u001b[0mget\u001b[0m\u001b[0;34m(\u001b[0m\u001b[0;34m'access'\u001b[0m\u001b[0;34m,\u001b[0m \u001b[0;32mFalse\u001b[0m\u001b[0;34m)\u001b[0m\u001b[0;34m:\u001b[0m\u001b[0;34m\u001b[0m\u001b[0;34m\u001b[0m\u001b[0m\n\u001b[1;32m     70\u001b[0m     \u001b[0;32mraise\u001b[0m \u001b[0mNotebookAccessError\u001b[0m\u001b[0;34m(\u001b[0m\u001b[0mkey\u001b[0m\u001b[0;34m)\u001b[0m\u001b[0;34m\u001b[0m\u001b[0;34m\u001b[0m\u001b[0m\n",
            "\u001b[0;31mSecretNotFoundError\u001b[0m: Secret OPENAI_API_KEY does not exist."
          ]
        }
      ]
    },
    {
      "cell_type": "code",
      "source": [
        "llm2 = ChatOpenAI(model=\"gpt-4o-mini\")"
      ],
      "metadata": {
        "id": "qhgfno462OLv"
      },
      "execution_count": 47,
      "outputs": []
    },
    {
      "cell_type": "code",
      "source": [
        "chain1 = prompt1 | llm2\n",
        "chain2 = prompt2 | llm2\n",
        "chain3 = prompt3 | llm2\n",
        "chain4 = prompt4 | llm2\n",
        "\n",
        "full_chain = chain1 | chain2 | chain3 | chain4 | parser_chain"
      ],
      "metadata": {
        "id": "rVeOL3YP2O8m"
      },
      "execution_count": 48,
      "outputs": []
    },
    {
      "cell_type": "code",
      "source": [
        "result = full_chain.invoke({\"question\":\"2x + 5 = 15\"})"
      ],
      "metadata": {
        "colab": {
          "base_uri": "https://localhost:8080/",
          "height": 304
        },
        "id": "EJWB_1Ql2QXd",
        "outputId": "027173d9-99f5-496d-c630-3d0c6b98f88b"
      },
      "execution_count": 53,
      "outputs": [
        {
          "output_type": "error",
          "ename": "AuthenticationError",
          "evalue": "Error code: 401 - {'error': {'message': 'Incorrect API key provided: xxx. You can find your API key at https://platform.openai.com/account/api-keys.', 'type': 'invalid_request_error', 'param': None, 'code': 'invalid_api_key'}}",
          "traceback": [
            "\u001b[0;31m---------------------------------------------------------------------------\u001b[0m",
            "\u001b[0;31mAuthenticationError\u001b[0m                       Traceback (most recent call last)",
            "\u001b[0;32m/tmp/ipython-input-3844521807.py\u001b[0m in \u001b[0;36m<cell line: 0>\u001b[0;34m()\u001b[0m\n\u001b[0;32m----> 1\u001b[0;31m \u001b[0mresult\u001b[0m \u001b[0;34m=\u001b[0m \u001b[0mfull_chain\u001b[0m\u001b[0;34m.\u001b[0m\u001b[0minvoke\u001b[0m\u001b[0;34m(\u001b[0m\u001b[0;34m{\u001b[0m\u001b[0;34m\"question\"\u001b[0m\u001b[0;34m:\u001b[0m\u001b[0;34m\"2x + 5 = 15\"\u001b[0m\u001b[0;34m}\u001b[0m\u001b[0;34m)\u001b[0m\u001b[0;34m\u001b[0m\u001b[0;34m\u001b[0m\u001b[0m\n\u001b[0m",
            "\u001b[0;32m/usr/local/lib/python3.12/dist-packages/langchain_core/runnables/base.py\u001b[0m in \u001b[0;36minvoke\u001b[0;34m(self, input, config, **kwargs)\u001b[0m\n\u001b[1;32m   3091\u001b[0m                         \u001b[0minput_\u001b[0m \u001b[0;34m=\u001b[0m \u001b[0mcontext\u001b[0m\u001b[0;34m.\u001b[0m\u001b[0mrun\u001b[0m\u001b[0;34m(\u001b[0m\u001b[0mstep\u001b[0m\u001b[0;34m.\u001b[0m\u001b[0minvoke\u001b[0m\u001b[0;34m,\u001b[0m \u001b[0minput_\u001b[0m\u001b[0;34m,\u001b[0m \u001b[0mconfig\u001b[0m\u001b[0;34m,\u001b[0m \u001b[0;34m**\u001b[0m\u001b[0mkwargs\u001b[0m\u001b[0;34m)\u001b[0m\u001b[0;34m\u001b[0m\u001b[0;34m\u001b[0m\u001b[0m\n\u001b[1;32m   3092\u001b[0m                     \u001b[0;32melse\u001b[0m\u001b[0;34m:\u001b[0m\u001b[0;34m\u001b[0m\u001b[0;34m\u001b[0m\u001b[0m\n\u001b[0;32m-> 3093\u001b[0;31m                         \u001b[0minput_\u001b[0m \u001b[0;34m=\u001b[0m \u001b[0mcontext\u001b[0m\u001b[0;34m.\u001b[0m\u001b[0mrun\u001b[0m\u001b[0;34m(\u001b[0m\u001b[0mstep\u001b[0m\u001b[0;34m.\u001b[0m\u001b[0minvoke\u001b[0m\u001b[0;34m,\u001b[0m \u001b[0minput_\u001b[0m\u001b[0;34m,\u001b[0m \u001b[0mconfig\u001b[0m\u001b[0;34m)\u001b[0m\u001b[0;34m\u001b[0m\u001b[0;34m\u001b[0m\u001b[0m\n\u001b[0m\u001b[1;32m   3094\u001b[0m         \u001b[0;31m# finish the root run\u001b[0m\u001b[0;34m\u001b[0m\u001b[0;34m\u001b[0m\u001b[0m\n\u001b[1;32m   3095\u001b[0m         \u001b[0;32mexcept\u001b[0m \u001b[0mBaseException\u001b[0m \u001b[0;32mas\u001b[0m \u001b[0me\u001b[0m\u001b[0;34m:\u001b[0m\u001b[0;34m\u001b[0m\u001b[0;34m\u001b[0m\u001b[0m\n",
            "\u001b[0;32m/usr/local/lib/python3.12/dist-packages/langchain_core/language_models/chat_models.py\u001b[0m in \u001b[0;36minvoke\u001b[0;34m(self, input, config, stop, **kwargs)\u001b[0m\n\u001b[1;32m    377\u001b[0m             cast(\n\u001b[1;32m    378\u001b[0m                 \u001b[0;34m\"ChatGeneration\"\u001b[0m\u001b[0;34m,\u001b[0m\u001b[0;34m\u001b[0m\u001b[0;34m\u001b[0m\u001b[0m\n\u001b[0;32m--> 379\u001b[0;31m                 self.generate_prompt(\n\u001b[0m\u001b[1;32m    380\u001b[0m                     \u001b[0;34m[\u001b[0m\u001b[0mself\u001b[0m\u001b[0;34m.\u001b[0m\u001b[0m_convert_input\u001b[0m\u001b[0;34m(\u001b[0m\u001b[0minput\u001b[0m\u001b[0;34m)\u001b[0m\u001b[0;34m]\u001b[0m\u001b[0;34m,\u001b[0m\u001b[0;34m\u001b[0m\u001b[0;34m\u001b[0m\u001b[0m\n\u001b[1;32m    381\u001b[0m                     \u001b[0mstop\u001b[0m\u001b[0;34m=\u001b[0m\u001b[0mstop\u001b[0m\u001b[0;34m,\u001b[0m\u001b[0;34m\u001b[0m\u001b[0;34m\u001b[0m\u001b[0m\n",
            "\u001b[0;32m/usr/local/lib/python3.12/dist-packages/langchain_core/language_models/chat_models.py\u001b[0m in \u001b[0;36mgenerate_prompt\u001b[0;34m(self, prompts, stop, callbacks, **kwargs)\u001b[0m\n\u001b[1;32m   1086\u001b[0m     ) -> LLMResult:\n\u001b[1;32m   1087\u001b[0m         \u001b[0mprompt_messages\u001b[0m \u001b[0;34m=\u001b[0m \u001b[0;34m[\u001b[0m\u001b[0mp\u001b[0m\u001b[0;34m.\u001b[0m\u001b[0mto_messages\u001b[0m\u001b[0;34m(\u001b[0m\u001b[0;34m)\u001b[0m \u001b[0;32mfor\u001b[0m \u001b[0mp\u001b[0m \u001b[0;32min\u001b[0m \u001b[0mprompts\u001b[0m\u001b[0;34m]\u001b[0m\u001b[0;34m\u001b[0m\u001b[0;34m\u001b[0m\u001b[0m\n\u001b[0;32m-> 1088\u001b[0;31m         \u001b[0;32mreturn\u001b[0m \u001b[0mself\u001b[0m\u001b[0;34m.\u001b[0m\u001b[0mgenerate\u001b[0m\u001b[0;34m(\u001b[0m\u001b[0mprompt_messages\u001b[0m\u001b[0;34m,\u001b[0m \u001b[0mstop\u001b[0m\u001b[0;34m=\u001b[0m\u001b[0mstop\u001b[0m\u001b[0;34m,\u001b[0m \u001b[0mcallbacks\u001b[0m\u001b[0;34m=\u001b[0m\u001b[0mcallbacks\u001b[0m\u001b[0;34m,\u001b[0m \u001b[0;34m**\u001b[0m\u001b[0mkwargs\u001b[0m\u001b[0;34m)\u001b[0m\u001b[0;34m\u001b[0m\u001b[0;34m\u001b[0m\u001b[0m\n\u001b[0m\u001b[1;32m   1089\u001b[0m \u001b[0;34m\u001b[0m\u001b[0m\n\u001b[1;32m   1090\u001b[0m     \u001b[0;34m@\u001b[0m\u001b[0moverride\u001b[0m\u001b[0;34m\u001b[0m\u001b[0;34m\u001b[0m\u001b[0m\n",
            "\u001b[0;32m/usr/local/lib/python3.12/dist-packages/langchain_core/language_models/chat_models.py\u001b[0m in \u001b[0;36mgenerate\u001b[0;34m(self, messages, stop, callbacks, tags, metadata, run_name, run_id, **kwargs)\u001b[0m\n\u001b[1;32m    901\u001b[0m             \u001b[0;32mtry\u001b[0m\u001b[0;34m:\u001b[0m\u001b[0;34m\u001b[0m\u001b[0;34m\u001b[0m\u001b[0m\n\u001b[1;32m    902\u001b[0m                 results.append(\n\u001b[0;32m--> 903\u001b[0;31m                     self._generate_with_cache(\n\u001b[0m\u001b[1;32m    904\u001b[0m                         \u001b[0mm\u001b[0m\u001b[0;34m,\u001b[0m\u001b[0;34m\u001b[0m\u001b[0;34m\u001b[0m\u001b[0m\n\u001b[1;32m    905\u001b[0m                         \u001b[0mstop\u001b[0m\u001b[0;34m=\u001b[0m\u001b[0mstop\u001b[0m\u001b[0;34m,\u001b[0m\u001b[0;34m\u001b[0m\u001b[0;34m\u001b[0m\u001b[0m\n",
            "\u001b[0;32m/usr/local/lib/python3.12/dist-packages/langchain_core/language_models/chat_models.py\u001b[0m in \u001b[0;36m_generate_with_cache\u001b[0;34m(self, messages, stop, run_manager, **kwargs)\u001b[0m\n\u001b[1;32m   1190\u001b[0m             \u001b[0mresult\u001b[0m \u001b[0;34m=\u001b[0m \u001b[0mgenerate_from_stream\u001b[0m\u001b[0;34m(\u001b[0m\u001b[0miter\u001b[0m\u001b[0;34m(\u001b[0m\u001b[0mchunks\u001b[0m\u001b[0;34m)\u001b[0m\u001b[0;34m)\u001b[0m\u001b[0;34m\u001b[0m\u001b[0;34m\u001b[0m\u001b[0m\n\u001b[1;32m   1191\u001b[0m         \u001b[0;32melif\u001b[0m \u001b[0minspect\u001b[0m\u001b[0;34m.\u001b[0m\u001b[0msignature\u001b[0m\u001b[0;34m(\u001b[0m\u001b[0mself\u001b[0m\u001b[0;34m.\u001b[0m\u001b[0m_generate\u001b[0m\u001b[0;34m)\u001b[0m\u001b[0;34m.\u001b[0m\u001b[0mparameters\u001b[0m\u001b[0;34m.\u001b[0m\u001b[0mget\u001b[0m\u001b[0;34m(\u001b[0m\u001b[0;34m\"run_manager\"\u001b[0m\u001b[0;34m)\u001b[0m\u001b[0;34m:\u001b[0m\u001b[0;34m\u001b[0m\u001b[0;34m\u001b[0m\u001b[0m\n\u001b[0;32m-> 1192\u001b[0;31m             result = self._generate(\n\u001b[0m\u001b[1;32m   1193\u001b[0m                 \u001b[0mmessages\u001b[0m\u001b[0;34m,\u001b[0m \u001b[0mstop\u001b[0m\u001b[0;34m=\u001b[0m\u001b[0mstop\u001b[0m\u001b[0;34m,\u001b[0m \u001b[0mrun_manager\u001b[0m\u001b[0;34m=\u001b[0m\u001b[0mrun_manager\u001b[0m\u001b[0;34m,\u001b[0m \u001b[0;34m**\u001b[0m\u001b[0mkwargs\u001b[0m\u001b[0;34m\u001b[0m\u001b[0;34m\u001b[0m\u001b[0m\n\u001b[1;32m   1194\u001b[0m             )\n",
            "\u001b[0;32m/usr/local/lib/python3.12/dist-packages/langchain_openai/chat_models/base.py\u001b[0m in \u001b[0;36m_generate\u001b[0;34m(self, messages, stop, run_manager, **kwargs)\u001b[0m\n\u001b[1;32m   1210\u001b[0m             \u001b[0;32mif\u001b[0m \u001b[0mraw_response\u001b[0m \u001b[0;32mis\u001b[0m \u001b[0;32mnot\u001b[0m \u001b[0;32mNone\u001b[0m \u001b[0;32mand\u001b[0m \u001b[0mhasattr\u001b[0m\u001b[0;34m(\u001b[0m\u001b[0mraw_response\u001b[0m\u001b[0;34m,\u001b[0m \u001b[0;34m\"http_response\"\u001b[0m\u001b[0;34m)\u001b[0m\u001b[0;34m:\u001b[0m\u001b[0;34m\u001b[0m\u001b[0;34m\u001b[0m\u001b[0m\n\u001b[1;32m   1211\u001b[0m                 \u001b[0me\u001b[0m\u001b[0;34m.\u001b[0m\u001b[0mresponse\u001b[0m \u001b[0;34m=\u001b[0m \u001b[0mraw_response\u001b[0m\u001b[0;34m.\u001b[0m\u001b[0mhttp_response\u001b[0m  \u001b[0;31m# type: ignore[attr-defined]\u001b[0m\u001b[0;34m\u001b[0m\u001b[0;34m\u001b[0m\u001b[0m\n\u001b[0;32m-> 1212\u001b[0;31m             \u001b[0;32mraise\u001b[0m \u001b[0me\u001b[0m\u001b[0;34m\u001b[0m\u001b[0;34m\u001b[0m\u001b[0m\n\u001b[0m\u001b[1;32m   1213\u001b[0m         if (\n\u001b[1;32m   1214\u001b[0m             \u001b[0mself\u001b[0m\u001b[0;34m.\u001b[0m\u001b[0minclude_response_headers\u001b[0m\u001b[0;34m\u001b[0m\u001b[0;34m\u001b[0m\u001b[0m\n",
            "\u001b[0;32m/usr/local/lib/python3.12/dist-packages/langchain_openai/chat_models/base.py\u001b[0m in \u001b[0;36m_generate\u001b[0;34m(self, messages, stop, run_manager, **kwargs)\u001b[0m\n\u001b[1;32m   1205\u001b[0m                 )\n\u001b[1;32m   1206\u001b[0m             \u001b[0;32melse\u001b[0m\u001b[0;34m:\u001b[0m\u001b[0;34m\u001b[0m\u001b[0;34m\u001b[0m\u001b[0m\n\u001b[0;32m-> 1207\u001b[0;31m                 \u001b[0mraw_response\u001b[0m \u001b[0;34m=\u001b[0m \u001b[0mself\u001b[0m\u001b[0;34m.\u001b[0m\u001b[0mclient\u001b[0m\u001b[0;34m.\u001b[0m\u001b[0mwith_raw_response\u001b[0m\u001b[0;34m.\u001b[0m\u001b[0mcreate\u001b[0m\u001b[0;34m(\u001b[0m\u001b[0;34m**\u001b[0m\u001b[0mpayload\u001b[0m\u001b[0;34m)\u001b[0m\u001b[0;34m\u001b[0m\u001b[0;34m\u001b[0m\u001b[0m\n\u001b[0m\u001b[1;32m   1208\u001b[0m                 \u001b[0mresponse\u001b[0m \u001b[0;34m=\u001b[0m \u001b[0mraw_response\u001b[0m\u001b[0;34m.\u001b[0m\u001b[0mparse\u001b[0m\u001b[0;34m(\u001b[0m\u001b[0;34m)\u001b[0m\u001b[0;34m\u001b[0m\u001b[0;34m\u001b[0m\u001b[0m\n\u001b[1;32m   1209\u001b[0m         \u001b[0;32mexcept\u001b[0m \u001b[0mException\u001b[0m \u001b[0;32mas\u001b[0m \u001b[0me\u001b[0m\u001b[0;34m:\u001b[0m\u001b[0;34m\u001b[0m\u001b[0;34m\u001b[0m\u001b[0m\n",
            "\u001b[0;32m/usr/local/lib/python3.12/dist-packages/openai/_legacy_response.py\u001b[0m in \u001b[0;36mwrapped\u001b[0;34m(*args, **kwargs)\u001b[0m\n\u001b[1;32m    362\u001b[0m         \u001b[0mkwargs\u001b[0m\u001b[0;34m[\u001b[0m\u001b[0;34m\"extra_headers\"\u001b[0m\u001b[0;34m]\u001b[0m \u001b[0;34m=\u001b[0m \u001b[0mextra_headers\u001b[0m\u001b[0;34m\u001b[0m\u001b[0;34m\u001b[0m\u001b[0m\n\u001b[1;32m    363\u001b[0m \u001b[0;34m\u001b[0m\u001b[0m\n\u001b[0;32m--> 364\u001b[0;31m         \u001b[0;32mreturn\u001b[0m \u001b[0mcast\u001b[0m\u001b[0;34m(\u001b[0m\u001b[0mLegacyAPIResponse\u001b[0m\u001b[0;34m[\u001b[0m\u001b[0mR\u001b[0m\u001b[0;34m]\u001b[0m\u001b[0;34m,\u001b[0m \u001b[0mfunc\u001b[0m\u001b[0;34m(\u001b[0m\u001b[0;34m*\u001b[0m\u001b[0margs\u001b[0m\u001b[0;34m,\u001b[0m \u001b[0;34m**\u001b[0m\u001b[0mkwargs\u001b[0m\u001b[0;34m)\u001b[0m\u001b[0;34m)\u001b[0m\u001b[0;34m\u001b[0m\u001b[0;34m\u001b[0m\u001b[0m\n\u001b[0m\u001b[1;32m    365\u001b[0m \u001b[0;34m\u001b[0m\u001b[0m\n\u001b[1;32m    366\u001b[0m     \u001b[0;32mreturn\u001b[0m \u001b[0mwrapped\u001b[0m\u001b[0;34m\u001b[0m\u001b[0;34m\u001b[0m\u001b[0m\n",
            "\u001b[0;32m/usr/local/lib/python3.12/dist-packages/openai/_utils/_utils.py\u001b[0m in \u001b[0;36mwrapper\u001b[0;34m(*args, **kwargs)\u001b[0m\n\u001b[1;32m    284\u001b[0m                         \u001b[0mmsg\u001b[0m \u001b[0;34m=\u001b[0m \u001b[0;34mf\"Missing required argument: {quote(missing[0])}\"\u001b[0m\u001b[0;34m\u001b[0m\u001b[0;34m\u001b[0m\u001b[0m\n\u001b[1;32m    285\u001b[0m                 \u001b[0;32mraise\u001b[0m \u001b[0mTypeError\u001b[0m\u001b[0;34m(\u001b[0m\u001b[0mmsg\u001b[0m\u001b[0;34m)\u001b[0m\u001b[0;34m\u001b[0m\u001b[0;34m\u001b[0m\u001b[0m\n\u001b[0;32m--> 286\u001b[0;31m             \u001b[0;32mreturn\u001b[0m \u001b[0mfunc\u001b[0m\u001b[0;34m(\u001b[0m\u001b[0;34m*\u001b[0m\u001b[0margs\u001b[0m\u001b[0;34m,\u001b[0m \u001b[0;34m**\u001b[0m\u001b[0mkwargs\u001b[0m\u001b[0;34m)\u001b[0m\u001b[0;34m\u001b[0m\u001b[0;34m\u001b[0m\u001b[0m\n\u001b[0m\u001b[1;32m    287\u001b[0m \u001b[0;34m\u001b[0m\u001b[0m\n\u001b[1;32m    288\u001b[0m         \u001b[0;32mreturn\u001b[0m \u001b[0mwrapper\u001b[0m  \u001b[0;31m# type: ignore\u001b[0m\u001b[0;34m\u001b[0m\u001b[0;34m\u001b[0m\u001b[0m\n",
            "\u001b[0;32m/usr/local/lib/python3.12/dist-packages/openai/resources/chat/completions/completions.py\u001b[0m in \u001b[0;36mcreate\u001b[0;34m(self, messages, model, audio, frequency_penalty, function_call, functions, logit_bias, logprobs, max_completion_tokens, max_tokens, metadata, modalities, n, parallel_tool_calls, prediction, presence_penalty, prompt_cache_key, reasoning_effort, response_format, safety_identifier, seed, service_tier, stop, store, stream, stream_options, temperature, tool_choice, tools, top_logprobs, top_p, user, verbosity, web_search_options, extra_headers, extra_query, extra_body, timeout)\u001b[0m\n\u001b[1;32m   1145\u001b[0m     ) -> ChatCompletion | Stream[ChatCompletionChunk]:\n\u001b[1;32m   1146\u001b[0m         \u001b[0mvalidate_response_format\u001b[0m\u001b[0;34m(\u001b[0m\u001b[0mresponse_format\u001b[0m\u001b[0;34m)\u001b[0m\u001b[0;34m\u001b[0m\u001b[0;34m\u001b[0m\u001b[0m\n\u001b[0;32m-> 1147\u001b[0;31m         return self._post(\n\u001b[0m\u001b[1;32m   1148\u001b[0m             \u001b[0;34m\"/chat/completions\"\u001b[0m\u001b[0;34m,\u001b[0m\u001b[0;34m\u001b[0m\u001b[0;34m\u001b[0m\u001b[0m\n\u001b[1;32m   1149\u001b[0m             body=maybe_transform(\n",
            "\u001b[0;32m/usr/local/lib/python3.12/dist-packages/openai/_base_client.py\u001b[0m in \u001b[0;36mpost\u001b[0;34m(self, path, cast_to, body, options, files, stream, stream_cls)\u001b[0m\n\u001b[1;32m   1257\u001b[0m             \u001b[0mmethod\u001b[0m\u001b[0;34m=\u001b[0m\u001b[0;34m\"post\"\u001b[0m\u001b[0;34m,\u001b[0m \u001b[0murl\u001b[0m\u001b[0;34m=\u001b[0m\u001b[0mpath\u001b[0m\u001b[0;34m,\u001b[0m \u001b[0mjson_data\u001b[0m\u001b[0;34m=\u001b[0m\u001b[0mbody\u001b[0m\u001b[0;34m,\u001b[0m \u001b[0mfiles\u001b[0m\u001b[0;34m=\u001b[0m\u001b[0mto_httpx_files\u001b[0m\u001b[0;34m(\u001b[0m\u001b[0mfiles\u001b[0m\u001b[0;34m)\u001b[0m\u001b[0;34m,\u001b[0m \u001b[0;34m**\u001b[0m\u001b[0moptions\u001b[0m\u001b[0;34m\u001b[0m\u001b[0;34m\u001b[0m\u001b[0m\n\u001b[1;32m   1258\u001b[0m         )\n\u001b[0;32m-> 1259\u001b[0;31m         \u001b[0;32mreturn\u001b[0m \u001b[0mcast\u001b[0m\u001b[0;34m(\u001b[0m\u001b[0mResponseT\u001b[0m\u001b[0;34m,\u001b[0m \u001b[0mself\u001b[0m\u001b[0;34m.\u001b[0m\u001b[0mrequest\u001b[0m\u001b[0;34m(\u001b[0m\u001b[0mcast_to\u001b[0m\u001b[0;34m,\u001b[0m \u001b[0mopts\u001b[0m\u001b[0;34m,\u001b[0m \u001b[0mstream\u001b[0m\u001b[0;34m=\u001b[0m\u001b[0mstream\u001b[0m\u001b[0;34m,\u001b[0m \u001b[0mstream_cls\u001b[0m\u001b[0;34m=\u001b[0m\u001b[0mstream_cls\u001b[0m\u001b[0;34m)\u001b[0m\u001b[0;34m)\u001b[0m\u001b[0;34m\u001b[0m\u001b[0;34m\u001b[0m\u001b[0m\n\u001b[0m\u001b[1;32m   1260\u001b[0m \u001b[0;34m\u001b[0m\u001b[0m\n\u001b[1;32m   1261\u001b[0m     def patch(\n",
            "\u001b[0;32m/usr/local/lib/python3.12/dist-packages/openai/_base_client.py\u001b[0m in \u001b[0;36mrequest\u001b[0;34m(self, cast_to, options, stream, stream_cls)\u001b[0m\n\u001b[1;32m   1045\u001b[0m \u001b[0;34m\u001b[0m\u001b[0m\n\u001b[1;32m   1046\u001b[0m                 \u001b[0mlog\u001b[0m\u001b[0;34m.\u001b[0m\u001b[0mdebug\u001b[0m\u001b[0;34m(\u001b[0m\u001b[0;34m\"Re-raising status error\"\u001b[0m\u001b[0;34m)\u001b[0m\u001b[0;34m\u001b[0m\u001b[0;34m\u001b[0m\u001b[0m\n\u001b[0;32m-> 1047\u001b[0;31m                 \u001b[0;32mraise\u001b[0m \u001b[0mself\u001b[0m\u001b[0;34m.\u001b[0m\u001b[0m_make_status_error_from_response\u001b[0m\u001b[0;34m(\u001b[0m\u001b[0merr\u001b[0m\u001b[0;34m.\u001b[0m\u001b[0mresponse\u001b[0m\u001b[0;34m)\u001b[0m \u001b[0;32mfrom\u001b[0m \u001b[0;32mNone\u001b[0m\u001b[0;34m\u001b[0m\u001b[0;34m\u001b[0m\u001b[0m\n\u001b[0m\u001b[1;32m   1048\u001b[0m \u001b[0;34m\u001b[0m\u001b[0m\n\u001b[1;32m   1049\u001b[0m             \u001b[0;32mbreak\u001b[0m\u001b[0;34m\u001b[0m\u001b[0;34m\u001b[0m\u001b[0m\n",
            "\u001b[0;31mAuthenticationError\u001b[0m: Error code: 401 - {'error': {'message': 'Incorrect API key provided: xxx. You can find your API key at https://platform.openai.com/account/api-keys.', 'type': 'invalid_request_error', 'param': None, 'code': 'invalid_api_key'}}"
          ]
        }
      ]
    },
    {
      "cell_type": "code",
      "source": [
        "formatted_result = result.replace('\\\\[', '$$') \\\n",
        "                         .replace('\\\\]', '$$') \\\n",
        "                         .replace('\\\\(', '$') \\\n",
        "                         .replace('\\\\)', '$')\n",
        "display(Markdown(formatted_result))"
      ],
      "metadata": {
        "colab": {
          "base_uri": "https://localhost:8080/",
          "height": 64
        },
        "id": "b2YV5liX2S9a",
        "outputId": "5a315ac3-a3a4-45d7-c9e7-c34c6083aadd"
      },
      "execution_count": 54,
      "outputs": [
        {
          "output_type": "display_data",
          "data": {
            "text/plain": [
              "<IPython.core.display.Markdown object>"
            ],
            "text/markdown": "ถูกต้องแล้วครับ! ผลลัทธ์เป็นเครื่องมือสำคัญในการทำความเข้าใจและจัดการกับสถานการณ์ต่างๆ ในสังคมหรือประเทศได้อย่างมีประสิทธิภาพ การทำความเข้าใจผลลัทธ์ช่วยให้เราสามารถวิเคราะห์ปัญหา, ตัดสินใจ แก้ปัญหา, และวางแผนการดำเนินงานได้อย่างมีประสิทธิภาพ\n"
          },
          "metadata": {}
        }
      ]
    },
    {
      "cell_type": "code",
      "source": [
        "prompt_template = \"\"\"\n",
        "[1. Role/Context บอก LLM ว่าควรทำตัวเป็นอะไร]\n",
        "คุณเป็น AI ที่เชี่ยวชาญในการวิเคราะห์รีวิวภาษาไทย\n",
        "\n",
        "[2. Task Description บอกงานที่ต้องทำ]\n",
        "จาก Review ต่อไปนี้ ให้ Extract 3 keywords\n",
        "ที่เป็นตัวแทนของ Review นี้ได้ดีที่สุด\n",
        "\n",
        "[3. Input Data ข้อมูลที่ต้องประมวลผล]\n",
        "Review: {review}\n",
        "\n",
        "[4. Output Format บอกรูปแบบของคำตอบ]\n",
        "ตอบในรูปแบบ JSON โดยมีคีย์เป็น 'keywords'\n",
        "เช่น {{\"keywords\": \"กาแฟ, บรรยากาศ, ราคา\"}\n",
        "\n",
        "[5. Constraints ข้อจำกัดหรือเงื่อนไข]\n",
        "- ต้องเป็นคำภาษาไทย\n",
        "- คั่นด้วย comma\n",
        "- หากไม่พบให้ตอบ 'ไม่ระบุ'\n",
        "\n",
        "[6. Examples (optional) ตัวอย่าง input/output]\n",
        "ตัวอย่าง\n",
        "Input: \"กาแฟอร่อย บรรยากาศดี ราคาแพง\"\n",
        "Output: {\"keywords\": \"กาแฟ, บรรยากาศ, ราคา\"}\n",
        "\"\"\""
      ],
      "metadata": {
        "id": "QubRg5VT5iVV"
      },
      "execution_count": 55,
      "outputs": []
    },
    {
      "cell_type": "code",
      "source": [
        "prompt = \"\"\"\n",
        "Extract keywords from this review\n",
        "{review}\n",
        "\"\"\"\n",
        "\n",
        "# Pros Simple, fast\n",
        "# Cons อาจได้ผลไม่ดีกับ Tasks ซับซ้อน"
      ],
      "metadata": {
        "id": "tB96Q0Oa5mSA"
      },
      "execution_count": 56,
      "outputs": []
    },
    {
      "cell_type": "code",
      "source": [
        "prompt = \"\"\"\n",
        "Extract keywords from reviews.\n",
        "\n",
        "Example 1\n",
        "Review: \"กาแฟอร่อย บริการดี\"\n",
        "Keywords: กาแฟ, บริการ\n",
        "\n",
        "Example 2\n",
        "Review: \"ราคาแพง แต่คุ้มค่า\"\n",
        "Keywords: ราคา, คุณภาพ\n",
        "\n",
        "Now extract from this review\n",
        "Review: {review}\n",
        "Keywords:\n",
        "\"\"\"\n",
        "\n",
        "# Pros ได้ผลดีกว่า Zero-shot\n",
        "# Cons Prompt ใช้ Tokens มากขึ้น"
      ],
      "metadata": {
        "id": "MzwQjsAh5tca"
      },
      "execution_count": 57,
      "outputs": []
    },
    {
      "cell_type": "code",
      "source": [
        "prompt = \"\"\"\n",
        "Review: {review}\n",
        "\n",
        "ขั้นตอนการ Extract keywords\n",
        "1. อ่านรีวิวและเข้าใจความหมาย\n",
        "2. ระบุหัวข้อหลักที่กล่าวถึง\n",
        "3. เลือก 3 keywords ที่สำคัญที่สุด\n",
        "4. ตอบในรูปแบบ JSON: {{\"keywords\": \"คำ1, คำ2, คำ3\"}}\n",
        "\n",
        "ให้ทำทีละขั้นตอน\n",
        "\"\"\"\n",
        "\n",
        "# Pros ได้ผลดีกับ Reasoning tasks\n",
        "# Cons ใช้ Tokens มากกว่า ช้ากว่า"
      ],
      "metadata": {
        "id": "tmv8P5CT502p"
      },
      "execution_count": 58,
      "outputs": []
    },
    {
      "cell_type": "code",
      "source": [
        "keyword_prompt = PromptTemplate(\n",
        "template = \"\"\"\n",
        "จาก Review ต่อไปนี้\n",
        "Extract 3 keywords ที่เป็นตัวแทนของ Review นี้\n",
        "\n",
        "Review: {review}\n",
        "\n",
        "ขั้นตอนการ Extract keywords\n",
        "1. อ่านรีวิวและเข้าใจความหมาย\n",
        "2. ระบุหัวข้อหลักที่กล่าวถึง\n",
        "3. เลือก 3 keywords ที่สำคัญที่สุด\n",
        "4. ตอบในรูปแบบ JSON: {{\"keywords\": \"คำ1, คำ2, คำ3\"}}\n",
        "\n",
        "ให้ทำทีละขั้นตอน\n",
        "\"\"\")"
      ],
      "metadata": {
        "id": "-ojxe6GX522t"
      },
      "execution_count": 59,
      "outputs": []
    },
    {
      "cell_type": "code",
      "source": [
        "sample_reviews = coffee_reviews_df['column0'].head(2)\n",
        "sample_reviews"
      ],
      "metadata": {
        "colab": {
          "base_uri": "https://localhost:8080/",
          "height": 147
        },
        "id": "9EsvehcY54FN",
        "outputId": "fbb5f326-7fa8-4f1b-f6ba-8826954cf2e9"
      },
      "execution_count": 60,
      "outputs": [
        {
          "output_type": "execute_result",
          "data": {
            "text/plain": [
              "0    ร้านอาหารใหญ่มากกกกกกก \\nเลี้ยวเข้ามาเจอห้องน้...\n",
              "1    วันนี้ได้มีโอกาสไปนั่งซดกาแฟที่ร้านวาวี แถวๆอา...\n",
              "Name: column0, dtype: object"
            ],
            "text/html": [
              "<div>\n",
              "<style scoped>\n",
              "    .dataframe tbody tr th:only-of-type {\n",
              "        vertical-align: middle;\n",
              "    }\n",
              "\n",
              "    .dataframe tbody tr th {\n",
              "        vertical-align: top;\n",
              "    }\n",
              "\n",
              "    .dataframe thead th {\n",
              "        text-align: right;\n",
              "    }\n",
              "</style>\n",
              "<table border=\"1\" class=\"dataframe\">\n",
              "  <thead>\n",
              "    <tr style=\"text-align: right;\">\n",
              "      <th></th>\n",
              "      <th>column0</th>\n",
              "    </tr>\n",
              "  </thead>\n",
              "  <tbody>\n",
              "    <tr>\n",
              "      <th>0</th>\n",
              "      <td>ร้านอาหารใหญ่มากกกกกกก \\nเลี้ยวเข้ามาเจอห้องน้...</td>\n",
              "    </tr>\n",
              "    <tr>\n",
              "      <th>1</th>\n",
              "      <td>วันนี้ได้มีโอกาสไปนั่งซดกาแฟที่ร้านวาวี แถวๆอา...</td>\n",
              "    </tr>\n",
              "  </tbody>\n",
              "</table>\n",
              "</div><br><label><b>dtype:</b> object</label>"
            ]
          },
          "metadata": {},
          "execution_count": 60
        }
      ]
    },
    {
      "cell_type": "code",
      "source": [
        "sample_reviews.to_csv('/content/sample_reviews.csv', index=False)"
      ],
      "metadata": {
        "id": "Nbki9UoE55GC"
      },
      "execution_count": 61,
      "outputs": []
    },
    {
      "cell_type": "code",
      "source": [
        "keyword_extract = keyword_prompt | llm | StrOutputParser()"
      ],
      "metadata": {
        "id": "50WJ_4RZ56MJ"
      },
      "execution_count": 62,
      "outputs": []
    },
    {
      "cell_type": "code",
      "source": [
        "%%time\n",
        "results = []\n",
        "for review in sample_reviews:\n",
        "    text = keyword_extract.invoke({\"review\": review})\n",
        "    cleaned = (text).replace(\"**\", \"\").strip()\n",
        "    results.append({\"review\": review, \"text\": cleaned})"
      ],
      "metadata": {
        "colab": {
          "base_uri": "https://localhost:8080/"
        },
        "id": "PQiehQ_n57aX",
        "outputId": "00938f9d-ebbf-40ea-c7e6-4fc4e2823680"
      },
      "execution_count": 63,
      "outputs": [
        {
          "output_type": "stream",
          "name": "stdout",
          "text": [
            "CPU times: user 30.9 ms, sys: 2.29 ms, total: 33.2 ms\n",
            "Wall time: 4.4 s\n"
          ]
        }
      ]
    },
    {
      "cell_type": "code",
      "source": [
        "for result in results:\n",
        "    print(f\"Review {result['review'][:100]}...\")\n",
        "    print(f\"text {result['text']}\\n\")"
      ],
      "metadata": {
        "colab": {
          "base_uri": "https://localhost:8080/"
        },
        "id": "MRuZ0RKg58aN",
        "outputId": "24419724-7b52-4f8a-a998-ca8caa3a442d"
      },
      "execution_count": 64,
      "outputs": [
        {
          "output_type": "stream",
          "name": "stdout",
          "text": [
            "Review ร้านอาหารใหญ่มากกกกกกก \n",
            "เลี้ยวเข้ามาเจอห้องน้ำก่อนเลย เออแปลกดี \n",
            "ห้องทานหลักๆอยู่ชั้น 2 มีกาแฟ น้ำผึ...\n",
            "text ```json\n",
            "{\"keywords\": [\"ร้านอาหาร\", \"ห้องน้ำ\", \"กาแฟ\", \"น้ำผึ้ง\", \"น้ำผึ้ง\", \"ลาบไข่ต้ม\", \"ไข่มัน\", \"ขนมไทย\", \"ขนมหวาน\", \"ฟรี\", \"ราคา\", \"กินไม่ไหว\", \"ขนมไทย\", \"ขนมฟรุ้ง\", \"ขนมไทย\", \"กินแล้ว\", \"ขนมหวาน\", \"ขนมให้กินฟรี\", \"ขนมไทย\"]}\n",
            "```\n",
            "\n",
            "Review วันนี้ได้มีโอกาสไปนั่งซดกาแฟที่ร้านวาวี แถวๆอารีย์\n",
            "\n",
            "ก็ได้ยินมาบ่อยๆละ จากหลายที่ แต่ที่บ่อยสุดก็จาก ...\n",
            "text ```json\n",
            "{\n",
            "  \"keywords\": [\n",
            "    \"ลาเต้\",\n",
            "    \"ร้อน\",\n",
            "    \"แก้วนึง\"\n",
            "  ]\n",
            "}\n",
            "```\n",
            "\n"
          ]
        }
      ]
    },
    {
      "cell_type": "code",
      "source": [
        "for result in results:\n",
        "    print(f\"Review {result['review'][:100]}...\")\n",
        "    print(f\"text {result['text']}\\n\")"
      ],
      "metadata": {
        "colab": {
          "base_uri": "https://localhost:8080/"
        },
        "id": "h9XPTrL459vd",
        "outputId": "493522f3-2c4e-4b8c-e43f-a91c98862381"
      },
      "execution_count": 65,
      "outputs": [
        {
          "output_type": "stream",
          "name": "stdout",
          "text": [
            "Review ร้านอาหารใหญ่มากกกกกกก \n",
            "เลี้ยวเข้ามาเจอห้องน้ำก่อนเลย เออแปลกดี \n",
            "ห้องทานหลักๆอยู่ชั้น 2 มีกาแฟ น้ำผึ...\n",
            "text ```json\n",
            "{\"keywords\": [\"ร้านอาหาร\", \"ห้องน้ำ\", \"กาแฟ\", \"น้ำผึ้ง\", \"น้ำผึ้ง\", \"ลาบไข่ต้ม\", \"ไข่มัน\", \"ขนมไทย\", \"ขนมหวาน\", \"ฟรี\", \"ราคา\", \"กินไม่ไหว\", \"ขนมไทย\", \"ขนมฟรุ้ง\", \"ขนมไทย\", \"กินแล้ว\", \"ขนมหวาน\", \"ขนมให้กินฟรี\", \"ขนมไทย\"]}\n",
            "```\n",
            "\n",
            "Review วันนี้ได้มีโอกาสไปนั่งซดกาแฟที่ร้านวาวี แถวๆอารีย์\n",
            "\n",
            "ก็ได้ยินมาบ่อยๆละ จากหลายที่ แต่ที่บ่อยสุดก็จาก ...\n",
            "text ```json\n",
            "{\n",
            "  \"keywords\": [\n",
            "    \"ลาเต้\",\n",
            "    \"ร้อน\",\n",
            "    \"แก้วนึง\"\n",
            "  ]\n",
            "}\n",
            "```\n",
            "\n"
          ]
        }
      ]
    },
    {
      "cell_type": "code",
      "source": [
        "%%time\n",
        "results = []\n",
        "for review in sample_reviews:\n",
        "    text = keyword_extract.invoke({\"review\": review})\n",
        "    cleaned = (text).replace(\"**\", \"\").strip()\n",
        "    results.append({\"review\": review, \"text\": cleaned})"
      ],
      "metadata": {
        "colab": {
          "base_uri": "https://localhost:8080/"
        },
        "id": "V30hw6rY5-2X",
        "outputId": "65e3e70c-22b5-4a14-91f0-82413409cf21"
      },
      "execution_count": 66,
      "outputs": [
        {
          "output_type": "stream",
          "name": "stdout",
          "text": [
            "CPU times: user 95.2 ms, sys: 8.87 ms, total: 104 ms\n",
            "Wall time: 10.2 s\n"
          ]
        }
      ]
    },
    {
      "cell_type": "code",
      "source": [
        "for result in results:\n",
        "    print(f\"Review {result['review'][:100]}...\")\n",
        "    print(f\"text {result['text']}\\n\")"
      ],
      "metadata": {
        "colab": {
          "base_uri": "https://localhost:8080/"
        },
        "id": "YTh_nggb6Sq9",
        "outputId": "6b225a90-8b71-4dd2-9469-627f5d3f33f3"
      },
      "execution_count": 67,
      "outputs": [
        {
          "output_type": "stream",
          "name": "stdout",
          "text": [
            "Review ร้านอาหารใหญ่มากกกกกกก \n",
            "เลี้ยวเข้ามาเจอห้องน้ำก่อนเลย เออแปลกดี \n",
            "ห้องทานหลักๆอยู่ชั้น 2 มีกาแฟ น้ำผึ...\n",
            "text ```json\n",
            "{\"keywords\": [\"ร้านอาหาร\", \"ห้องน้ำ\", \"กาแฟ\", \"น้ำผึ้ง\", \"น้ำผึ้ง\", \"ลาบไข่ต้ม\", \"ไข่มัน\", \"ขนมไทย\", \"ขนมหวาน\", \"ฟรี\", \"ราคา\", \"กินไม่ไหว\", \"ขนม\"]}\n",
            "```\n",
            "\n",
            "Review วันนี้ได้มีโอกาสไปนั่งซดกาแฟที่ร้านวาวี แถวๆอารีย์\n",
            "\n",
            "ก็ได้ยินมาบ่อยๆละ จากหลายที่ แต่ที่บ่อยสุดก็จาก ...\n",
            "text ```json\n",
            "{\n",
            "  \"keywords\": [\n",
            "    \"ลาเต้\",\n",
            "    \"อร่อย\",\n",
            "    \"กาแฟ\",\n",
            "    \"ร้านวาวี\",\n",
            "    \"Starbuck\",\n",
            "    \"แฟนๆ Starbuck\",\n",
            "    \"ตึก Software Park\",\n",
            "    \"ไรกินแถวนี้\",\n",
            "    \"จัดไป\",\n",
            "    \"บรรยากาศรอบๆ ร้าน\",\n",
            "    \"แต่งได้\",\n",
            "    \"น่านั่ง\",\n",
            "    \"อารมณ์\",\n",
            "    \"สวนบ้านเรา\",\n",
            "    \"สีเขียว\",\n",
            "    \"สีชมพู\",\n",
            "    \"สีฟ้า\",\n",
            "    \"เขียว\",\n",
            "    \"เล็กๆ\",\n",
            "    \"ผ่อน\",\n",
            "    \"เล่นลายฟองนม\",\n",
            "    \"เว้ยยย\",\n",
            "    \"ฉีกน้ำตาลเทใส่แล้ว\",\n",
            "    \"คนก็แหล่มไม่แพ้กัน\",\n",
            "    \"เมพพพพ\",\n",
            "    \"รสชาติ 1\",\n",
            "    \"2\",\n",
            "    \"เฮ้ยยย\",\n",
            "    \"ซากอารยธรรมลาเต้เมพๆ\",\n",
            "    \"หน้าตาผ่าน\",\n",
            "    \"รสชาติ 1\",\n",
            "    \"คุณภาพ 2\",\n",
            "    \"ชู้ดดดดดดดด\",\n",
            "    \"เมนูอื่นๆ ลองชิม\",\n",
            "    \"วิปครีมหวาน\",\n",
            "    \"โกโก้\",\n",
            "    \"หอม\",\n",
            "    \"เพื่อนอีกคนสั่งน้ำส้มกะเค้กช็อกโกแลต\",\n",
            "    \"แจ่ม...\",\n",
            "    \"น้ำส้มกะเค้กช็อกโกแลต\",\n",
            "    \"ซื้อ\",\n",
            "    \"จุก\",\n",
            "    \"ช็อกโกแลต\",\n",
            "    \"ไม่แพง\",\n",
            "    \"กินบ่อยก็จุกได้\",\n",
            "    \"ถ้าครายผ่านแถวอารีย์มากินเหอะ\",\n",
            "    \"ซอยไรจำไม่ได้รู้แต่อยู่ตรงข้าม Villa ตรง BS อารีย์เลยอะ\",\n",
            "    \"ถ่ายโดย : Tan\",\n",
            "    \"กล้อง : ซัมซวย Omnia i900 (สีภาพถึงได้ไม่ค่อยสวยเท่าไหร)\",\n",
            "    \"ขั้นตอนการ Extract keywords\"\n",
            "  ]\n",
            "}\n",
            "```\n",
            "\n"
          ]
        }
      ]
    },
    {
      "cell_type": "code",
      "source": [
        "!ollama pull scb10x/typhoon2.1-gemma3-4b"
      ],
      "metadata": {
        "colab": {
          "base_uri": "https://localhost:8080/"
        },
        "id": "x_hwP26I6UPM",
        "outputId": "51746703-2a8b-4297-eee4-322f99ece97a"
      },
      "execution_count": 68,
      "outputs": [
        {
          "output_type": "stream",
          "name": "stdout",
          "text": [
            "\u001b[?2026h\u001b[?25l\u001b[1G\u001b[?25h\u001b[?2026l\u001b[?2026h\u001b[?25l\u001b[1G\u001b[?25h\u001b[?2026l\u001b[?2026h\u001b[?25l\u001b[1G\u001b[?25h\u001b[?2026l\u001b[?2026h\u001b[?25l\u001b[1G\u001b[?25h\u001b[?2026l\u001b[?2026h\u001b[?25l\u001b[1G\u001b[?25h\u001b[?2026l\u001b[?2026h\u001b[?25l\u001b[1G\u001b[?25h\u001b[?2026l\u001b[?2026h\u001b[?25l\u001b[1G\u001b[?25h\u001b[?2026l\u001b[?2026h\u001b[?25l\u001b[1G\u001b[?25h\u001b[?2026l\u001b[?2026h\u001b[?25l\u001b[1G\u001b[?25h\u001b[?2026l\u001b[?2026h\u001b[?25l\u001b[1G\u001b[?25h\u001b[?2026l\u001b[?2026h\u001b[?25l\u001b[1G\u001b[?25h\u001b[?2026l\u001b[?2026h\u001b[?25l\u001b[1G\u001b[?25h\u001b[?2026l\u001b[?2026h\u001b[?25l\u001b[1G\u001b[?25h\u001b[?2026l\u001b[?2026h\u001b[?25l\u001b[1G\u001b[?25h\u001b[?2026l\u001b[?2026h\u001b[?25l\u001b[1G\u001b[?25h\u001b[?2026l\u001b[?2026h\u001b[?25l\u001b[1G\u001b[?25h\u001b[?2026l\u001b[?2026h\u001b[?25l\u001b[1G\u001b[?25h\u001b[?2026l\u001b[?2026h\u001b[?25l\u001b[A\u001b[1G\u001b[?25h\u001b[?2026l\u001b[?2026h\u001b[?25l\u001b[A\u001b[1G\u001b[?25h\u001b[?2026l\u001b[?2026h\u001b[?25l\u001b[A\u001b[1G\u001b[?25h\u001b[?2026l\u001b[?2026h\u001b[?25l\u001b[A\u001b[1G\u001b[?25h\u001b[?2026l\u001b[?2026h\u001b[?25l\u001b[A\u001b[1G\u001b[?25h\u001b[?2026l\u001b[?2026h\u001b[?25l\u001b[A\u001b[1G\u001b[?25h\u001b[?2026l\u001b[?2026h\u001b[?25l\u001b[A\u001b[1G\u001b[?25h\u001b[?2026l\u001b[?2026h\u001b[?25l\u001b[A\u001b[1G\u001b[?25h\u001b[?2026l\u001b[?2026h\u001b[?25l\u001b[A\u001b[1G\u001b[?25h\u001b[?2026l\u001b[?2026h\u001b[?25l\u001b[A\u001b[1G\u001b[?25h\u001b[?2026l\u001b[?2026h\u001b[?25l\u001b[A\u001b[1G\u001b[?25h\u001b[?2026l\u001b[?2026h\u001b[?25l\u001b[A\u001b[1G\u001b[?25h\u001b[?2026l\u001b[?2026h\u001b[?25l\u001b[A\u001b[1G\u001b[?25h\u001b[?2026l\u001b[?2026h\u001b[?25l\u001b[A\u001b[1G\u001b[?25h\u001b[?2026l\u001b[?2026h\u001b[?25l\u001b[A\u001b[1G\u001b[?25h\u001b[?2026l\u001b[?2026h\u001b[?25l\u001b[A\u001b[1G\u001b[?25h\u001b[?2026l\u001b[?2026h\u001b[?25l\u001b[A\u001b[1G\u001b[?25h\u001b[?2026l\u001b[?2026h\u001b[?25l\u001b[A\u001b[1G\u001b[?25h\u001b[?2026l\u001b[?2026h\u001b[?25l\u001b[A\u001b[1G\u001b[?25h\u001b[?2026l\u001b[?2026h\u001b[?25l\u001b[A\u001b[1G\u001b[?25h\u001b[?2026l\u001b[?2026h\u001b[?25l\u001b[A\u001b[1G\u001b[?25h\u001b[?2026l\u001b[?2026h\u001b[?25l\u001b[A\u001b[1G\u001b[?25h\u001b[?2026l\u001b[?2026h\u001b[?25l\u001b[A\u001b[1G\u001b[?25h\u001b[?2026l\u001b[?2026h\u001b[?25l\u001b[A\u001b[1G\u001b[?25h\u001b[?2026l\u001b[?2026h\u001b[?25l\u001b[A\u001b[1G\u001b[?25h\u001b[?2026l\u001b[?2026h\u001b[?25l\u001b[A\u001b[1G\u001b[?25h\u001b[?2026l\u001b[?2026h\u001b[?25l\u001b[A\u001b[1G\u001b[?25h\u001b[?2026l\u001b[?2026h\u001b[?25l\u001b[A\u001b[1G\u001b[?25h\u001b[?2026l\u001b[?2026h\u001b[?25l\u001b[A\u001b[1G\u001b[?25h\u001b[?2026l\u001b[?2026h\u001b[?25l\u001b[A\u001b[1G\u001b[?25h\u001b[?2026l\u001b[?2026h\u001b[?25l\u001b[A\u001b[1G\u001b[?25h\u001b[?2026l\u001b[?2026h\u001b[?25l\u001b[A\u001b[1G\u001b[?25h\u001b[?2026l\u001b[?2026h\u001b[?25l\u001b[A\u001b[1G\u001b[?25h\u001b[?2026l\u001b[?2026h\u001b[?25l\u001b[A\u001b[1G\u001b[?25h\u001b[?2026l\u001b[?2026h\u001b[?25l\u001b[A\u001b[1G\u001b[?25h\u001b[?2026l\u001b[?2026h\u001b[?25l\u001b[A\u001b[1G\u001b[?25h\u001b[?2026l\u001b[?2026h\u001b[?25l\u001b[A\u001b[1G\u001b[?25h\u001b[?2026l\u001b[?2026h\u001b[?25l\u001b[A\u001b[1G\u001b[?25h\u001b[?2026l\u001b[?2026h\u001b[?25l\u001b[A\u001b[1G\u001b[?25h\u001b[?2026l\u001b[?2026h\u001b[?25l\u001b[A\u001b[1G\u001b[?25h\u001b[?2026l\u001b[?2026h\u001b[?25l\u001b[A\u001b[1G\u001b[?25h\u001b[?2026l\u001b[?2026h\u001b[?25l\u001b[A\u001b[1G\u001b[?25h\u001b[?2026l\u001b[?2026h\u001b[?25l\u001b[A\u001b[1G\u001b[?25h\u001b[?2026l\u001b[?2026h\u001b[?25l\u001b[A\u001b[1G\u001b[?25h\u001b[?2026l\u001b[?2026h\u001b[?25l\u001b[A\u001b[1G\u001b[?25h\u001b[?2026l\u001b[?2026h\u001b[?25l\u001b[A\u001b[1G\u001b[?25h\u001b[?2026l\u001b[?2026h\u001b[?25l\u001b[A\u001b[1G\u001b[?25h\u001b[?2026l\u001b[?2026h\u001b[?25l\u001b[A\u001b[1G\u001b[?25h\u001b[?2026l\u001b[?2026h\u001b[?25l\u001b[A\u001b[1G\u001b[?25h\u001b[?2026l\u001b[?2026h\u001b[?25l\u001b[A\u001b[1G\u001b[?25h\u001b[?2026l\u001b[?2026h\u001b[?25l\u001b[A\u001b[1G\u001b[?25h\u001b[?2026l\u001b[?2026h\u001b[?25l\u001b[A\u001b[1G\u001b[?25h\u001b[?2026l\u001b[?2026h\u001b[?25l\u001b[A\u001b[1G\u001b[?25h\u001b[?2026l\u001b[?2026h\u001b[?25l\u001b[A\u001b[1G\u001b[?25h\u001b[?2026l\u001b[?2026h\u001b[?25l\u001b[A\u001b[1G\u001b[?25h\u001b[?2026l\u001b[?2026h\u001b[?25l\u001b[A\u001b[1G\u001b[?25h\u001b[?2026l\u001b[?2026h\u001b[?25l\u001b[A\u001b[1G\u001b[?25h\u001b[?2026l\u001b[?2026h\u001b[?25l\u001b[A\u001b[1G\u001b[?25h\u001b[?2026l\u001b[?2026h\u001b[?25l\u001b[A\u001b[1G\u001b[?25h\u001b[?2026l\u001b[?2026h\u001b[?25l\u001b[A\u001b[1G\u001b[?25h\u001b[?2026l\u001b[?2026h\u001b[?25l\u001b[A\u001b[1G\u001b[?25h\u001b[?2026l\u001b[?2026h\u001b[?25l\u001b[A\u001b[1G\u001b[?25h\u001b[?2026l\u001b[?2026h\u001b[?25l\u001b[A\u001b[1G\u001b[?25h\u001b[?2026l\u001b[?2026h\u001b[?25l\u001b[A\u001b[1G\u001b[?25h\u001b[?2026l\u001b[?2026h\u001b[?25l\u001b[A\u001b[1G\u001b[?25h\u001b[?2026l\u001b[?2026h\u001b[?25l\u001b[A\u001b[1G\u001b[?25h\u001b[?2026l\u001b[?2026h\u001b[?25l\u001b[A\u001b[1G\u001b[?25h\u001b[?2026l\u001b[?2026h\u001b[?25l\u001b[A\u001b[1G\u001b[?25h\u001b[?2026l\u001b[?2026h\u001b[?25l\u001b[A\u001b[1G\u001b[?25h\u001b[?2026l\u001b[?2026h\u001b[?25l\u001b[A\u001b[1G\u001b[?25h\u001b[?2026l\u001b[?2026h\u001b[?25l\u001b[A\u001b[1G\u001b[?25h\u001b[?2026l\u001b[?2026h\u001b[?25l\u001b[A\u001b[1G\u001b[?25h\u001b[?2026l\u001b[?2026h\u001b[?25l\u001b[A\u001b[1G\u001b[?25h\u001b[?2026l\u001b[?2026h\u001b[?25l\u001b[A\u001b[1G\u001b[?25h\u001b[?2026l\u001b[?2026h\u001b[?25l\u001b[A\u001b[1G\u001b[?25h\u001b[?2026l\u001b[?2026h\u001b[?25l\u001b[A\u001b[1G\u001b[?25h\u001b[?2026l\u001b[?2026h\u001b[?25l\u001b[A\u001b[1G\u001b[?25h\u001b[?2026l\u001b[?2026h\u001b[?25l\u001b[A\u001b[1G\u001b[?25h\u001b[?2026l\u001b[?2026h\u001b[?25l\u001b[A\u001b[1G\u001b[?25h\u001b[?2026l\u001b[?2026h\u001b[?25l\u001b[A\u001b[1G\u001b[?25h\u001b[?2026l\u001b[?2026h\u001b[?25l\u001b[A\u001b[1G\u001b[?25h\u001b[?2026l\u001b[?2026h\u001b[?25l\u001b[A\u001b[1G\u001b[?25h\u001b[?2026l\u001b[?2026h\u001b[?25l\u001b[A\u001b[1G\u001b[?25h\u001b[?2026l\u001b[?2026h\u001b[?25l\u001b[A\u001b[1G\u001b[?25h\u001b[?2026l\u001b[?2026h\u001b[?25l\u001b[A\u001b[1G\u001b[?25h\u001b[?2026l\u001b[?2026h\u001b[?25l\u001b[A\u001b[1G\u001b[?25h\u001b[?2026l\u001b[?2026h\u001b[?25l\u001b[A\u001b[1G\u001b[?25h\u001b[?2026l\u001b[?2026h\u001b[?25l\u001b[A\u001b[1G\u001b[?25h\u001b[?2026l\u001b[?2026h\u001b[?25l\u001b[A\u001b[1G\u001b[?25h\u001b[?2026l\u001b[?2026h\u001b[?25l\u001b[A\u001b[1G\u001b[?25h\u001b[?2026l\u001b[?2026h\u001b[?25l\u001b[A\u001b[1G\u001b[?25h\u001b[?2026l\u001b[?2026h\u001b[?25l\u001b[A\u001b[1G\u001b[?25h\u001b[?2026l\u001b[?2026h\u001b[?25l\u001b[A\u001b[1G\u001b[?25h\u001b[?2026l\u001b[?2026h\u001b[?25l\u001b[A\u001b[1G\u001b[?25h\u001b[?2026l\u001b[?2026h\u001b[?25l\u001b[A\u001b[1G\u001b[?25h\u001b[?2026l\u001b[?2026h\u001b[?25l\u001b[A\u001b[1G\u001b[?25h\u001b[?2026l\u001b[?2026h\u001b[?25l\u001b[A\u001b[1G\u001b[?25h\u001b[?2026l\u001b[?2026h\u001b[?25l\u001b[A\u001b[1G\u001b[?25h\u001b[?2026l\u001b[?2026h\u001b[?25l\u001b[A\u001b[1G\u001b[?25h\u001b[?2026l\u001b[?2026h\u001b[?25l\u001b[A\u001b[1G\u001b[?25h\u001b[?2026l\u001b[?2026h\u001b[?25l\u001b[A\u001b[1G\u001b[?25h\u001b[?2026l\u001b[?2026h\u001b[?25l\u001b[A\u001b[1G\u001b[?25h\u001b[?2026l\u001b[?2026h\u001b[?25l\u001b[A\u001b[1G\u001b[?25h\u001b[?2026l\u001b[?2026h\u001b[?25l\u001b[A\u001b[1G\u001b[?25h\u001b[?2026l\u001b[?2026h\u001b[?25l\u001b[A\u001b[1G\u001b[?25h\u001b[?2026l\u001b[?2026h\u001b[?25l\u001b[A\u001b[1G\u001b[?25h\u001b[?2026l\u001b[?2026h\u001b[?25l\u001b[A\u001b[1G\u001b[?25h\u001b[?2026l\u001b[?2026h\u001b[?25l\u001b[A\u001b[1G\u001b[?25h\u001b[?2026l\u001b[?2026h\u001b[?25l\u001b[A\u001b[1G\u001b[?25h\u001b[?2026l\u001b[?2026h\u001b[?25l\u001b[A\u001b[1G\u001b[?25h\u001b[?2026l\u001b[?2026h\u001b[?25l\u001b[A\u001b[1G\u001b[?25h\u001b[?2026l\u001b[?2026h\u001b[?25l\u001b[A\u001b[1G\u001b[?25h\u001b[?2026l\u001b[?2026h\u001b[?25l\u001b[A\u001b[1G\u001b[?25h\u001b[?2026l\u001b[?2026h\u001b[?25l\u001b[A\u001b[1G\u001b[?25h\u001b[?2026l\u001b[?2026h\u001b[?25l\u001b[A\u001b[1G\u001b[?25h\u001b[?2026l\u001b[?2026h\u001b[?25l\u001b[A\u001b[1G\u001b[?25h\u001b[?2026l\u001b[?2026h\u001b[?25l\u001b[A\u001b[1G\u001b[?25h\u001b[?2026l\u001b[?2026h\u001b[?25l\u001b[A\u001b[1G\u001b[?25h\u001b[?2026l\u001b[?2026h\u001b[?25l\u001b[A\u001b[1G\u001b[?25h\u001b[?2026l\u001b[?2026h\u001b[?25l\u001b[A\u001b[1G\u001b[?25h\u001b[?2026l\u001b[?2026h\u001b[?25l\u001b[A\u001b[1G\u001b[?25h\u001b[?2026l\u001b[?2026h\u001b[?25l\u001b[A\u001b[1G\u001b[?25h\u001b[?2026l\u001b[?2026h\u001b[?25l\u001b[A\u001b[1G\u001b[?25h\u001b[?2026l\u001b[?2026h\u001b[?25l\u001b[A\u001b[1G\u001b[?25h\u001b[?2026l\u001b[?2026h\u001b[?25l\u001b[A\u001b[1G\u001b[?25h\u001b[?2026l\u001b[?2026h\u001b[?25l\u001b[A\u001b[1G\u001b[?25h\u001b[?2026l\u001b[?2026h\u001b[?25l\u001b[A\u001b[1G\u001b[?25h\u001b[?2026l\u001b[?2026h\u001b[?25l\u001b[A\u001b[1G\u001b[?25h\u001b[?2026l\u001b[?2026h\u001b[?25l\u001b[A\u001b[1G\u001b[?25h\u001b[?2026l\u001b[?2026h\u001b[?25l\u001b[A\u001b[1G\u001b[?25h\u001b[?2026l\u001b[?2026h\u001b[?25l\u001b[A\u001b[1G\u001b[?25h\u001b[?2026l\u001b[?2026h\u001b[?25l\u001b[A\u001b[1G\u001b[?25h\u001b[?2026l\u001b[?2026h\u001b[?25l\u001b[A\u001b[1G\u001b[?25h\u001b[?2026l\u001b[?2026h\u001b[?25l\u001b[A\u001b[1G\u001b[?25h\u001b[?2026l\u001b[?2026h\u001b[?25l\u001b[A\u001b[1G\u001b[?25h\u001b[?2026l\u001b[?2026h\u001b[?25l\u001b[A\u001b[1G\u001b[?25h\u001b[?2026l\u001b[?2026h\u001b[?25l\u001b[A\u001b[1G\u001b[?25h\u001b[?2026l\u001b[?2026h\u001b[?25l\u001b[A\u001b[1G\u001b[?25h\u001b[?2026l\u001b[?2026h\u001b[?25l\u001b[A\u001b[1G\u001b[?25h\u001b[?2026l\u001b[?2026h\u001b[?25l\u001b[A\u001b[1G\u001b[?25h\u001b[?2026l\u001b[?2026h\u001b[?25l\u001b[A\u001b[1G\u001b[?25h\u001b[?2026l\u001b[?2026h\u001b[?25l\u001b[A\u001b[1G\u001b[?25h\u001b[?2026l\u001b[?2026h\u001b[?25l\u001b[A\u001b[1G\u001b[?25h\u001b[?2026l\u001b[?2026h\u001b[?25l\u001b[A\u001b[1G\u001b[?25h\u001b[?2026l\u001b[?2026h\u001b[?25l\u001b[A\u001b[1G\u001b[?25h\u001b[?2026l\u001b[?2026h\u001b[?25l\u001b[A\u001b[1G\u001b[?25h\u001b[?2026l\u001b[?2026h\u001b[?25l\u001b[A\u001b[1G\u001b[?25h\u001b[?2026l\u001b[?2026h\u001b[?25l\u001b[A\u001b[1G\u001b[?25h\u001b[?2026l\u001b[?2026h\u001b[?25l\u001b[A\u001b[1G\u001b[?25h\u001b[?2026l\u001b[?2026h\u001b[?25l\u001b[A\u001b[1G\u001b[?25h\u001b[?2026l\u001b[?2026h\u001b[?25l\u001b[A\u001b[1G\u001b[?25h\u001b[?2026l\u001b[?2026h\u001b[?25l\u001b[A\u001b[1G\u001b[?25h\u001b[?2026l\u001b[?2026h\u001b[?25l\u001b[A\u001b[1G\u001b[?25h\u001b[?2026l\u001b[?2026h\u001b[?25l\u001b[A\u001b[1G\u001b[?25h\u001b[?2026l\u001b[?2026h\u001b[?25l\u001b[A\u001b[1G\u001b[?25h\u001b[?2026l\u001b[?2026h\u001b[?25l\u001b[A\u001b[A\u001b[1G\u001b[?25h\u001b[?2026l\u001b[?2026h\u001b[?25l\u001b[A\u001b[A\u001b[1G\u001b[?25h\u001b[?2026l\u001b[?2026h\u001b[?25l\u001b[A\u001b[A\u001b[1G\u001b[?25h\u001b[?2026l\u001b[?2026h\u001b[?25l\u001b[A\u001b[A\u001b[1G\u001b[?25h\u001b[?2026l\u001b[?2026h\u001b[?25l\u001b[A\u001b[A\u001b[1G\u001b[?25h\u001b[?2026l\u001b[?2026h\u001b[?25l\u001b[A\u001b[A\u001b[1G\u001b[?25h\u001b[?2026l\u001b[?2026h\u001b[?25l\u001b[A\u001b[A\u001b[1G\u001b[?25h\u001b[?2026l\u001b[?2026h\u001b[?25l\u001b[A\u001b[A\u001b[1G\u001b[?25h\u001b[?2026l\u001b[?2026h\u001b[?25l\u001b[A\u001b[A\u001b[1G\u001b[?25h\u001b[?2026l\u001b[?2026h\u001b[?25l\u001b[A\u001b[A\u001b[1G\u001b[?25h\u001b[?2026l\u001b[?2026h\u001b[?25l\u001b[A\u001b[A\u001b[1G\u001b[?25h\u001b[?2026l\u001b[?2026h\u001b[?25l\u001b[A\u001b[A\u001b[1G\u001b[?25h\u001b[?2026l\u001b[?2026h\u001b[?25l\u001b[A\u001b[A\u001b[1G\u001b[?25h\u001b[?2026l\u001b[?2026h\u001b[?25l\u001b[A\u001b[A\u001b[1G\u001b[?25h\u001b[?2026l\u001b[?2026h\u001b[?25l\u001b[A\u001b[A\u001b[1G\u001b[?25h\u001b[?2026l\u001b[?2026h\u001b[?25l\u001b[A\u001b[A\u001b[1G\u001b[?25h\u001b[?2026l\u001b[?2026h\u001b[?25l\u001b[A\u001b[A\u001b[A\u001b[1G\u001b[?25h\u001b[?2026l\u001b[?2026h\u001b[?25l\u001b[A\u001b[A\u001b[A\u001b[1G\u001b[?25h\u001b[?2026l\u001b[?2026h\u001b[?25l\u001b[A\u001b[A\u001b[A\u001b[1G\u001b[?25h\u001b[?2026l\u001b[?2026h\u001b[?25l\u001b[A\u001b[A\u001b[A\u001b[1G\u001b[?25h\u001b[?2026l\u001b[?2026h\u001b[?25l\u001b[A\u001b[A\u001b[A\u001b[1G\u001b[?25h\u001b[?2026l\u001b[?2026h\u001b[?25l\u001b[A\u001b[A\u001b[A\u001b[1G\u001b[?25h\u001b[?2026l\u001b[?2026h\u001b[?25l\u001b[A\u001b[A\u001b[A\u001b[1G\u001b[?25h\u001b[?2026l\u001b[?2026h\u001b[?25l\u001b[A\u001b[A\u001b[A\u001b[1G\u001b[?25h\u001b[?2026l\u001b[?2026h\u001b[?25l\u001b[A\u001b[A\u001b[A\u001b[1G\u001b[?25h\u001b[?2026l\u001b[?2026h\u001b[?25l\u001b[A\u001b[A\u001b[A\u001b[1G\u001b[?25h\u001b[?2026l\u001b[?2026h\u001b[?25l\u001b[A\u001b[A\u001b[A\u001b[1G\u001b[?25h\u001b[?2026l\u001b[?2026h\u001b[?25l\u001b[A\u001b[A\u001b[A\u001b[1G\u001b[?25h\u001b[?2026l\u001b[?2026h\u001b[?25l\u001b[A\u001b[A\u001b[A\u001b[1G\u001b[?25h\u001b[?2026l\u001b[?2026h\u001b[?25l\u001b[A\u001b[A\u001b[A\u001b[1G\u001b[?25h\u001b[?2026l\u001b[?2026h\u001b[?25l\u001b[A\u001b[A\u001b[A\u001b[1G\u001b[?25h\u001b[?2026l\u001b[?2026h\u001b[?25l\u001b[A\u001b[A\u001b[A\u001b[A\u001b[1G\u001b[?25h\u001b[?2026l\u001b[?2026h\u001b[?25l\u001b[A\u001b[A\u001b[A\u001b[A\u001b[1G\u001b[?25h\u001b[?2026l\u001b[?2026h\u001b[?25l\u001b[A\u001b[A\u001b[A\u001b[A\u001b[1G\u001b[?25h\u001b[?2026l\u001b[?2026h\u001b[?25l\u001b[A\u001b[A\u001b[A\u001b[A\u001b[1G\u001b[?25h\u001b[?2026l\u001b[?2026h\u001b[?25l\u001b[A\u001b[A\u001b[A\u001b[A\u001b[1G\u001b[?25h\u001b[?2026l\u001b[?2026h\u001b[?25l\u001b[A\u001b[A\u001b[A\u001b[A\u001b[1G\u001b[?25h\u001b[?2026l\u001b[?2026h\u001b[?25l\u001b[A\u001b[A\u001b[A\u001b[A\u001b[1G\u001b[?25h\u001b[?2026l\u001b[?2026h\u001b[?25l\u001b[A\u001b[A\u001b[A\u001b[A\u001b[1G\u001b[?25h\u001b[?2026l\u001b[?2026h\u001b[?25l\u001b[A\u001b[A\u001b[A\u001b[A\u001b[1G\u001b[?25h\u001b[?2026l\u001b[?2026h\u001b[?25l\u001b[A\u001b[A\u001b[A\u001b[A\u001b[1G\u001b[?25h\u001b[?2026l\u001b[?2026h\u001b[?25l\u001b[A\u001b[A\u001b[A\u001b[A\u001b[1G\u001b[?25h\u001b[?2026l\u001b[?2026h\u001b[?25l\u001b[A\u001b[A\u001b[A\u001b[A\u001b[1G\u001b[?25h\u001b[?2026l\u001b[?2026h\u001b[?25l\u001b[A\u001b[A\u001b[A\u001b[A\u001b[1G\u001b[?25h\u001b[?2026l\u001b[?2026h\u001b[?25l\u001b[A\u001b[A\u001b[A\u001b[A\u001b[1G\u001b[?25h\u001b[?2026l\u001b[?2026h\u001b[?25l\u001b[A\u001b[A\u001b[A\u001b[A\u001b[1G\u001b[?25h\u001b[?2026l\u001b[?2026h\u001b[?25l\u001b[A\u001b[A\u001b[A\u001b[A\u001b[A\u001b[1G\u001b[?25h\u001b[?2026l\u001b[?2026h\u001b[?25l\u001b[A\u001b[A\u001b[A\u001b[A\u001b[A\u001b[1G\u001b[?25h\u001b[?2026l\u001b[?2026h\u001b[?25l\u001b[A\u001b[A\u001b[A\u001b[A\u001b[A\u001b[1G\u001b[?25h\u001b[?2026l\u001b[?2026h\u001b[?25l\u001b[A\u001b[A\u001b[A\u001b[A\u001b[A\u001b[1G\u001b[?25h\u001b[?2026l\u001b[?2026h\u001b[?25l\u001b[A\u001b[A\u001b[A\u001b[A\u001b[A\u001b[1G\u001b[?25h\u001b[?2026l\u001b[?2026h\u001b[?25l\u001b[A\u001b[A\u001b[A\u001b[A\u001b[A\u001b[1G\u001b[?25h\u001b[?2026l\u001b[?2026h\u001b[?25l\u001b[A\u001b[A\u001b[A\u001b[A\u001b[A\u001b[1G\u001b[?25h\u001b[?2026l\u001b[?2026h\u001b[?25l\u001b[A\u001b[A\u001b[A\u001b[A\u001b[A\u001b[1G\u001b[?25h\u001b[?2026l\u001b[?2026h\u001b[?25l\u001b[A\u001b[A\u001b[A\u001b[A\u001b[A\u001b[1G\u001b[?25h\u001b[?2026l\u001b[?2026h\u001b[?25l\u001b[A\u001b[A\u001b[A\u001b[A\u001b[A\u001b[1G\u001b[?25h\u001b[?2026l\u001b[?2026h\u001b[?25l\u001b[A\u001b[A\u001b[A\u001b[A\u001b[A\u001b[1G\u001b[?25h\u001b[?2026l\u001b[?2026h\u001b[?25l\u001b[A\u001b[A\u001b[A\u001b[A\u001b[A\u001b[1G\u001b[?25h\u001b[?2026l\u001b[?2026h\u001b[?25l\u001b[A\u001b[A\u001b[A\u001b[A\u001b[A\u001b[1G\u001b[?25h\u001b[?2026l\u001b[?2026h\u001b[?25l\u001b[A\u001b[A\u001b[A\u001b[A\u001b[A\u001b[1G\u001b[?25h\u001b[?2026l\u001b[?2026h\u001b[?25l\u001b[A\u001b[A\u001b[A\u001b[A\u001b[A\u001b[1G\u001b[?25h\u001b[?2026l\u001b[?2026h\u001b[?25l\u001b[A\u001b[A\u001b[A\u001b[A\u001b[A\u001b[1G\u001b[?25h\u001b[?2026l\u001b[?2026h\u001b[?25l\u001b[A\u001b[A\u001b[A\u001b[A\u001b[A\u001b[A\u001b[1G\u001b[?25h\u001b[?2026l\u001b[?2026h\u001b[?25l\u001b[A\u001b[A\u001b[A\u001b[A\u001b[A\u001b[A\u001b[1G\u001b[?25h\u001b[?2026l\u001b[?2026h\u001b[?25l\u001b[A\u001b[A\u001b[A\u001b[A\u001b[A\u001b[A\u001b[1G\u001b[?25h\u001b[?2026l\u001b[?2026h\u001b[?25l\u001b[A\u001b[A\u001b[A\u001b[A\u001b[A\u001b[A\u001b[1G\u001b[?25h\u001b[?2026l\u001b[?2026h\u001b[?25l\u001b[A\u001b[A\u001b[A\u001b[A\u001b[A\u001b[A\u001b[1G\u001b[?25h\u001b[?2026l\u001b[?2026h\u001b[?25l\u001b[A\u001b[A\u001b[A\u001b[A\u001b[A\u001b[A\u001b[1G\u001b[?25h\u001b[?2026l\u001b[?2026h\u001b[?25l\u001b[A\u001b[A\u001b[A\u001b[A\u001b[A\u001b[A\u001b[1G\u001b[?25h\u001b[?2026l\u001b[?2026h\u001b[?25l\u001b[A\u001b[A\u001b[A\u001b[A\u001b[A\u001b[A\u001b[A\u001b[1G\u001b[?25h\u001b[?2026l\u001b[?2026h\u001b[?25l\u001b[A\u001b[A\u001b[A\u001b[A\u001b[A\u001b[A\u001b[A\u001b[1G\u001b[?25h\u001b[?2026l\u001b[?2026h\u001b[?25l\u001b[A\u001b[A\u001b[A\u001b[A\u001b[A\u001b[A\u001b[A\u001b[1G\u001b[?25h\u001b[?2026l\u001b[?2026h\u001b[?25l\u001b[A\u001b[A\u001b[A\u001b[A\u001b[A\u001b[A\u001b[A\u001b[1G\u001b[?25h\u001b[?2026l\u001b[?2026h\u001b[?25l\u001b[A\u001b[A\u001b[A\u001b[A\u001b[A\u001b[A\u001b[A\u001b[1G\u001b[?25h\u001b[?2026l\u001b[?2026h\u001b[?25l\u001b[A\u001b[A\u001b[A\u001b[A\u001b[A\u001b[A\u001b[A\u001b[1G\u001b[?25h\u001b[?2026l\u001b[?2026h\u001b[?25l\u001b[A\u001b[A\u001b[A\u001b[A\u001b[A\u001b[A\u001b[A\u001b[1G\u001b[?25h\u001b[?2026l\u001b[?2026h\u001b[?25l\u001b[A\u001b[A\u001b[A\u001b[A\u001b[A\u001b[A\u001b[A\u001b[1G\u001b[?25h\u001b[?2026l\u001b[?2026h\u001b[?25l\u001b[A\u001b[A\u001b[A\u001b[A\u001b[A\u001b[A\u001b[A\u001b[1G\u001b[?25h\u001b[?2026l\u001b[?2026h\u001b[?25l\u001b[A\u001b[A\u001b[A\u001b[A\u001b[A\u001b[A\u001b[A\u001b[1G\u001b[?25h\u001b[?2026l\u001b[?2026h\u001b[?25l\u001b[A\u001b[A\u001b[A\u001b[A\u001b[A\u001b[A\u001b[A\u001b[1G\u001b[?25h\u001b[?2026l\u001b[?2026h\u001b[?25l\u001b[A\u001b[A\u001b[A\u001b[A\u001b[A\u001b[A\u001b[A\u001b[1G\u001b[?25h\u001b[?2026l\u001b[?2026h\u001b[?25l\u001b[A\u001b[A\u001b[A\u001b[A\u001b[A\u001b[A\u001b[A\u001b[1G\u001b[?25h\u001b[?2026l\u001b[?2026h\u001b[?25l\u001b[A\u001b[A\u001b[A\u001b[A\u001b[A\u001b[A\u001b[A\u001b[1G\u001b[?25h\u001b[?2026l\u001b[?2026h\u001b[?25l\u001b[A\u001b[A\u001b[A\u001b[A\u001b[A\u001b[A\u001b[A\u001b[1G\u001b[?25h\u001b[?2026l\u001b[?2026h\u001b[?25l\u001b[A\u001b[A\u001b[A\u001b[A\u001b[A\u001b[A\u001b[A\u001b[1G\u001b[?25h\u001b[?2026l\u001b[?2026h\u001b[?25l\u001b[A\u001b[A\u001b[A\u001b[A\u001b[A\u001b[A\u001b[A\u001b[1G\u001b[?25h\u001b[?2026l\u001b[?2026h\u001b[?25l\u001b[A\u001b[A\u001b[A\u001b[A\u001b[A\u001b[A\u001b[A\u001b[1G\u001b[?25h\u001b[?2026l\u001b[?2026h\u001b[?25l\u001b[A\u001b[A\u001b[A\u001b[A\u001b[A\u001b[A\u001b[A\u001b[1G\u001b[?25h\u001b[?2026l\u001b[?2026h\u001b[?25l\u001b[A\u001b[A\u001b[A\u001b[A\u001b[A\u001b[A\u001b[A\u001b[1G\u001b[?25h\u001b[?2026l\u001b[?2026h\u001b[?25l\u001b[A\u001b[A\u001b[A\u001b[A\u001b[A\u001b[A\u001b[A\u001b[1G\u001b[?25h\u001b[?2026l\u001b[?2026h\u001b[?25l\u001b[A\u001b[A\u001b[A\u001b[A\u001b[A\u001b[A\u001b[A\u001b[1G\u001b[?25h\u001b[?2026l\u001b[?2026h\u001b[?25l\u001b[A\u001b[A\u001b[A\u001b[A\u001b[A\u001b[A\u001b[A\u001b[1G\u001b[?25h\u001b[?2026l\u001b[?2026h\u001b[?25l\u001b[A\u001b[A\u001b[A\u001b[A\u001b[A\u001b[A\u001b[A\u001b[1G\u001b[?25h\u001b[?2026l\u001b[?2026h\u001b[?25l\u001b[A\u001b[A\u001b[A\u001b[A\u001b[A\u001b[A\u001b[A\u001b[1G\u001b[?25h\u001b[?2026l\u001b[?2026h\u001b[?25l\u001b[A\u001b[A\u001b[A\u001b[A\u001b[A\u001b[A\u001b[A\u001b[1G\u001b[?25h\u001b[?2026l\u001b[?2026h\u001b[?25l\u001b[A\u001b[A\u001b[A\u001b[A\u001b[A\u001b[A\u001b[A\u001b[1G\u001b[?25h\u001b[?2026l\u001b[?2026h\u001b[?25l\u001b[A\u001b[A\u001b[A\u001b[A\u001b[A\u001b[A\u001b[A\u001b[1G\u001b[?25h\u001b[?2026l\u001b[?2026h\u001b[?25l\u001b[A\u001b[A\u001b[A\u001b[A\u001b[A\u001b[A\u001b[A\u001b[1G\u001b[?25h\u001b[?2026l\u001b[?2026h\u001b[?25l\u001b[A\u001b[A\u001b[A\u001b[A\u001b[A\u001b[A\u001b[A\u001b[1G\u001b[?25h\u001b[?2026l\u001b[?2026h\u001b[?25l\u001b[A\u001b[A\u001b[A\u001b[A\u001b[A\u001b[A\u001b[A\u001b[1G\u001b[?25h\u001b[?2026l\u001b[?2026h\u001b[?25l\u001b[A\u001b[A\u001b[A\u001b[A\u001b[A\u001b[A\u001b[A\u001b[1G\u001b[?25h\u001b[?2026l\u001b[?2026h\u001b[?25l\u001b[A\u001b[A\u001b[A\u001b[A\u001b[A\u001b[A\u001b[A\u001b[1G\u001b[?25h\u001b[?2026l\u001b[?2026h\u001b[?25l\u001b[A\u001b[A\u001b[A\u001b[A\u001b[A\u001b[A\u001b[A\u001b[1G\u001b[?25h\u001b[?2026l\u001b[?2026h\u001b[?25l\u001b[A\u001b[A\u001b[A\u001b[A\u001b[A\u001b[A\u001b[A\u001b[1G\u001b[?25h\u001b[?2026l\u001b[?2026h\u001b[?25l\u001b[A\u001b[A\u001b[A\u001b[A\u001b[A\u001b[A\u001b[A\u001b[1G\u001b[?25h\u001b[?2026l\u001b[?2026h\u001b[?25l\u001b[A\u001b[A\u001b[A\u001b[A\u001b[A\u001b[A\u001b[A\u001b[1G\u001b[?25h\u001b[?2026l\u001b[?2026h\u001b[?25l\u001b[A\u001b[A\u001b[A\u001b[A\u001b[A\u001b[A\u001b[A\u001b[1G\u001b[?25h\u001b[?2026l\u001b[?2026h\u001b[?25l\u001b[A\u001b[A\u001b[A\u001b[A\u001b[A\u001b[A\u001b[A\u001b[1G\u001b[?25h\u001b[?2026l\u001b[?2026h\u001b[?25l\u001b[A\u001b[A\u001b[A\u001b[A\u001b[A\u001b[A\u001b[A\u001b[1G\u001b[?25h\u001b[?2026l\u001b[?2026h\u001b[?25l\u001b[A\u001b[A\u001b[A\u001b[A\u001b[A\u001b[A\u001b[A\u001b[1G\u001b[?25h\u001b[?2026l\u001b[?2026h\u001b[?25l\u001b[A\u001b[A\u001b[A\u001b[A\u001b[A\u001b[A\u001b[A\u001b[1G\u001b[?25h\u001b[?2026l\u001b[?2026h\u001b[?25l\u001b[A\u001b[A\u001b[A\u001b[A\u001b[A\u001b[A\u001b[A\u001b[1G\u001b[?25h\u001b[?2026l\u001b[?2026h\u001b[?25l\u001b[A\u001b[A\u001b[A\u001b[A\u001b[A\u001b[A\u001b[A\u001b[1G\u001b[?25h\u001b[?2026l\u001b[?2026h\u001b[?25l\u001b[A\u001b[A\u001b[A\u001b[A\u001b[A\u001b[A\u001b[A\u001b[1G\u001b[?25h\u001b[?2026l\u001b[?2026h\u001b[?25l\u001b[A\u001b[A\u001b[A\u001b[A\u001b[A\u001b[A\u001b[A\u001b[1G\u001b[?25h\u001b[?2026l\u001b[?2026h\u001b[?25l\u001b[A\u001b[A\u001b[A\u001b[A\u001b[A\u001b[A\u001b[A\u001b[1G\u001b[?25h\u001b[?2026l\u001b[?2026h\u001b[?25l\u001b[A\u001b[A\u001b[A\u001b[A\u001b[A\u001b[A\u001b[A\u001b[1G\u001b[?25h\u001b[?2026l\u001b[?2026h\u001b[?25l\u001b[A\u001b[A\u001b[A\u001b[A\u001b[A\u001b[A\u001b[A\u001b[1G\u001b[?25h\u001b[?2026l\u001b[?2026h\u001b[?25l\u001b[A\u001b[A\u001b[A\u001b[A\u001b[A\u001b[A\u001b[A\u001b[1G\u001b[?25h\u001b[?2026l\u001b[?2026h\u001b[?25l\u001b[A\u001b[A\u001b[A\u001b[A\u001b[A\u001b[A\u001b[A\u001b[1G\u001b[?25h\u001b[?2026l\u001b[?2026h\u001b[?25l\u001b[A\u001b[A\u001b[A\u001b[A\u001b[A\u001b[A\u001b[A\u001b[1G\u001b[?25h\u001b[?2026l\u001b[?2026h\u001b[?25l\u001b[A\u001b[A\u001b[A\u001b[A\u001b[A\u001b[A\u001b[A\u001b[1G\u001b[?25h\u001b[?2026l\u001b[?2026h\u001b[?25l\u001b[A\u001b[A\u001b[A\u001b[A\u001b[A\u001b[A\u001b[A\u001b[1G\u001b[?25h\u001b[?2026l\u001b[?2026h\u001b[?25l\u001b[A\u001b[A\u001b[A\u001b[A\u001b[A\u001b[A\u001b[A\u001b[1G\u001b[?25h\u001b[?2026l\u001b[?2026h\u001b[?25l\u001b[A\u001b[A\u001b[A\u001b[A\u001b[A\u001b[A\u001b[A\u001b[1G\u001b[?25h\u001b[?2026l\u001b[?2026h\u001b[?25l\u001b[A\u001b[A\u001b[A\u001b[A\u001b[A\u001b[A\u001b[A\u001b[1G\u001b[?25h\u001b[?2026l\u001b[?2026h\u001b[?25l\u001b[A\u001b[A\u001b[A\u001b[A\u001b[A\u001b[A\u001b[A\u001b[1G\u001b[?25h\u001b[?2026l\u001b[?2026h\u001b[?25l\u001b[A\u001b[A\u001b[A\u001b[A\u001b[A\u001b[A\u001b[A\u001b[1G\u001b[?25h\u001b[?2026l\u001b[?2026h\u001b[?25l\u001b[A\u001b[A\u001b[A\u001b[A\u001b[A\u001b[A\u001b[A\u001b[1G\u001b[?25h\u001b[?2026l\u001b[?2026h\u001b[?25l\u001b[A\u001b[A\u001b[A\u001b[A\u001b[A\u001b[A\u001b[A\u001b[1G\u001b[?25h\u001b[?2026l\u001b[?2026h\u001b[?25l\u001b[A\u001b[A\u001b[A\u001b[A\u001b[A\u001b[A\u001b[A\u001b[1G\u001b[?25h\u001b[?2026l\u001b[?2026h\u001b[?25l\u001b[A\u001b[A\u001b[A\u001b[A\u001b[A\u001b[A\u001b[A\u001b[1G\u001b[?25h\u001b[?2026l\u001b[?2026h\u001b[?25l\u001b[A\u001b[A\u001b[A\u001b[A\u001b[A\u001b[A\u001b[A\u001b[1G\u001b[?25h\u001b[?2026l\u001b[?2026h\u001b[?25l\u001b[A\u001b[A\u001b[A\u001b[A\u001b[A\u001b[A\u001b[A\u001b[1G\u001b[?25h\u001b[?2026l\u001b[?2026h\u001b[?25l\u001b[A\u001b[A\u001b[A\u001b[A\u001b[A\u001b[A\u001b[A\u001b[1G\u001b[?25h\u001b[?2026l\u001b[?2026h\u001b[?25l\u001b[A\u001b[A\u001b[A\u001b[A\u001b[A\u001b[A\u001b[A\u001b[1G\u001b[?25h\u001b[?2026l\u001b[?2026h\u001b[?25l\u001b[A\u001b[A\u001b[A\u001b[A\u001b[A\u001b[A\u001b[A\u001b[1G\u001b[?25h\u001b[?2026l\u001b[?2026h\u001b[?25l\u001b[A\u001b[A\u001b[A\u001b[A\u001b[A\u001b[A\u001b[A\u001b[1G\u001b[?25h\u001b[?2026l\u001b[?2026h\u001b[?25l\u001b[A\u001b[A\u001b[A\u001b[A\u001b[A\u001b[A\u001b[A\u001b[1G\u001b[?25h\u001b[?2026l\u001b[?2026h\u001b[?25l\u001b[A\u001b[A\u001b[A\u001b[A\u001b[A\u001b[A\u001b[A\u001b[1G\u001b[?25h\u001b[?2026l\u001b[?2026h\u001b[?25l\u001b[A\u001b[A\u001b[A\u001b[A\u001b[A\u001b[A\u001b[A\u001b[1G\u001b[?25h\u001b[?2026l\u001b[?2026h\u001b[?25l\u001b[A\u001b[A\u001b[A\u001b[A\u001b[A\u001b[A\u001b[A\u001b[1G\u001b[?25h\u001b[?2026l\u001b[?2026h\u001b[?25l\u001b[A\u001b[A\u001b[A\u001b[A\u001b[A\u001b[A\u001b[A\u001b[1G\u001b[?25h\u001b[?2026l\u001b[?2026h\u001b[?25l\u001b[A\u001b[A\u001b[A\u001b[A\u001b[A\u001b[A\u001b[A\u001b[1G\u001b[?25h\u001b[?2026l\u001b[?2026h\u001b[?25l\u001b[A\u001b[A\u001b[A\u001b[A\u001b[A\u001b[A\u001b[A\u001b[1G\u001b[?25h\u001b[?2026l\u001b[?2026h\u001b[?25l\u001b[A\u001b[A\u001b[A\u001b[A\u001b[A\u001b[A\u001b[A\u001b[1G\u001b[?25h\u001b[?2026l\u001b[?2026h\u001b[?25l\u001b[A\u001b[A\u001b[A\u001b[A\u001b[A\u001b[A\u001b[A\u001b[1G\u001b[?25h\u001b[?2026l\u001b[?2026h\u001b[?25l\u001b[A\u001b[A\u001b[A\u001b[A\u001b[A\u001b[A\u001b[A\u001b[1G\u001b[?25h\u001b[?2026l\u001b[?2026h\u001b[?25l\u001b[A\u001b[A\u001b[A\u001b[A\u001b[A\u001b[A\u001b[A\u001b[1G\u001b[?25h\u001b[?2026l\u001b[?2026h\u001b[?25l\u001b[A\u001b[A\u001b[A\u001b[A\u001b[A\u001b[A\u001b[A\u001b[1G\u001b[?25h\u001b[?2026l\u001b[?2026h\u001b[?25l\u001b[A\u001b[A\u001b[A\u001b[A\u001b[A\u001b[A\u001b[A\u001b[1G\u001b[?25h\u001b[?2026l\u001b[?2026h\u001b[?25l\u001b[A\u001b[A\u001b[A\u001b[A\u001b[A\u001b[A\u001b[A\u001b[1G\u001b[?25h\u001b[?2026l\u001b[?2026h\u001b[?25l\u001b[A\u001b[A\u001b[A\u001b[A\u001b[A\u001b[A\u001b[A\u001b[1G\u001b[?25h\u001b[?2026l\u001b[?2026h\u001b[?25l\u001b[A\u001b[A\u001b[A\u001b[A\u001b[A\u001b[A\u001b[A\u001b[1G\u001b[?25h\u001b[?2026l\u001b[?2026h\u001b[?25l\u001b[A\u001b[A\u001b[A\u001b[A\u001b[A\u001b[A\u001b[A\u001b[1G\u001b[?25h\u001b[?2026l\u001b[?2026h\u001b[?25l\u001b[A\u001b[A\u001b[A\u001b[A\u001b[A\u001b[A\u001b[A\u001b[1G\u001b[?25h\u001b[?2026l\u001b[?2026h\u001b[?25l\u001b[A\u001b[A\u001b[A\u001b[A\u001b[A\u001b[A\u001b[A\u001b[1G\u001b[?25h\u001b[?2026l\u001b[?2026h\u001b[?25l\u001b[A\u001b[A\u001b[A\u001b[A\u001b[A\u001b[A\u001b[A\u001b[1G\u001b[?25h\u001b[?2026l\u001b[?2026h\u001b[?25l\u001b[A\u001b[A\u001b[A\u001b[A\u001b[A\u001b[A\u001b[A\u001b[1G\u001b[?25h\u001b[?2026l\u001b[?2026h\u001b[?25l\u001b[A\u001b[A\u001b[A\u001b[A\u001b[A\u001b[A\u001b[A\u001b[1G\u001b[?25h\u001b[?2026l\u001b[?2026h\u001b[?25l\u001b[A\u001b[A\u001b[A\u001b[A\u001b[A\u001b[A\u001b[A\u001b[1G\u001b[?25h\u001b[?2026l\u001b[?2026h\u001b[?25l\u001b[A\u001b[A\u001b[A\u001b[A\u001b[A\u001b[A\u001b[A\u001b[1G\u001b[?25h\u001b[?2026l\u001b[?2026h\u001b[?25l\u001b[A\u001b[A\u001b[A\u001b[A\u001b[A\u001b[A\u001b[A\u001b[1G\u001b[?25h\u001b[?2026l\u001b[?2026h\u001b[?25l\u001b[A\u001b[A\u001b[A\u001b[A\u001b[A\u001b[A\u001b[A\u001b[1G\u001b[?25h\u001b[?2026l\u001b[?2026h\u001b[?25l\u001b[A\u001b[A\u001b[A\u001b[A\u001b[A\u001b[A\u001b[A\u001b[1G\u001b[?25h\u001b[?2026l\u001b[?2026h\u001b[?25l\u001b[A\u001b[A\u001b[A\u001b[A\u001b[A\u001b[A\u001b[A\u001b[1G\u001b[?25h\u001b[?2026l\u001b[?2026h\u001b[?25l\u001b[A\u001b[A\u001b[A\u001b[A\u001b[A\u001b[A\u001b[A\u001b[1G\u001b[?25h\u001b[?2026l\u001b[?2026h\u001b[?25l\u001b[A\u001b[A\u001b[A\u001b[A\u001b[A\u001b[A\u001b[A\u001b[1G\u001b[?25h\u001b[?2026l\u001b[?2026h\u001b[?25l\u001b[A\u001b[A\u001b[A\u001b[A\u001b[A\u001b[A\u001b[A\u001b[1G\u001b[?25h\u001b[?2026l\u001b[?2026h\u001b[?25l\u001b[A\u001b[A\u001b[A\u001b[A\u001b[A\u001b[A\u001b[A\u001b[1G\u001b[?25h\u001b[?2026l\u001b[?2026h\u001b[?25l\u001b[A\u001b[A\u001b[A\u001b[A\u001b[A\u001b[A\u001b[A\u001b[1G\u001b[?25h\u001b[?2026l\u001b[?2026h\u001b[?25l\u001b[A\u001b[A\u001b[A\u001b[A\u001b[A\u001b[A\u001b[A\u001b[1G\u001b[?25h\u001b[?2026l\u001b[?2026h\u001b[?25l\u001b[A\u001b[A\u001b[A\u001b[A\u001b[A\u001b[A\u001b[A\u001b[1G\u001b[?25h\u001b[?2026l\u001b[?2026h\u001b[?25l\u001b[A\u001b[A\u001b[A\u001b[A\u001b[A\u001b[A\u001b[A\u001b[1G\u001b[?25h\u001b[?2026l\u001b[?2026h\u001b[?25l\u001b[A\u001b[A\u001b[A\u001b[A\u001b[A\u001b[A\u001b[A\u001b[1G\u001b[?25h\u001b[?2026l\u001b[?2026h\u001b[?25l\u001b[A\u001b[A\u001b[A\u001b[A\u001b[A\u001b[A\u001b[A\u001b[1G\u001b[?25h\u001b[?2026l\u001b[?2026h\u001b[?25l\u001b[A\u001b[A\u001b[A\u001b[A\u001b[A\u001b[A\u001b[A\u001b[1G\u001b[?25h\u001b[?2026l\u001b[?2026h\u001b[?25l\u001b[A\u001b[A\u001b[A\u001b[A\u001b[A\u001b[A\u001b[A\u001b[1G\u001b[?25h\u001b[?2026l\u001b[?2026h\u001b[?25l\u001b[A\u001b[A\u001b[A\u001b[A\u001b[A\u001b[A\u001b[A\u001b[1G\u001b[?25h\u001b[?2026l\u001b[?2026h\u001b[?25l\u001b[A\u001b[A\u001b[A\u001b[A\u001b[A\u001b[A\u001b[A\u001b[1G\u001b[?25h\u001b[?2026l\u001b[?2026h\u001b[?25l\u001b[A\u001b[A\u001b[A\u001b[A\u001b[A\u001b[A\u001b[A\u001b[1G\u001b[?25h\u001b[?2026l\u001b[?2026h\u001b[?25l\u001b[A\u001b[A\u001b[A\u001b[A\u001b[A\u001b[A\u001b[A\u001b[1G\u001b[?25h\u001b[?2026l\u001b[?2026h\u001b[?25l\u001b[A\u001b[A\u001b[A\u001b[A\u001b[A\u001b[A\u001b[A\u001b[1G\u001b[?25h\u001b[?2026l\u001b[?2026h\u001b[?25l\u001b[A\u001b[A\u001b[A\u001b[A\u001b[A\u001b[A\u001b[A\u001b[1G\u001b[?25h\u001b[?2026l\u001b[?2026h\u001b[?25l\u001b[A\u001b[A\u001b[A\u001b[A\u001b[A\u001b[A\u001b[A\u001b[1G\u001b[?25h\u001b[?2026l\u001b[?2026h\u001b[?25l\u001b[A\u001b[A\u001b[A\u001b[A\u001b[A\u001b[A\u001b[A\u001b[1G\u001b[?25h\u001b[?2026l\u001b[?2026h\u001b[?25l\u001b[A\u001b[A\u001b[A\u001b[A\u001b[A\u001b[A\u001b[A\u001b[1G\u001b[?25h\u001b[?2026l\u001b[?2026h\u001b[?25l\u001b[A\u001b[A\u001b[A\u001b[A\u001b[A\u001b[A\u001b[A\u001b[1G\u001b[?25h\u001b[?2026l\u001b[?2026h\u001b[?25l\u001b[A\u001b[A\u001b[A\u001b[A\u001b[A\u001b[A\u001b[A\u001b[1G\u001b[?25h\u001b[?2026l\u001b[?2026h\u001b[?25l\u001b[A\u001b[A\u001b[A\u001b[A\u001b[A\u001b[A\u001b[A\u001b[1G\u001b[?25h\u001b[?2026l\u001b[?2026h\u001b[?25l\u001b[A\u001b[A\u001b[A\u001b[A\u001b[A\u001b[A\u001b[A\u001b[1G\u001b[?25h\u001b[?2026l\u001b[?2026h\u001b[?25l\u001b[A\u001b[A\u001b[A\u001b[A\u001b[A\u001b[A\u001b[A\u001b[1G\u001b[?25h\u001b[?2026l\n"
          ]
        }
      ]
    },
    {
      "cell_type": "code",
      "source": [
        "!ollama list"
      ],
      "metadata": {
        "colab": {
          "base_uri": "https://localhost:8080/"
        },
        "id": "p38b1o-S7t_M",
        "outputId": "713a654d-c509-405d-ff8a-90d5e072fdd2"
      },
      "execution_count": 69,
      "outputs": [
        {
          "output_type": "stream",
          "name": "stdout",
          "text": [
            "NAME                                  ID              SIZE      MODIFIED               \n",
            "scb10x/typhoon2.1-gemma3-4b:latest    8cfab9097c9d    2.6 GB    Less than a second ago    \n",
            "gemma3:270m                           e7d36fb2c3b3    291 MB    4 minutes ago             \n"
          ]
        }
      ]
    },
    {
      "cell_type": "code",
      "source": [
        "llm3 = OllamaLLM(\n",
        "    model=\"scb10x/typhoon2.1-gemma3-4b\",\n",
        ")"
      ],
      "metadata": {
        "id": "dW11DW5881YA"
      },
      "execution_count": 70,
      "outputs": []
    },
    {
      "cell_type": "code",
      "source": [
        "%%time\n",
        "results = []\n",
        "for review in sample_reviews:\n",
        "    text = keyword_extract.invoke({\"review\": review})\n",
        "    cleaned = (text).replace(\"**\", \"\").strip()\n",
        "    results.append({\"review\": review, \"text\": cleaned})"
      ],
      "metadata": {
        "colab": {
          "base_uri": "https://localhost:8080/"
        },
        "id": "dQMgvKWx7wPI",
        "outputId": "5676f35e-7550-4b99-af10-de6e68639ce0"
      },
      "execution_count": 71,
      "outputs": [
        {
          "output_type": "stream",
          "name": "stdout",
          "text": [
            "CPU times: user 73.1 ms, sys: 5.14 ms, total: 78.2 ms\n",
            "Wall time: 7.55 s\n"
          ]
        }
      ]
    },
    {
      "cell_type": "code",
      "source": [
        "for result in results:\n",
        "    print(f\"Review {result['review'][:100]}...\")\n",
        "    print(f\"text {result['text']}\\n\")"
      ],
      "metadata": {
        "colab": {
          "base_uri": "https://localhost:8080/"
        },
        "id": "9Z7MM9Sw7yN6",
        "outputId": "8c350b2d-c492-4369-c34c-4834beea04ed"
      },
      "execution_count": 72,
      "outputs": [
        {
          "output_type": "stream",
          "name": "stdout",
          "text": [
            "Review ร้านอาหารใหญ่มากกกกกกก \n",
            "เลี้ยวเข้ามาเจอห้องน้ำก่อนเลย เออแปลกดี \n",
            "ห้องทานหลักๆอยู่ชั้น 2 มีกาแฟ น้ำผึ...\n",
            "text ```json\n",
            "{\"keywords\": [\"ร้านอาหาร\", \"ห้องน้ำ\", \"กาแฟ\", \"น้ำผึ้ง\", \"น้ำผึ้ง\", \"ลาบไข่ต้ม\", \"ไข่มัน\", \"ขนมไทย\", \"ขนมหวาน\", \"ฟรี\", \"ราคา\", \"เลิกกิน\", \"กินแล้ว\", \"ขนมหวาน\", \"ขนมไทย\", \"อาหาร\", \"อาหารใหญ่\", \"อาหารแก่\", \"อาหารไม่ดี\", \"อาหารเกินไป\", \"อาหารไม่ไหว\", \"อาหารเสียเงิน\", \"อาหารดี\", \"อาหารดีมาก\", \"อาหารดีมาก\", \"อาหารฟรี\", \"อาหารแก่\", \"อาหารไม่น่าพอใจ\", \"อาหารไม่น่าพอใจ\", \"อาหารไม่น่าทาน\", \"อาหารไม่น่าทานมาก\", \"อาหารไม่น่าทานมาก\", \"อาหารไม่น่าทานมาก\", \"อาหารไม่น่าทานมาก\" }\n",
            "]\n",
            "```\n",
            "\n",
            "Review วันนี้ได้มีโอกาสไปนั่งซดกาแฟที่ร้านวาวี แถวๆอารีย์\n",
            "\n",
            "ก็ได้ยินมาบ่อยๆละ จากหลายที่ แต่ที่บ่อยสุดก็จาก ...\n",
            "text ```json\n",
            "{\n",
            "  \"keywords\": [\n",
            "    \"ลาเต้\",\n",
            "    \"ร้อน\",\n",
            "    \"แก้วนึง\",\n",
            "    \"กาแฟ\",\n",
            "    \"ร้านวาวี\",\n",
            "    \"อารีย์\",\n",
            "    \"Starbuck\",\n",
            "    \"แฟนๆ Starbuck\",\n",
            "    \"Starbuck Bouquet\",\n",
            "    \"กาแฟรสชาติ\",\n",
            "    \"กาแฟกลิ่น\",\n",
            "    \"กาแฟมวยรุ่นเดียวกะ Starbuck\",\n",
            "    \"กาแฟเมพพ\",\n",
            "    \"กาแฟรสชาติ\",\n",
            "    \"กาแฟที่ร้านวาวี\",\n",
            "    \"กาแฟที่ร้านอารีย์\",\n",
            "    \"กาแฟที่บ้าน\",\n",
            "    \"กาแฟที่สีเขียว\",\n",
            "    \"กาแฟที่สวนบ้าน\",\n",
            "    \"กาแฟสีเขียว\",\n",
            "    \"กาแฟที่เมือง\"\n",
            "  ]\n",
            "}\n",
            "```\n",
            "\n"
          ]
        }
      ]
    },
    {
      "cell_type": "code",
      "source": [
        "from pydantic import BaseModel, Field\n",
        "from langchain_core.output_parsers import JsonOutputParser\n",
        "\n",
        "class ReviewKeywords(BaseModel):\n",
        "    keywords: str = Field(\n",
        "        ...,  # Required field\n",
        "        description=\"3 keywords separated by comma\",\n",
        "        examples=[\"กาแฟ, บรรยากาศ, ราคา\"]\n",
        "    )\n",
        "\n",
        "class KeywordsExtraction(BaseModel):\n",
        "    extracted_qualities: ReviewKeywords"
      ],
      "metadata": {
        "id": "nvdZ5fzh7zf7"
      },
      "execution_count": 73,
      "outputs": []
    },
    {
      "cell_type": "code",
      "source": [
        "keywords_parser = JsonOutputParser(pydantic_object=KeywordsExtraction)\n"
      ],
      "metadata": {
        "id": "YpSdMg3J70qy"
      },
      "execution_count": 74,
      "outputs": []
    },
    {
      "cell_type": "code",
      "source": [
        "keyword_extract = keyword_prompt | llm3 | keywords_parser\n"
      ],
      "metadata": {
        "id": "yFH4UOXh72ET"
      },
      "execution_count": 75,
      "outputs": []
    },
    {
      "cell_type": "code",
      "source": [
        "%%time\n",
        "results = []\n",
        "for review in sample_reviews:\n",
        "    text = keyword_extract.invoke({\"review\": review})\n",
        "    results.append({\"review\": review, \"text\": text})"
      ],
      "metadata": {
        "colab": {
          "base_uri": "https://localhost:8080/"
        },
        "id": "Cupm-UN974BX",
        "outputId": "3b622c96-aefc-4a9e-8fc9-30bcba595641"
      },
      "execution_count": 76,
      "outputs": [
        {
          "output_type": "stream",
          "name": "stdout",
          "text": [
            "CPU times: user 125 ms, sys: 12.5 ms, total: 138 ms\n",
            "Wall time: 15.5 s\n"
          ]
        }
      ]
    },
    {
      "cell_type": "code",
      "source": [
        "results[0]['text']['keywords']"
      ],
      "metadata": {
        "colab": {
          "base_uri": "https://localhost:8080/"
        },
        "id": "qZcnji7j7568",
        "outputId": "16171c02-c2da-4876-b43a-d006dc8471d6"
      },
      "execution_count": 77,
      "outputs": [
        {
          "output_type": "execute_result",
          "data": {
            "text/plain": [
              "['ราคาแพง', 'ทอดมันหัวปลี', 'อาหารไทย']"
            ]
          },
          "metadata": {},
          "execution_count": 77
        }
      ]
    },
    {
      "cell_type": "code",
      "source": [
        "results[1]['text']['keywords']"
      ],
      "metadata": {
        "colab": {
          "base_uri": "https://localhost:8080/"
        },
        "id": "TynSRG3887TP",
        "outputId": "1b2d90ea-fd21-479a-f56c-4c2c46bc83a4"
      },
      "execution_count": 78,
      "outputs": [
        {
          "output_type": "execute_result",
          "data": {
            "text/plain": [
              "['กาแฟ', 'บรรยากาศ', 'อร่อย']"
            ]
          },
          "metadata": {},
          "execution_count": 78
        }
      ]
    },
    {
      "cell_type": "code",
      "source": [
        "llm3 = OllamaLLM(\n",
        "    model=\"scb10x/typhoon2.1-gemma3-4b\",\n",
        "    temperature=0.05\n",
        ")\n",
        "\n",
        "keyword_extract = keyword_prompt | llm3 | keywords_parser"
      ],
      "metadata": {
        "id": "P1QbceMF9aAr"
      },
      "execution_count": 79,
      "outputs": []
    },
    {
      "cell_type": "code",
      "source": [
        "%%time\n",
        "results = []\n",
        "for review in sample_reviews:\n",
        "    text = keyword_extract.invoke({\"review\": review})\n",
        "    results.append({\"review\": review, \"text\": text})"
      ],
      "metadata": {
        "colab": {
          "base_uri": "https://localhost:8080/"
        },
        "id": "FiI_bvHP9aUw",
        "outputId": "6fd53e2c-5135-4a8b-ca8a-dc5b2ca80ef0"
      },
      "execution_count": 80,
      "outputs": [
        {
          "output_type": "stream",
          "name": "stdout",
          "text": [
            "CPU times: user 135 ms, sys: 6.49 ms, total: 142 ms\n",
            "Wall time: 13.1 s\n"
          ]
        }
      ]
    },
    {
      "cell_type": "code",
      "source": [
        "results[0]['text']['keywords'], results[1]['text']['keywords']"
      ],
      "metadata": {
        "colab": {
          "base_uri": "https://localhost:8080/"
        },
        "id": "4M_E4phr9caH",
        "outputId": "b22298bc-d73c-4d65-ee9e-f968554c48c4"
      },
      "execution_count": 81,
      "outputs": [
        {
          "output_type": "execute_result",
          "data": {
            "text/plain": [
              "(['ราคา', 'อาหาร', 'ขนาด'], ['กาแฟ', 'บรรยากาศ', 'รสชาติ'])"
            ]
          },
          "metadata": {},
          "execution_count": 81
        }
      ]
    },
    {
      "cell_type": "code",
      "source": [
        "keyword_prompt = PromptTemplate(\n",
        "    template=\"\"\"จาก Review ต่อไปนี้\n",
        "    Extract keywords 3 keywords เท่านั้น ที่เป็นตัวแทนของ Review นี้ได้ดีที่สุด\n",
        "\n",
        "    Review: {review}\n",
        "\n",
        "    ตอบในรูปแบบ JSON โดยมีคีย์เป็น 'keywords'\n",
        "    และค่าเป็นข้อความที่ดึงได้คั่นด้วย comma\n",
        "    เช่น {{\"keywords\": \"กาแฟ, บรรยากาศ, ราคา\"}}\n",
        "\n",
        "    หากไม่พบข้อมูลให้ตอบ 'ไม่ระบุ'\n",
        "    \"\"\"\n",
        ")"
      ],
      "metadata": {
        "id": "2fgvuFx49dpN"
      },
      "execution_count": 82,
      "outputs": []
    },
    {
      "cell_type": "code",
      "source": [
        "keyword_extract = keyword_prompt | llm3 | keywords_parser"
      ],
      "metadata": {
        "id": "DRIxgAEs9fhZ"
      },
      "execution_count": 83,
      "outputs": []
    },
    {
      "cell_type": "code",
      "source": [
        "inputs = [{\"review\": r} for r in sample_reviews]"
      ],
      "metadata": {
        "id": "ChYUsqFR9gu7"
      },
      "execution_count": 84,
      "outputs": []
    },
    {
      "cell_type": "code",
      "source": [
        "%%time\n",
        "results = keyword_extract.batch(inputs)"
      ],
      "metadata": {
        "colab": {
          "base_uri": "https://localhost:8080/"
        },
        "id": "eShuXTxb9hxF",
        "outputId": "4fdc0fc3-1757-4c24-e42b-7c958e525038"
      },
      "execution_count": 85,
      "outputs": [
        {
          "output_type": "stream",
          "name": "stdout",
          "text": [
            "CPU times: user 20.4 ms, sys: 191 µs, total: 20.6 ms\n",
            "Wall time: 2.34 s\n"
          ]
        }
      ]
    },
    {
      "cell_type": "code",
      "source": [
        "results"
      ],
      "metadata": {
        "colab": {
          "base_uri": "https://localhost:8080/"
        },
        "id": "nV-DdRNu9iqE",
        "outputId": "1b82e590-dfc3-4ed2-dea8-54e5e3abd13b"
      },
      "execution_count": 86,
      "outputs": [
        {
          "output_type": "execute_result",
          "data": {
            "text/plain": [
              "[{'keywords': 'ราคา, บรรยากาศ, ไข่ต้ม'},\n",
              " {'keywords': 'กาแฟ, บรรยากาศ, รสชาติ'}]"
            ]
          },
          "metadata": {},
          "execution_count": 86
        }
      ]
    },
    {
      "cell_type": "code",
      "source": [
        "sample_reviews_1000 = coffee_reviews_df['column0'].head(1000).tolist()\n",
        "inputs_1000 = [{\"review\": r} for r in sample_reviews_1000]\n",
        "\n",
        "BATCH_SIZE = 8\n",
        "\n",
        "results_1000 = []"
      ],
      "metadata": {
        "id": "BJEs3TLk9j7j"
      },
      "execution_count": 87,
      "outputs": []
    },
    {
      "cell_type": "code",
      "source": [
        "from tqdm import tqdm"
      ],
      "metadata": {
        "id": "8eoCmlPo9lhh"
      },
      "execution_count": 88,
      "outputs": []
    },
    {
      "cell_type": "code",
      "source": [
        "for i in tqdm(range(0, len(inputs_1000), BATCH_SIZE), desc=\"Extracting keywords\"):\n",
        "    batch = inputs_1000[i:i+BATCH_SIZE]\n",
        "    outputs = keyword_extract.batch(batch)\n",
        "    for inp, out in zip(batch, outputs):\n",
        "        results_1000.append({\"review\": inp[\"review\"], \"text\": out})"
      ],
      "metadata": {
        "colab": {
          "base_uri": "https://localhost:8080/"
        },
        "id": "997pYQVZ9meZ",
        "outputId": "51a2b772-bc21-4595-9284-8de1f6294ff8"
      },
      "execution_count": 89,
      "outputs": [
        {
          "output_type": "stream",
          "name": "stderr",
          "text": [
            "Extracting keywords: 100%|██████████| 125/125 [19:39<00:00,  9.44s/it]\n"
          ]
        }
      ]
    },
    {
      "cell_type": "code",
      "source": [
        "for result in results_1000[0:10]:\n",
        "    print(result['text']['keywords'])"
      ],
      "metadata": {
        "colab": {
          "base_uri": "https://localhost:8080/"
        },
        "id": "5_DFvtqf9oJT",
        "outputId": "e4161b02-e1dd-4a6a-9055-66a87aa728a3"
      },
      "execution_count": 90,
      "outputs": [
        {
          "output_type": "stream",
          "name": "stdout",
          "text": [
            "ราคา, บรรยากาศ, ไข่ต้ม\n",
            "กาแฟ, บรรยากาศ, รสชาติ\n",
            "โดนัท, รสชาติ, ความหวาน\n",
            "วาซาบิ, ปลาซาบะ, ข้าวหน้าปลา\n",
            "โดนัท, Original Glazed, คิว\n",
            "วังพญาไท, นรสิงห์, คาเฟ่\n",
            "อาหารทะเล, ราคา, บรรยากาศ\n",
            "กาแฟ, เค้ก, พนักงาน\n",
            "ฮันนี่ โทสท์, ราคา, รสชาติ\n",
            "คาเฟ่, วานิลลา, คาโบนาร่า\n"
          ]
        }
      ]
    },
    {
      "cell_type": "code",
      "source": [
        "context_prompt = PromptTemplate(\n",
        "    template=\"\"\"จาก Review ต่อไปนี้\n",
        "    Extract context ใน Review ที่เป็นตัวแทนที่บรรยายคำว่า {keyword} ได้ดีที่สุด\n",
        "\n",
        "    Review: {review}\n",
        "\n",
        "    ตอบผลลัพธ์ในรูปแบบ JSON โดยมีคีย์เป็น 'context'\n",
        "    และค่าเป็นข้อความที่ดึงได้จาก Review\n",
        "\n",
        "    ตัวอย่าง\n",
        "    keyword คือ \"กาแฟ\"\n",
        "    context: \"กาแฟที่นี่อร่อยมาก หอมกลิ่นกาแฟคั่วสด\"\n",
        "\n",
        "    หากไม่พบข้อมูลให้ตอบ 'ไม่ระบุ'\n",
        "    \"\"\"\n",
        ")"
      ],
      "metadata": {
        "id": "-hmYWSza9p9H"
      },
      "execution_count": 91,
      "outputs": []
    },
    {
      "cell_type": "code",
      "source": [
        "sentiment_prompt = PromptTemplate(\n",
        "    template=\"\"\"จากข้อความต่อไปนี้ ให้วิเคราะห์ว่าเป็น sentiment แบบไหน\n",
        "    เลือกจากตัวเลือกเหล่านี้เท่านั้น: \"positive\", \"negative\", \"neutral\"\n",
        "\n",
        "    ข้อความ: {message}\n",
        "\n",
        "    ตอบในรูปแบบ JSON โดยมีคีย์เป็น 'sentiment'\n",
        "    และค่าเป็นหนึ่งใน list ต่อไปนี้ [positive, negative, neutral]\n",
        "\n",
        "    คำแนะนำ\n",
        "    - positive คือ ข้อความที่แสดงความพอใจ ชอบ ดี\n",
        "    - negative คือ ข้อความที่แสดงความไม่พอใจ ไม่ชอบ แย่\n",
        "    - neutral คือ ข้อความที่ไม่แสดงความรู้สึกชัดเจน เป็นกลาง\n",
        "\n",
        "    # ตัวอย่าง\n",
        "    # ข้อความ \"อร่อยมาก\" → {{\"sentiment\": \"positive\"}}\n",
        "    # ข้อความ \"แพงไป\" → {{\"sentiment\": \"negative\"}}\n",
        "    # ข้อความ \"ปกติ\" → {{\"sentiment\": \"neutral\"}}\n",
        "    \"\"\"\n",
        ")\n"
      ],
      "metadata": {
        "id": "NdGcRbM-9rcs"
      },
      "execution_count": 92,
      "outputs": []
    },
    {
      "cell_type": "code",
      "source": [
        "class ContextKeyword(BaseModel):\n",
        "    context: str = Field(..., description=\"context that best represent this keyword\")\n",
        "\n",
        "class ContexExtraction(BaseModel):\n",
        "    extracted: ContextKeyword\n",
        "\n",
        "context_parser = JsonOutputParser(pydantic_object=ContexExtraction)"
      ],
      "metadata": {
        "id": "3nP0sQrn9s9f"
      },
      "execution_count": 93,
      "outputs": []
    },
    {
      "cell_type": "code",
      "source": [
        "context_extract = context_prompt | llm3 | context_parser"
      ],
      "metadata": {
        "id": "QJblk2fc9uRn"
      },
      "execution_count": 94,
      "outputs": []
    },
    {
      "cell_type": "code",
      "source": [
        "class Sentiment(BaseModel):\n",
        "    sentiment: str = Field(..., description=\"sentiment of review\")\n",
        "\n",
        "class SentimentExtraction(BaseModel):\n",
        "    extracted: Sentiment\n",
        "\n",
        "\n",
        "sentiment_parser = JsonOutputParser(pydantic_object=SentimentExtraction)"
      ],
      "metadata": {
        "id": "YVF-lXIw9wCE"
      },
      "execution_count": 95,
      "outputs": []
    },
    {
      "cell_type": "code",
      "source": [
        "sentiment_extract = sentiment_prompt | llm3 | sentiment_parser"
      ],
      "metadata": {
        "id": "EhagBGZq9x4t"
      },
      "execution_count": 96,
      "outputs": []
    },
    {
      "cell_type": "code",
      "source": [
        "results_1000[0]['text']['keywords'].split(',')"
      ],
      "metadata": {
        "colab": {
          "base_uri": "https://localhost:8080/"
        },
        "id": "HHg565Ds9yzq",
        "outputId": "a3f05cf9-4245-4a29-8e7c-e8a13c8e5b97"
      },
      "execution_count": 99,
      "outputs": [
        {
          "output_type": "execute_result",
          "data": {
            "text/plain": [
              "['ราคา', ' บรรยากาศ', ' ไข่ต้ม']"
            ]
          },
          "metadata": {},
          "execution_count": 99
        }
      ]
    },
    {
      "cell_type": "code",
      "source": [
        "context_inputs = []\n",
        "\n",
        "for review_data in tqdm(results_1000, desc=\"Preparing context inputs\"):\n",
        "    review = review_data['review']\n",
        "    keywords = review_data['text']['keywords'].split(',')\n",
        "    for keyword in keywords:\n",
        "        context_inputs.append({\"review\": review, \"keyword\": keyword.strip()})"
      ],
      "metadata": {
        "colab": {
          "base_uri": "https://localhost:8080/"
        },
        "id": "Nah5jYJY9zsH",
        "outputId": "3bca723e-6f12-4725-a82d-34f776582057"
      },
      "execution_count": 100,
      "outputs": [
        {
          "output_type": "stream",
          "name": "stderr",
          "text": [
            "Preparing context inputs: 100%|██████████| 1000/1000 [00:00<00:00, 167752.03it/s]\n"
          ]
        }
      ]
    },
    {
      "cell_type": "code",
      "source": [
        "len(context_inputs)"
      ],
      "metadata": {
        "colab": {
          "base_uri": "https://localhost:8080/"
        },
        "id": "BxRE_jT6903b",
        "outputId": "e57dedf3-6c30-4c8d-a037-7c5903113a58"
      },
      "execution_count": 101,
      "outputs": [
        {
          "output_type": "execute_result",
          "data": {
            "text/plain": [
              "3000"
            ]
          },
          "metadata": {},
          "execution_count": 101
        }
      ]
    },
    {
      "cell_type": "code",
      "source": [
        "context_results = []\n",
        "for i in tqdm(range(len(results_1000)), desc=\"Extracting contexts\"):\n",
        "   result = context_extract.batch(context_inputs[i*3:(i*3)+3])\n",
        "   contexts_list = [d['context'] for d in result]\n",
        "   results_1000[i]['contexts'] = contexts_list"
      ],
      "metadata": {
        "colab": {
          "base_uri": "https://localhost:8080/"
        },
        "id": "X35-5uRE92At",
        "outputId": "4d504973-6c48-448b-ad21-cc64fe4abe5c"
      },
      "execution_count": 104,
      "outputs": [
        {
          "output_type": "stream",
          "name": "stderr",
          "text": [
            "Extracting contexts: 100%|██████████| 1000/1000 [1:13:34<00:00,  4.41s/it]\n"
          ]
        }
      ]
    },
    {
      "cell_type": "code",
      "source": [
        "results_1000[:2]"
      ],
      "metadata": {
        "colab": {
          "base_uri": "https://localhost:8080/"
        },
        "id": "8B1IhPiJ93in",
        "outputId": "0b672d79-27b3-495b-9afe-779f07ad525d"
      },
      "execution_count": 106,
      "outputs": [
        {
          "output_type": "execute_result",
          "data": {
            "text/plain": [
              "[{'review': 'ร้านอาหารใหญ่มากกกกกกก \\nเลี้ยวเข้ามาเจอห้องน้ำก่อนเลย เออแปลกดี \\nห้องทานหลักๆอยู่ชั้น 2 มีกาแฟ น้ำผึ้ง ซึ่งก็แค่เอาน้ำผึ้งมาราด แพงเวอร์ อย่าสั่งเลย \\nลาบไข่ต้ม ไข่มันคาวอะ เลยไม่ประทับใจเท่าไหร่\\nทอดมันหัวปลีกรอบอร่อยต้องเบิ้ล \\nพะแนงห่อไข่อร่อยดี เห้ยแต่ราคา 150บาทมันเกินไปนะ รับไม่ไหวว\\nเลิกกินแล้วมีขนมหวานให้กินฟรีเล็กน้อย )ขนมไทย) \\n\\nคงไม่ไปซ้ำ แพงเกิน ',\n",
              "  'text': {'keywords': 'ราคา, บรรยากาศ, ไข่ต้ม'},\n",
              "  'contexts': ['ราคา 150 บาทมันเกินไปนะ รับไม่ไหวว',\n",
              "   'บรรยากาศร้านใหญ่มากกกกกกก',\n",
              "   'ไข่ต้ม']},\n",
              " {'review': 'วันนี้ได้มีโอกาสไปนั่งซดกาแฟที่ร้านวาวี แถวๆอารีย์\\n\\nก็ได้ยินมาบ่อยๆละ จากหลายที่ แต่ที่บ่อยสุดก็จาก Twitter ว่ากาแฟที่นี่อร่อยมากกกกกกก\\nเรียกว่าระดับแฟนๆ Starbuck ยังต้องเหลียวมามอง ก็ดองมานานจนถึงวันนี้โอกาสเหมาะ ไป\\npresent งานที่ตึก Software Park เสร็จก็เลยมาหาไรกินแถวนี้พอดี\\nจัดไป.....\\n\\n\\nบรรยากาศรอบๆร้านก็แต่งได้น่านั่ง อารมณ์ประมาณว่าอยู่ในสวนบ้านเราเอง ต้นไม้เยอะดี\\nอย่างน้อยก็เป็นสีเขียวเล็กๆ ในใจกลางเมืองได้ละ\\nเขียวชอุ่ม\\n\\nว่าแล้วไม่รอช้าขอ Test ไม่สิ Taste เลยดีกว่าเดินเข้าร้านทันใด ป้าบบ...\\n\\n\"พี่คับ เอา...ลาเต้ ร้อนแก้วนึงคับ\"\\nว่างๆ มานั่งจิบกาแฟ ฟังเพลง พักผ่อนได้ดีทีเดียว\\n\\nจ่ายตังเสร็จ ก็ถูกพนักงานอัญเชิญไปรอที่โต๊ะ 55+ เพราะที่นี่เขาเสริฟให้ถึงที่ หุๆ\\nก็เลือกที่นั่งริมกระจก จะได้เห็นสาวๆ เอ้ย วิวถนัดๆหน่อย\\nนั่งชมวิวรอกาแฟมา\\n\\nไม่นานเกินอึดใจ ไวไวยังไม่ทันสุก ลาเต้ร้อนๆก็มาวางอยู่ข้างหน้า\\nซู้ดดดดดดด อ่าห์\\n\\nชำเลืองตามองลงไป....โอ้วว ที่นี่มีเล่นลายฟองนมด้วยเว้ยยย\\nแต่พอดีด้วยความตะกละไปนิดดันฉีกน้ำตาลเทใส่แล้วเผลอคน ก็เลยไม่ได้\\nถ่ายรูปมาให้ดู 55+ เหลือแต่ซากอารยธรรมลาเต้เมพๆ\\n\\n\\nหน้าตาผ่าน ที่นี่ก็รสชาติ 1...2.....ชู้ดดดดดดด\\nเฮ้ยยย นี่มัน....เมพพพพ ถึงเราจะไม่ค่อยรู้เรื่องกาแฟมากนัก แต่เท่าที่เคยลองชิมๆ\\nมา รสชาติและกลิ่นมันไม่ธรรมดาเลย หอมๆ ถือว่าเป็นมวยรุ่นเดียวกะ Starbuck ได้\\n\\n\\nเมนูอื่นๆ ลองชิม Coco ปั่น ของเพื่อนก็แหล่มไม่แพ้กัน วิปครีมหวานมัน โกโก้ก็หอม\\nส่วนเพื่อนอีกคนสั่งน้ำส้มกะเค้กช็อกโกแลตมันก็บอกว่าแจ่ม ......\\n\\n\\nสรุปก็คือ บรรยากาศก็ดี บริการก็ดี กาแฟอร่อย ราคาไม่แพง(แต่กินบ่อยก็จุกได้)\\nถ้าครายผ่านแถวอารีย์มากินเหอะ ซอยไรจำไม่ได้รู้แต่อยู่ตรงข้าม Villa ตรง BS อารีย์เลยอะ 55+\\n\\nถ่ายโดย : Tan\\nกล้อง : ซัมซวย Omnia i900 (สีภาพถึงได้ไม่ค่อยสวยเท่าไหร) ',\n",
              "  'text': {'keywords': 'กาแฟ, บรรยากาศ, รสชาติ'},\n",
              "  'contexts': ['กาแฟที่นี่อร่อยมากกกกกกก เรียกว่าระดับแฟนๆ Starbuck ยังต้องเหลียวมามอง',\n",
              "   'บรรยากาศรอบๆร้านก็แต่งได้น่านั่ง อารมณ์ประมาณว่าอยู่ในสวนบ้านเราเอง ต้นไม้เยอะดี อย่างน้อยก็เป็นสีเขียวเล็กๆ ในใจกลางเมืองได้ละ เขียวชอุ่ม',\n",
              "   'รสชาติและกลิ่นมันไม่ธรรมดาเลย หอมๆ ถือว่าเป็นมวยรุ่นเดียวกะ Starbuck ได้']}]"
            ]
          },
          "metadata": {},
          "execution_count": 106
        }
      ]
    },
    {
      "cell_type": "code",
      "source": [
        "sentiment_inputs = []\n",
        "\n",
        "for review_data in tqdm(results_1000, desc=\"Preparing sentiment inputs\"):\n",
        "    contexts = review_data['contexts']\n",
        "    for context in contexts:\n",
        "        sentiment_inputs.append({\"message\": context})"
      ],
      "metadata": {
        "colab": {
          "base_uri": "https://localhost:8080/"
        },
        "id": "Mm-oHmgO94qs",
        "outputId": "1eea24d7-50c8-4779-acaf-3c1005e037e0"
      },
      "execution_count": 108,
      "outputs": [
        {
          "output_type": "stream",
          "name": "stderr",
          "text": [
            "Preparing sentiment inputs: 100%|██████████| 1000/1000 [00:00<00:00, 82419.02it/s]\n"
          ]
        }
      ]
    },
    {
      "cell_type": "code",
      "source": [
        "len(sentiment_inputs)"
      ],
      "metadata": {
        "colab": {
          "base_uri": "https://localhost:8080/"
        },
        "id": "yk_2dVeD97KL",
        "outputId": "bd2facc0-ef7c-4e05-c7a8-e96d06bd2aca"
      },
      "execution_count": 109,
      "outputs": [
        {
          "output_type": "execute_result",
          "data": {
            "text/plain": [
              "3000"
            ]
          },
          "metadata": {},
          "execution_count": 109
        }
      ]
    },
    {
      "cell_type": "code",
      "source": [
        "sentiment_inputs[:6]"
      ],
      "metadata": {
        "colab": {
          "base_uri": "https://localhost:8080/"
        },
        "id": "rQyH9aUO979I",
        "outputId": "490fa2f5-ab6b-4ea0-94f8-87b45dc56ac2"
      },
      "execution_count": 110,
      "outputs": [
        {
          "output_type": "execute_result",
          "data": {
            "text/plain": [
              "[{'message': 'ราคา 150 บาทมันเกินไปนะ รับไม่ไหวว'},\n",
              " {'message': 'บรรยากาศร้านใหญ่มากกกกกกก'},\n",
              " {'message': 'ไข่ต้ม'},\n",
              " {'message': 'กาแฟที่นี่อร่อยมากกกกกกก เรียกว่าระดับแฟนๆ Starbuck ยังต้องเหลียวมามอง'},\n",
              " {'message': 'บรรยากาศรอบๆร้านก็แต่งได้น่านั่ง อารมณ์ประมาณว่าอยู่ในสวนบ้านเราเอง ต้นไม้เยอะดี อย่างน้อยก็เป็นสีเขียวเล็กๆ ในใจกลางเมืองได้ละ เขียวชอุ่ม'},\n",
              " {'message': 'รสชาติและกลิ่นมันไม่ธรรมดาเลย หอมๆ ถือว่าเป็นมวยรุ่นเดียวกะ Starbuck ได้'}]"
            ]
          },
          "metadata": {},
          "execution_count": 110
        }
      ]
    },
    {
      "cell_type": "code",
      "source": [
        "for i in tqdm(range(len(results_1000)), desc=\"Extracting sentiment\"):\n",
        "   result = sentiment_extract.batch(sentiment_inputs[i*3:(i*3)+3])\n",
        "   sentiment_list = [d['sentiment'] for d in result]\n",
        "   results_1000[i]['sentiment'] = sentiment_list"
      ],
      "metadata": {
        "colab": {
          "base_uri": "https://localhost:8080/"
        },
        "id": "MBxX-xjD98yK",
        "outputId": "cb30ef03-5d1d-40a7-915c-7ad42375a194"
      },
      "execution_count": 111,
      "outputs": [
        {
          "output_type": "stream",
          "name": "stderr",
          "text": [
            "Extracting sentiment: 100%|██████████| 1000/1000 [43:14<00:00,  2.59s/it]\n"
          ]
        }
      ]
    },
    {
      "cell_type": "code",
      "source": [
        "results_1000[0:2]"
      ],
      "metadata": {
        "colab": {
          "base_uri": "https://localhost:8080/"
        },
        "id": "DumPGgaX9_Fw",
        "outputId": "276f97f6-6197-4118-c710-f0177e215c53"
      },
      "execution_count": 113,
      "outputs": [
        {
          "output_type": "execute_result",
          "data": {
            "text/plain": [
              "[{'review': 'ร้านอาหารใหญ่มากกกกกกก \\nเลี้ยวเข้ามาเจอห้องน้ำก่อนเลย เออแปลกดี \\nห้องทานหลักๆอยู่ชั้น 2 มีกาแฟ น้ำผึ้ง ซึ่งก็แค่เอาน้ำผึ้งมาราด แพงเวอร์ อย่าสั่งเลย \\nลาบไข่ต้ม ไข่มันคาวอะ เลยไม่ประทับใจเท่าไหร่\\nทอดมันหัวปลีกรอบอร่อยต้องเบิ้ล \\nพะแนงห่อไข่อร่อยดี เห้ยแต่ราคา 150บาทมันเกินไปนะ รับไม่ไหวว\\nเลิกกินแล้วมีขนมหวานให้กินฟรีเล็กน้อย )ขนมไทย) \\n\\nคงไม่ไปซ้ำ แพงเกิน ',\n",
              "  'text': {'keywords': 'ราคา, บรรยากาศ, ไข่ต้ม'},\n",
              "  'contexts': ['ราคา 150 บาทมันเกินไปนะ รับไม่ไหวว',\n",
              "   'บรรยากาศร้านใหญ่มากกกกกกก',\n",
              "   'ไข่ต้ม'],\n",
              "  'sentiment': ['negative', 'positive', 'neutral']},\n",
              " {'review': 'วันนี้ได้มีโอกาสไปนั่งซดกาแฟที่ร้านวาวี แถวๆอารีย์\\n\\nก็ได้ยินมาบ่อยๆละ จากหลายที่ แต่ที่บ่อยสุดก็จาก Twitter ว่ากาแฟที่นี่อร่อยมากกกกกกก\\nเรียกว่าระดับแฟนๆ Starbuck ยังต้องเหลียวมามอง ก็ดองมานานจนถึงวันนี้โอกาสเหมาะ ไป\\npresent งานที่ตึก Software Park เสร็จก็เลยมาหาไรกินแถวนี้พอดี\\nจัดไป.....\\n\\n\\nบรรยากาศรอบๆร้านก็แต่งได้น่านั่ง อารมณ์ประมาณว่าอยู่ในสวนบ้านเราเอง ต้นไม้เยอะดี\\nอย่างน้อยก็เป็นสีเขียวเล็กๆ ในใจกลางเมืองได้ละ\\nเขียวชอุ่ม\\n\\nว่าแล้วไม่รอช้าขอ Test ไม่สิ Taste เลยดีกว่าเดินเข้าร้านทันใด ป้าบบ...\\n\\n\"พี่คับ เอา...ลาเต้ ร้อนแก้วนึงคับ\"\\nว่างๆ มานั่งจิบกาแฟ ฟังเพลง พักผ่อนได้ดีทีเดียว\\n\\nจ่ายตังเสร็จ ก็ถูกพนักงานอัญเชิญไปรอที่โต๊ะ 55+ เพราะที่นี่เขาเสริฟให้ถึงที่ หุๆ\\nก็เลือกที่นั่งริมกระจก จะได้เห็นสาวๆ เอ้ย วิวถนัดๆหน่อย\\nนั่งชมวิวรอกาแฟมา\\n\\nไม่นานเกินอึดใจ ไวไวยังไม่ทันสุก ลาเต้ร้อนๆก็มาวางอยู่ข้างหน้า\\nซู้ดดดดดดด อ่าห์\\n\\nชำเลืองตามองลงไป....โอ้วว ที่นี่มีเล่นลายฟองนมด้วยเว้ยยย\\nแต่พอดีด้วยความตะกละไปนิดดันฉีกน้ำตาลเทใส่แล้วเผลอคน ก็เลยไม่ได้\\nถ่ายรูปมาให้ดู 55+ เหลือแต่ซากอารยธรรมลาเต้เมพๆ\\n\\n\\nหน้าตาผ่าน ที่นี่ก็รสชาติ 1...2.....ชู้ดดดดดดด\\nเฮ้ยยย นี่มัน....เมพพพพ ถึงเราจะไม่ค่อยรู้เรื่องกาแฟมากนัก แต่เท่าที่เคยลองชิมๆ\\nมา รสชาติและกลิ่นมันไม่ธรรมดาเลย หอมๆ ถือว่าเป็นมวยรุ่นเดียวกะ Starbuck ได้\\n\\n\\nเมนูอื่นๆ ลองชิม Coco ปั่น ของเพื่อนก็แหล่มไม่แพ้กัน วิปครีมหวานมัน โกโก้ก็หอม\\nส่วนเพื่อนอีกคนสั่งน้ำส้มกะเค้กช็อกโกแลตมันก็บอกว่าแจ่ม ......\\n\\n\\nสรุปก็คือ บรรยากาศก็ดี บริการก็ดี กาแฟอร่อย ราคาไม่แพง(แต่กินบ่อยก็จุกได้)\\nถ้าครายผ่านแถวอารีย์มากินเหอะ ซอยไรจำไม่ได้รู้แต่อยู่ตรงข้าม Villa ตรง BS อารีย์เลยอะ 55+\\n\\nถ่ายโดย : Tan\\nกล้อง : ซัมซวย Omnia i900 (สีภาพถึงได้ไม่ค่อยสวยเท่าไหร) ',\n",
              "  'text': {'keywords': 'กาแฟ, บรรยากาศ, รสชาติ'},\n",
              "  'contexts': ['กาแฟที่นี่อร่อยมากกกกกกก เรียกว่าระดับแฟนๆ Starbuck ยังต้องเหลียวมามอง',\n",
              "   'บรรยากาศรอบๆร้านก็แต่งได้น่านั่ง อารมณ์ประมาณว่าอยู่ในสวนบ้านเราเอง ต้นไม้เยอะดี อย่างน้อยก็เป็นสีเขียวเล็กๆ ในใจกลางเมืองได้ละ เขียวชอุ่ม',\n",
              "   'รสชาติและกลิ่นมันไม่ธรรมดาเลย หอมๆ ถือว่าเป็นมวยรุ่นเดียวกะ Starbuck ได้'],\n",
              "  'sentiment': ['positive', 'positive', 'positive']}]"
            ]
          },
          "metadata": {},
          "execution_count": 113
        }
      ]
    },
    {
      "cell_type": "code",
      "source": [
        "import pandas as pd\n",
        "\n",
        "df = pd.DataFrame([\n",
        "    {\n",
        "        'review': r['review'],\n",
        "        **{f'keyword{i+1}': k.strip() for i, k in enumerate(r['text']['keywords'].split(','))},\n",
        "        **{f'context{i+1}_keyword': c for i, c in enumerate(r['contexts'])},\n",
        "        **{f'sentiment{i+1}': s for i, s in enumerate(r['sentiment'])}\n",
        "    }\n",
        "    for r in results_1000\n",
        "])"
      ],
      "metadata": {
        "id": "MZmPB59B9_-B"
      },
      "execution_count": 114,
      "outputs": []
    },
    {
      "cell_type": "code",
      "source": [
        "df.to_csv('results.csv', index=False, encoding='utf-8-sig')"
      ],
      "metadata": {
        "id": "doeeqH8_-BM0"
      },
      "execution_count": 115,
      "outputs": []
    },
    {
      "cell_type": "code",
      "source": [],
      "metadata": {
        "id": "4GbIg5zcVOtk"
      },
      "execution_count": null,
      "outputs": []
    }
  ]
}